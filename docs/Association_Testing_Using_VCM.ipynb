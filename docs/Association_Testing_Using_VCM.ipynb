{
 "cells": [
  {
   "cell_type": "markdown",
   "metadata": {},
   "source": [
    "# Association Testing Using Variance Component Model"
   ]
  },
  {
   "cell_type": "markdown",
   "metadata": {},
   "source": [
    "In this notebook, we read in the Mendel Option 29 (Ped-GWAS) data and demonstrate association study using our most associated SNP and trait2. Is a consequence of the analysis we can also estimate the heritability. If you want to test your Julia skills, try changing the code to (1) run another snp (or a set of snps); (2) run the same analysis with trait 1 or (3) run the bivariate analysis (both traits).  Note that for the bivariate analysis concept of heritability is not well defined so omit that part. \n",
    "\n"
   ]
  },
  {
   "cell_type": "markdown",
   "metadata": {},
   "source": [
    "Acknowledgement: Hua Zhou wrote the vast majority of this notebook with a little tweaking by Janet Sinsheimer"
   ]
  },
  {
   "cell_type": "markdown",
   "metadata": {},
   "source": [
    "## Data files\n",
    "\n",
    "We start from the following 3 files from [Mendel Option 29 (Ped-GWAS) example](https://www.genetics.ucla.edu/software/Mendel_current_doc.pdf#page=294). Following shell commands assumes MacOS or Linux environment. Julia commands should run regardless of OS."
   ]
  },
  {
   "cell_type": "code",
   "execution_count": null,
   "metadata": {},
   "outputs": [],
   "source": [
    ";ls -l Ped29c.in SNP_data29a.bin SNP_def29a.in"
   ]
  },
  {
   "cell_type": "markdown",
   "metadata": {},
   "source": [
    "Because SnpArray function requires input file name ending in .bed rather than .bin, we create a symbolic link SNP_data29a.bed to SNP_data29a.bin.  (If you have trouble with getting this command to work on your computer you can copy the file outside of julia).\n"
   ]
  },
  {
   "cell_type": "code",
   "execution_count": null,
   "metadata": {},
   "outputs": [],
   "source": [
    ";ln -s ./SNP_data29a.bin ./SNP_data29a.bed"
   ]
  },
  {
   "cell_type": "code",
   "execution_count": null,
   "metadata": {},
   "outputs": [],
   "source": [
    ";ls"
   ]
  },
  {
   "cell_type": "markdown",
   "metadata": {},
   "source": [
    "## Read in Mendel Option 29 data\n",
    "\n",
    "Take a look at the first 10 lines of the pedigree file."
   ]
  },
  {
   "cell_type": "code",
   "execution_count": null,
   "metadata": {},
   "outputs": [],
   "source": [
    ";head Ped29c.in"
   ]
  },
  {
   "cell_type": "markdown",
   "metadata": {},
   "source": [
    "Read in the pedigree file. This file is in the classic Mendel format, Family Id, Person ID, Father ID, Mother Id, sex as F (female) or M (male), monozygotic twin indicator, simtrait1 and simtrait2. "
   ]
  },
  {
   "cell_type": "code",
   "execution_count": null,
   "metadata": {},
   "outputs": [],
   "source": [
    "# columns are: :famid, :id, :moid, :faid, :sex, :twin, :simtrait1, :simtrait2, :group\n",
    "ped29c = readcsv(\"Ped29c.in\", Any; header = false)"
   ]
  },
  {
   "cell_type": "markdown",
   "metadata": {},
   "source": [
    "We don't need to retain the ids so we retrieve the two phenotype data and put them in an array Y."
   ]
  },
  {
   "cell_type": "code",
   "execution_count": null,
   "metadata": {},
   "outputs": [],
   "source": [
    "simtrait1 = convert(Vector{Float64}, ped29c[:, 7])\n",
    "simtrait2 = convert(Vector{Float64}, ped29c[:, 8])\n",
    "Y = [simtrait1 simtrait2]"
   ]
  },
  {
   "cell_type": "markdown",
   "metadata": {},
   "source": [
    "Retrieve sex data coded as 0 (male) or 1 (female) so male is the reference group."
   ]
  },
  {
   "cell_type": "code",
   "execution_count": null,
   "metadata": {},
   "outputs": [],
   "source": [
    "sex = map(x -> strip(x) == \"F\"? 1.0 : 0.0,  ped29c[:, 5])"
   ]
  },
  {
   "cell_type": "markdown",
   "metadata": {},
   "source": [
    "Take a look at the first 10 lines of the SNP definition file."
   ]
  },
  {
   "cell_type": "code",
   "execution_count": null,
   "metadata": {},
   "outputs": [],
   "source": [
    ";head SNP_def29a.in"
   ]
  },
  {
   "cell_type": "markdown",
   "metadata": {},
   "source": [
    "Read in the SNP definition file, skipping the first 2 lines."
   ]
  },
  {
   "cell_type": "code",
   "execution_count": null,
   "metadata": {},
   "outputs": [],
   "source": [
    "# columns are: :snpid, :chrom, :pos, :allele1, :allele2, :groupname\n",
    "snpdef29c = readcsv(\"SNP_def29a.in\", Any; skipstart = 2, header = false)"
   ]
  },
  {
   "cell_type": "markdown",
   "metadata": {},
   "source": [
    "We will be analyzing SNPs one at a time so we don't need the position of the snps just the SNP IDs so we retrieve SNP IDs."
   ]
  },
  {
   "cell_type": "code",
   "execution_count": null,
   "metadata": {},
   "outputs": [],
   "source": [
    "snpid = map(x -> strip(string(x)), snpdef29c[:, 1])"
   ]
  },
  {
   "cell_type": "markdown",
   "metadata": {},
   "source": [
    "Read in the SNP binary file using the SnpArray.jl package."
   ]
  },
  {
   "cell_type": "code",
   "execution_count": null,
   "metadata": {},
   "outputs": [],
   "source": [
    "using SnpArrays\n",
    "\n",
    "snpbin29a = SnpArray(\"SNP_data29a\"; people = size(ped29c, 1), snps = size(snpdef29c, 1))"
   ]
  },
  {
   "cell_type": "markdown",
   "metadata": {},
   "source": [
    "## Kinship via Genetic Relationship Matrix (GRM)\n",
    "\n",
    "Recall that in using variance components (linear mixed models) we need a measure of the relatedness among individuals. Under the GRM formulation, the estimate of the global kinship coefficient of individuals $i$ and $j$ is\n",
    "$$ \\widehat\\Phi_{GRMij}^  = \\frac{1}{2S} \\sum_{k=1}^S \\frac{(x_{ik} -2p_k)(x_{jk} - 2p_k)}{2 p_k (1-p_k)}$$,\n",
    "where $k$ ranges over the selected $S$ SNPs, $p_k$ is the minor allele frequency of SNP $k$, and $x_{ik}$ is the number of minor alleles in individual $i$s genotype at SNP $k$."
   ]
  },
  {
   "cell_type": "markdown",
   "metadata": {},
   "source": [
    "## Calculate the GRM matrix\n",
    "\n",
    "By default, `grm` excludes SNPs with maf < 0.01."
   ]
  },
  {
   "cell_type": "code",
   "execution_count": null,
   "metadata": {},
   "outputs": [],
   "source": [
    "Φgrm = grm(snpbin29a; method = :GRM)"
   ]
  },
  {
   "cell_type": "markdown",
   "metadata": {},
   "source": [
    "## Fit the null variance component model\n",
    "\n",
    "Recall that we are using a variance component model with simtrait2 as the outcome. Under the null hypothesis simtrait2 is associated with sex (as a fixed effect).  We also need to account for the relatedness among individuals.  To do that we include a random effect and use the GRM matrix to describe the covariation structure. \n",
    "    $$ Y_{2i} = \\mu +\\beta_{sex} sex_i + A_i + e_i$$ \n",
    "    $$ A_i \\sim N(0,\\sigma^2_a)$$ $$e_i \\sim N(0,\\sigma^2_e)$$\n",
    "    $$ Cov(Y_{2i},Y_{2j})=2\\Phi_{ij} \\sigma^2_a + 1_{i = j}\\sigma^2_e$$"
   ]
  },
  {
   "cell_type": "code",
   "execution_count": null,
   "metadata": {},
   "outputs": [],
   "source": [
    "using VarianceComponentModels\n",
    "\n",
    "# form data as VarianceComponentVariate\n",
    "X = [ones(length(simtrait1)) sex]\n",
    "#change this next command if you want to run trait 1 or both traits (Y)\n",
    "nulldata = VarianceComponentVariate(Y[:,2], X, (2Φgrm, eye(length(simtrait2))))"
   ]
  },
  {
   "cell_type": "markdown",
   "metadata": {},
   "source": [
    "When we run the alternative model, it can be helpful to start from our best estimates from the null model. Initialize the variance component model parameters."
   ]
  },
  {
   "cell_type": "code",
   "execution_count": null,
   "metadata": {},
   "outputs": [],
   "source": [
    "nullmodel = VarianceComponentModel(nulldata)"
   ]
  },
  {
   "cell_type": "code",
   "execution_count": null,
   "metadata": {},
   "outputs": [],
   "source": [
    "@time nulllogl, nullmodel, = fit_mle!(nullmodel, nulldata; algo = :FS)"
   ]
  },
  {
   "cell_type": "code",
   "execution_count": null,
   "metadata": {},
   "outputs": [],
   "source": [
    "# null model log-likelihood\n",
    "nulllogl"
   ]
  },
  {
   "cell_type": "code",
   "execution_count": null,
   "metadata": {},
   "outputs": [],
   "source": [
    "# null model mean effects\n",
    "nullmodel.B"
   ]
  },
  {
   "cell_type": "code",
   "execution_count": null,
   "metadata": {},
   "outputs": [],
   "source": [
    "# null model additive genetic variance\n",
    "nullmodel.Σ[1]"
   ]
  },
  {
   "cell_type": "code",
   "execution_count": null,
   "metadata": {},
   "outputs": [],
   "source": [
    "# null model environmental variance\n",
    "nullmodel.Σ[2]"
   ]
  },
  {
   "cell_type": "markdown",
   "metadata": {},
   "source": [
    "### Heritability \n",
    "Calculate the proportion of the variance that can be attributed to additive genetic effects, the narrow sense heritability.  "
   ]
  },
  {
   "cell_type": "code",
   "execution_count": null,
   "metadata": {},
   "outputs": [],
   "source": [
    "her_null = nullmodel.Σ[1]/(nullmodel.Σ[1]+nullmodel.Σ[2])"
   ]
  },
  {
   "cell_type": "markdown",
   "metadata": {},
   "source": [
    "## Fit variance component model with the causal SNP\n",
    "\n",
    "These data were simulated under a scenario so that a male has a value of 20 and a female has a value of 16. The trait is simulated with a major locus, rs10412915, with an additive effect of 1.5 per minor allele such that a heterozygote male has a value of 20. There is also a strong residual genetic variation."
   ]
  },
  {
   "cell_type": "code",
   "execution_count": null,
   "metadata": {},
   "outputs": [],
   "source": [
    "ind_rs10412915 = find(x -> x == \"rs10412915\", snpid)[1]\n",
    "# Use can change this SNP if you would like to assess another's snps effect on the trait, e.g.:\n",
    "#ind_rs56343121 = find(x -> x == \"rs56343121\", snpid)[1]"
   ]
  },
  {
   "cell_type": "code",
   "execution_count": null,
   "metadata": {},
   "outputs": [],
   "source": [
    "snp_rs10412915 = convert(Vector{Float64}, snpbin29a[:, ind_rs10412915])\n",
    "#snp_rs56343121 = convert(Vector{Float64}, snpbin29a[:, ind_rs56343121])"
   ]
  },
  {
   "cell_type": "code",
   "execution_count": null,
   "metadata": {},
   "outputs": [],
   "source": [
    "# form data as VarianceComponentVariate\n",
    "Xalt = [ones(length(simtrait2)) sex snp_rs10412915]\n",
    "#Xalt = [ones(length(simtrait1)) sex snp_rs56343121]\n",
    "altdata = VarianceComponentVariate(Y[:,2], Xalt, (2Φgrm, eye(length(simtrait2))))"
   ]
  },
  {
   "cell_type": "code",
   "execution_count": null,
   "metadata": {},
   "outputs": [],
   "source": [
    "altmodel = VarianceComponentModel(altdata)"
   ]
  },
  {
   "cell_type": "markdown",
   "metadata": {},
   "source": [
    "### Set the starting values for the maximum likelihood estimation\n",
    "Use the null model estimates as start values for the alternative model."
   ]
  },
  {
   "cell_type": "code",
   "execution_count": null,
   "metadata": {},
   "outputs": [],
   "source": [
    "altmodel.B[1:2, :] = nullmodel.B\n",
    "altmodel.B"
   ]
  },
  {
   "cell_type": "code",
   "execution_count": null,
   "metadata": {},
   "outputs": [],
   "source": [
    "copy!(altmodel.Σ[1], nullmodel.Σ[1])\n",
    "copy!(altmodel.Σ[2], nullmodel.Σ[2])\n",
    "altmodel.Σ"
   ]
  },
  {
   "cell_type": "code",
   "execution_count": null,
   "metadata": {},
   "outputs": [],
   "source": [
    "@time altlogl, altmodel, = fit_mle!(altmodel, altdata; algo = :FS)"
   ]
  },
  {
   "cell_type": "code",
   "execution_count": null,
   "metadata": {},
   "outputs": [],
   "source": [
    "# alt model log-likelihood\n",
    "altlogl"
   ]
  },
  {
   "cell_type": "code",
   "execution_count": null,
   "metadata": {},
   "outputs": [],
   "source": [
    "# alt model mean effects\n",
    "altmodel.B"
   ]
  },
  {
   "cell_type": "code",
   "execution_count": null,
   "metadata": {},
   "outputs": [],
   "source": [
    "# alt model additive genetic variance\n",
    "altmodel.Σ[1]"
   ]
  },
  {
   "cell_type": "code",
   "execution_count": null,
   "metadata": {},
   "outputs": [],
   "source": [
    "# alt model environmental variance\n",
    "altmodel.Σ[2]"
   ]
  },
  {
   "cell_type": "markdown",
   "metadata": {},
   "source": [
    "To test the significance of the SNP, we use LRT"
   ]
  },
  {
   "cell_type": "code",
   "execution_count": null,
   "metadata": {},
   "outputs": [],
   "source": [
    "using Distributions\n",
    "LRT=2(altlogl - nulllogl)"
   ]
  },
  {
   "cell_type": "code",
   "execution_count": null,
   "metadata": {},
   "outputs": [],
   "source": [
    "#change the degrees of freedom if running a bivariate outcome\n",
    "pval_rs10412915 = ccdf(Chisq(1), LRT)"
   ]
  },
  {
   "cell_type": "markdown",
   "metadata": {},
   "source": [
    "Residual Heritability. The proportion of additive genetic variation remaining after including the SNP in the model.  Note that heritability is difficult to describe for a bivariate outcome so it is usually not provided. "
   ]
  },
  {
   "cell_type": "code",
   "execution_count": null,
   "metadata": {},
   "outputs": [],
   "source": [
    "# ignore if running a bivariate outcome\n",
    "her_alt=altmodel.Σ[1]/(altmodel.Σ[1]+altmodel.Σ[2])"
   ]
  },
  {
   "cell_type": "markdown",
   "metadata": {},
   "source": [
    "Portion of the genetic variation explained by the snp is a measure of the effect of the snp on a signal trait. Omit if running a bivariate trait. "
   ]
  },
  {
   "cell_type": "code",
   "execution_count": null,
   "metadata": {},
   "outputs": [],
   "source": [
    "add_proport=(nullmodel.Σ[1]-altmodel.Σ[1])/nullmodel.Σ[1]"
   ]
  },
  {
   "cell_type": "markdown",
   "metadata": {},
   "source": [
    "Portion of total variation explained by the snp is an alterative to the above. Omit if running a bivariate trait. "
   ]
  },
  {
   "cell_type": "code",
   "execution_count": null,
   "metadata": {},
   "outputs": [],
   "source": [
    "pheno_proport=(nullmodel.Σ[1]+nullmodel.Σ[2]-altmodel.Σ[1]-altmodel.Σ[2])/(nullmodel.Σ[1]+nullmodel.Σ[2])"
   ]
  }
 ],
 "metadata": {
  "kernelspec": {
   "display_name": "Julia 0.6.2",
   "language": "julia",
   "name": "julia-0.6"
  },
  "language_info": {
   "file_extension": ".jl",
   "mimetype": "application/julia",
   "name": "julia",
   "version": "0.6.2"
  },
  "toc": {
   "colors": {
    "hover_highlight": "#DAA520",
    "running_highlight": "#FF0000",
    "selected_highlight": "#FFD700"
   },
   "moveMenuLeft": true,
   "nav_menu": {
    "height": "30px",
    "width": "252px"
   },
   "navigate_menu": true,
   "number_sections": true,
   "sideBar": true,
   "threshold": 4,
   "toc_cell": false,
   "toc_section_display": "block",
   "toc_window_display": false,
   "widenNotebook": false
  }
 },
 "nbformat": 4,
 "nbformat_minor": 2
}
