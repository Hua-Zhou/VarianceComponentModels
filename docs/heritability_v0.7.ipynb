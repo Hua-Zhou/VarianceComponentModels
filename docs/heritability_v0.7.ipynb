{
 "cells": [
  {
   "cell_type": "markdown",
   "metadata": {},
   "source": [
    "# Heritability Analysis"
   ]
  },
  {
   "cell_type": "markdown",
   "metadata": {},
   "source": [
    "As an application of the variance component model, this note demonstrates the workflow for heritability analysis in genetics, using a sample data set `cg10k` with **6,670** individuals and **630,860** SNPs. Person IDs and phenotype names are masked for privacy. `cg10k.bed`, `cg10k.bim`, and `cg10k.fam` is a set of Plink files in binary format. `cg10k_traits.txt` contains 13 phenotypes of the 6,670 individuals."
   ]
  },
  {
   "cell_type": "code",
   "execution_count": null,
   "metadata": {
    "collapsed": true
   },
   "outputs": [],
   "source": [
    ";ls cg10k.bed cg10k.bim cg10k.fam #cg10k_traits.txt"
   ]
  },
  {
   "cell_type": "code",
   "execution_count": 2,
   "metadata": {},
   "outputs": [
    {
     "name": "stdout",
     "output_type": "stream",
     "text": [
      "cg10k.bed\n",
      "cg10k.bim\n",
      "cg10k.fam\n"
     ]
    }
   ],
   "source": [
    ";ls cg10k.bed cg10k.bim cg10k.fam "
   ]
  },
  {
   "cell_type": "markdown",
   "metadata": {},
   "source": [
    "Machine information:"
   ]
  },
  {
   "cell_type": "code",
   "execution_count": 3,
   "metadata": {},
   "outputs": [
    {
     "name": "stdout",
     "output_type": "stream",
     "text": [
      "Julia Version 0.7.0\n",
      "Commit a4cb80f3ed (2018-08-08 06:46 UTC)\n",
      "Platform Info:\n",
      "  OS: macOS (x86_64-apple-darwin14.5.0)\n",
      "  CPU: Intel(R) Core(TM) i5-6267U CPU @ 2.90GHz\n",
      "  WORD_SIZE: 64\n",
      "  LIBM: libopenlibm\n",
      "  LLVM: libLLVM-6.0.0 (ORCJIT, skylake)\n"
     ]
    }
   ],
   "source": [
    "versioninfo()"
   ]
  },
  {
   "cell_type": "markdown",
   "metadata": {},
   "source": [
    "## Read in binary SNP data"
   ]
  },
  {
   "cell_type": "markdown",
   "metadata": {},
   "source": [
    "We will use the [`SnpArrays.jl`](https://github.com/OpenMendel/SnpArrays.jl) package to read in binary SNP data and compute the empirical kinship matrix. The package has not yet been registered and must be installed using the repository location. Start julia and use the `]` key to switch to the package manager REPL\n",
    "```julia\n",
    "(v0.7) pkg> add https://github.com/OpenMendel/SnpArrays.jl.git#juliav0.7\n",
    "```\n",
    "Use the backspace key to return to the Julia REPL."
   ]
  },
  {
   "cell_type": "code",
   "execution_count": 5,
   "metadata": {},
   "outputs": [],
   "source": [
    "using SnpArrays"
   ]
  },
  {
   "cell_type": "code",
   "execution_count": 6,
   "metadata": {
    "scrolled": true
   },
   "outputs": [
    {
     "name": "stdout",
     "output_type": "stream",
     "text": [
      "  0.178436 seconds (466.95 k allocations: 43.173 MiB, 5.68% gc time)\n"
     ]
    },
    {
     "data": {
      "text/plain": [
       "6670×630860 SnpArray:\n",
       " 0x02  0x02  0x03  0x03  0x02  0x03  …  0x02  0x03  0x03  0x03  0x03  0x03\n",
       " 0x03  0x03  0x02  0x03  0x02  0x03     0x03  0x02  0x02  0x03  0x02  0x01\n",
       " 0x03  0x03  0x02  0x03  0x02  0x03     0x03  0x03  0x03  0x03  0x03  0x03\n",
       " 0x03  0x03  0x03  0x03  0x03  0x03     0x03  0x02  0x02  0x02  0x02  0x03\n",
       " 0x03  0x03  0x03  0x03  0x03  0x03     0x03  0x03  0x03  0x03  0x03  0x02\n",
       " 0x02  0x02  0x03  0x03  0x02  0x03  …  0x03  0x03  0x03  0x03  0x03  0x03\n",
       " 0x00  0x00  0x03  0x03  0x00  0x03     0x03  0x02  0x03  0x03  0x03  0x03\n",
       " 0x03  0x03  0x03  0x03  0x03  0x02     0x03  0x03  0x03  0x03  0x03  0x02\n",
       " 0x03  0x03  0x02  0x03  0x02  0x03     0x02  0x02  0x03  0x03  0x03  0x03\n",
       " 0x03  0x03  0x03  0x00  0x03  0x03     0x02  0x02  0x03  0x03  0x02  0x03\n",
       " 0x03  0x03  0x02  0x03  0x02  0x02  …  0x02  0x03  0x03  0x03  0x03  0x03\n",
       " 0x02  0x02  0x03  0x03  0x02  0x03     0x02  0x03  0x03  0x03  0x03  0x02\n",
       " 0x03  0x03  0x03  0x00  0x03  0x03     0x03  0x03  0x03  0x03  0x03  0x02\n",
       "    ⋮                             ⋮  ⋱           ⋮                        \n",
       " 0x02  0x02  0x03  0x03  0x02  0x03     0x03  0x02  0x03  0x03  0x02  0x02\n",
       " 0x02  0x02  0x02  0x03  0x00  0x02     0x02  0x03  0x03  0x03  0x02  0x03\n",
       " 0x03  0x03  0x02  0x02  0x02  0x03  …  0x03  0x02  0x03  0x03  0x02  0x03\n",
       " 0x02  0x02  0x03  0x03  0x02  0x03     0x03  0x02  0x03  0x03  0x03  0x02\n",
       " 0x03  0x03  0x03  0x02  0x03  0x02     0x03  0x03  0x03  0x03  0x02  0x03\n",
       " 0x03  0x03  0x01  0x02  0x02  0x01     0x03  0x00  0x00  0x02  0x00  0x02\n",
       " 0x03  0x03  0x03  0x02  0x03  0x03     0x03  0x03  0x03  0x03  0x03  0x02\n",
       " 0x03  0x03  0x02  0x02  0x02  0x03  …  0x00  0x03  0x03  0x03  0x03  0x03\n",
       " 0x03  0x03  0x03  0x02  0x02  0x03     0x02  0x02  0x02  0x02  0x02  0x03\n",
       " 0x03  0x03  0x03  0x02  0x03  0x02     0x02  0x03  0x02  0x03  0x03  0x02\n",
       " 0x02  0x02  0x03  0x03  0x02  0x03     0x03  0x03  0x01  0x03  0x03  0x03\n",
       " 0x03  0x03  0x03  0x03  0x03  0x02     0x03  0x00  0x03  0x03  0x03  0x03"
      ]
     },
     "execution_count": 6,
     "metadata": {},
     "output_type": "execute_result"
    }
   ],
   "source": [
    "# read in genotype data from Plink binary file (~50 secs on my laptop)\n",
    "@time cg10k = SnpArray(\"cg10k.bed\")"
   ]
  },
  {
   "cell_type": "markdown",
   "metadata": {},
   "source": [
    "## Summary statistics of SNP data"
   ]
  },
  {
   "cell_type": "code",
   "execution_count": 9,
   "metadata": {
    "scrolled": true
   },
   "outputs": [
    {
     "data": {
      "text/plain": [
       "(6670, 630860)"
      ]
     },
     "execution_count": 9,
     "metadata": {},
     "output_type": "execute_result"
    }
   ],
   "source": [
    "people, snps = size(cg10k)"
   ]
  },
  {
   "cell_type": "markdown",
   "metadata": {},
   "source": [
    "The positions of the missing data are evaluated by"
   ]
  },
  {
   "cell_type": "code",
   "execution_count": 10,
   "metadata": {},
   "outputs": [
    {
     "data": {
      "text/plain": [
       "6670×630860 SparseArrays.SparseMatrixCSC{Bool,Int32} with 5524131 stored entries:\n",
       "  [5688  ,      1]  =  true\n",
       "  [6445  ,      1]  =  true\n",
       "  [109   ,      3]  =  true\n",
       "  [189   ,      3]  =  true\n",
       "  [216   ,      3]  =  true\n",
       "  [254   ,      3]  =  true\n",
       "  [331   ,      3]  =  true\n",
       "  [522   ,      3]  =  true\n",
       "  [525   ,      3]  =  true\n",
       "  [597   ,      3]  =  true\n",
       "  [619   ,      3]  =  true\n",
       "  [672   ,      3]  =  true\n",
       "  ⋮\n",
       "  [4929  , 630860]  =  true\n",
       "  [5594  , 630860]  =  true\n",
       "  [5650  , 630860]  =  true\n",
       "  [5780  , 630860]  =  true\n",
       "  [5854  , 630860]  =  true\n",
       "  [5867  , 630860]  =  true\n",
       "  [6084  , 630860]  =  true\n",
       "  [6175  , 630860]  =  true\n",
       "  [6178  , 630860]  =  true\n",
       "  [6239  , 630860]  =  true\n",
       "  [6478  , 630860]  =  true\n",
       "  [6511  , 630860]  =  true"
      ]
     },
     "execution_count": 10,
     "metadata": {},
     "output_type": "execute_result"
    }
   ],
   "source": [
    "mp = missingpos(cg10k)"
   ]
  },
  {
   "cell_type": "markdown",
   "metadata": {},
   "source": [
    "The number of missing data values in each column can be evaluated as"
   ]
  },
  {
   "cell_type": "code",
   "execution_count": 11,
   "metadata": {},
   "outputs": [
    {
     "data": {
      "text/plain": [
       "1×630860 Array{Int64,2}:\n",
       " 2  0  132  77  0  27  2  2  6  27  2  …  6  4  5  11  0  0  4  29  0  5  43"
      ]
     },
     "execution_count": 11,
     "metadata": {},
     "output_type": "execute_result"
    }
   ],
   "source": [
    "missings_by_snp = sum(mp, dims=1)"
   ]
  },
  {
   "cell_type": "markdown",
   "metadata": {},
   "source": [
    "Minor allele frequencies (MAF) for each SNP."
   ]
  },
  {
   "cell_type": "code",
   "execution_count": 12,
   "metadata": {},
   "outputs": [
    {
     "data": {
      "text/plain": [
       "630860-element Array{Float64,1}:\n",
       " 0.1699160167966407  \n",
       " 0.17098950524737633 \n",
       " 0.11402569593147749 \n",
       " 0.2686940694676172  \n",
       " 0.21926536731634183 \n",
       " 0.23934969140448592 \n",
       " 0.19061187762447507 \n",
       " 0.20200959808038388 \n",
       " 0.027160864345738278\n",
       " 0.2997139846454915  \n",
       " 0.24625074985003004 \n",
       " 0.05555555555555558 \n",
       " 0.3659067046647667  \n",
       " ⋮                   \n",
       " 0.22547254725472543 \n",
       " 0.4035864345738295  \n",
       " 0.20799579957995795 \n",
       " 0.44801200300075017 \n",
       " 0.2954647845021775  \n",
       " 0.14265367316341826 \n",
       " 0.1709145427286357  \n",
       " 0.2814281428142814  \n",
       " 0.06113537117903933 \n",
       " 0.052473763118440764\n",
       " 0.13930982745686427 \n",
       " 0.1324128564961521  "
      ]
     },
     "execution_count": 12,
     "metadata": {},
     "output_type": "execute_result"
    }
   ],
   "source": [
    "maf_cg10k = maf(cg10k)"
   ]
  },
  {
   "cell_type": "code",
   "execution_count": 13,
   "metadata": {},
   "outputs": [
    {
     "data": {
      "text/plain": [
       "([0.00841726 0.124063 … 0.364253 0.5], 0.24536516625042462)"
      ]
     },
     "execution_count": 13,
     "metadata": {},
     "output_type": "execute_result"
    }
   ],
   "source": [
    "# 5 number summary and average MAF (minor allele frequencies)\n",
    "using Statistics\n",
    "Statistics.quantile(maf_cg10k, [0.0 .25 .5 .75 1.0]), mean(maf_cg10k)"
   ]
  },
  {
   "cell_type": "code",
   "execution_count": 14,
   "metadata": {},
   "outputs": [
    {
     "name": "stderr",
     "output_type": "stream",
     "text": [
      "IOPub data rate exceeded.\n",
      "The notebook server will temporarily stop sending output\n",
      "to the client in order to avoid crashing it.\n",
      "To change this limit, set the config variable\n",
      "`--NotebookApp.iopub_data_rate_limit`.\n"
     ]
    },
    {
     "data": {
      "image/png": "[encoded data removed]"
     },
     "execution_count": 14,
     "metadata": {},
     "output_type": "execute_result"
    }
   ],
   "source": [
    "# Pkg.add(\"Plots\")\n",
    "# Pkg.add(\"PyPlot\")\n",
    "using Plots\n",
    "gr(size=(600,500), html_output_format=:png)\n",
    "histogram(maf_cg10k, xlab = \"Minor Allele Frequency (MAF)\", label = \"MAF\")"
   ]
  },
  {
   "cell_type": "code",
   "execution_count": 15,
   "metadata": {},
   "outputs": [
    {
     "data": {
      "text/plain": [
       "0.0013128198764010824"
      ]
     },
     "execution_count": 15,
     "metadata": {},
     "output_type": "execute_result"
    }
   ],
   "source": [
    "# proportion of missing genotypes\n",
    "sum(missings_by_snp) / length(cg10k)"
   ]
  },
  {
   "cell_type": "code",
   "execution_count": 16,
   "metadata": {},
   "outputs": [
    {
     "data": {
      "text/plain": [
       "0.07228069619249913"
      ]
     },
     "execution_count": 16,
     "metadata": {},
     "output_type": "execute_result"
    }
   ],
   "source": [
    "# proportion of rare SNPs with maf < 0.05\n",
    "count(!iszero, maf_cg10k .< 0.05) / length(maf_cg10k)"
   ]
  },
  {
   "cell_type": "markdown",
   "metadata": {},
   "source": [
    "## Empirical kinship matrix\n",
    "\n",
    "We estimate empirical kinship based on all SNPs by the genetic relation matrix (GRM). Missing genotypes are imputed on the fly by drawing according to the minor allele frequencies."
   ]
  },
  {
   "cell_type": "code",
   "execution_count": 17,
   "metadata": {},
   "outputs": [
    {
     "name": "stdout",
     "output_type": "stream",
     "text": [
      "629.627208 seconds (2.89 M allocations: 493.650 MiB, 0.28% gc time)\n"
     ]
    },
    {
     "data": {
      "text/plain": [
       "6670×6670 Array{Float64,2}:\n",
       "  0.502735      0.00328112   -6.79435e-5   …  -6.09591e-5   -0.00277687 \n",
       "  0.00328112    0.49807      -0.00195548       0.000884994   0.00341591 \n",
       " -6.79435e-5   -0.00195548    0.492348         0.000198191  -0.000337529\n",
       "  0.00087876   -0.00322605   -0.00192088      -0.00235314   -0.00124267 \n",
       " -5.03227e-5   -0.00352498    0.00184588       0.00219109   -0.00163189 \n",
       "  0.00203199    0.000597697   0.00251237   …   0.00088428    2.21226e-5 \n",
       "  0.000560862   0.00244517   -0.00183233       0.00120214   -0.00120686 \n",
       " -0.000656949   0.00322249   -0.00101472       0.00355832   -0.000240444\n",
       " -0.00103874   -0.00125164   -0.000599731      0.00176492    0.00176928 \n",
       " -0.00137058    0.00209596    0.000146711     -0.0014453    -0.00103066 \n",
       " -0.00209312    0.000140721  -0.000442031  …  -0.000214963  -0.00107391 \n",
       "  0.000933587   0.00168842    0.00185731      -0.000787908  -0.00311063 \n",
       "  0.000334572  -0.000886623   0.00304182       0.000752285  -0.00123334 \n",
       "  ⋮                                        ⋱                            \n",
       "  0.00298109    0.00121739    0.00102822       9.66935e-6    0.00306953 \n",
       " -0.00209728    0.00271452   -0.00182325      -0.00108139    0.00366901 \n",
       "  0.000549425  -0.00244419   -0.00301368   …  -0.000631961   0.00215641 \n",
       " -0.00423362   -0.00208073   -0.00107904      -0.000619315  -0.000593852\n",
       " -0.00326697   -0.000769552   0.00310511       0.000520658  -0.000113441\n",
       "  0.000430563  -0.0020236     0.00265425      -0.00635493   -0.00520252 \n",
       "  0.00218746    0.000798767  -0.00105684      -0.000918245  -0.00061484 \n",
       " -0.00230525   -0.000101149   0.000117936  …   0.000879829  -0.00233479 \n",
       " -0.00201305    0.00233864   -0.00134496       0.00197044   -0.000486275\n",
       " -0.000990534  -0.000924159  -9.12302e-5       0.00122311   -0.00298296 \n",
       " -6.09591e-5    0.000884994   0.000198191      0.499289      0.000481492\n",
       " -0.00277687    0.00341591   -0.000337529      0.000481492   0.499799   "
      ]
     },
     "execution_count": 17,
     "metadata": {},
     "output_type": "execute_result"
    }
   ],
   "source": [
    "## GRM using SNPs with maf > 0.01 (default) (~10 mins on my laptop)\n",
    "using Random \n",
    "Random.seed!(123)\n",
    "@time Φgrm = grm(cg10k; method = :GRM)"
   ]
  },
  {
   "cell_type": "markdown",
   "metadata": {},
   "source": [
    "## Phenotypes"
   ]
  },
  {
   "cell_type": "markdown",
   "metadata": {},
   "source": [
    "Read in the phenotype data and compute descriptive statistics."
   ]
  },
  {
   "cell_type": "code",
   "execution_count": 19,
   "metadata": {},
   "outputs": [
    {
     "ename": "SystemError",
     "evalue": "SystemError: opening file cg10k_traits.txt: No such file or directory",
     "output_type": "error",
     "traceback": [
      "SystemError: opening file cg10k_traits.txt: No such file or directory",
      "",
      "Stacktrace:",
      " [1] #systemerror#39(::Nothing, ::Function, ::String, ::Bool) at ./error.jl:106",
      " [2] systemerror at ./error.jl:106 [inlined]",
      " [3] #open#297(::Bool, ::Nothing, ::Nothing, ::Nothing, ::Nothing, ::Function, ::String) at ./iostream.jl:283",
      " [4] #open at ./none:0 [inlined]",
      " [5] open(::String, ::String) at ./iostream.jl:339",
      " [6] #open#298(::Base.Iterators.Pairs{Union{},Union{},Tuple{},NamedTuple{(),Tuple{}}}, ::Function, ::getfield(DataFrames, Symbol(\"#_r#302\")){Bool,Char,Array{Char,1},Char,Array{String,1},Array{String,1},Array{String,1},Bool,Int64,Array{Symbol,1},Array{DataType,1},Bool,Char,Bool,Int64,Array{Int64,1},Bool,Symbol,Bool,Bool}, ::String, ::Vararg{String,N} where N) at ./iostream.jl:367",
      " [7] open at ./iostream.jl:367 [inlined]",
      " [8] #readtable#301(::Bool, ::Char, ::Array{Char,1}, ::Char, ::Array{String,1}, ::Array{String,1}, ::Array{String,1}, ::Bool, ::Int64, ::Array{Symbol,1}, ::Array{DataType,1}, ::Bool, ::Char, ::Bool, ::Int64, ::Array{Int64,1}, ::Bool, ::Symbol, ::Bool, ::Bool, ::typeof(readtable), ::String) at /Users/juhyun-kim/.julia/packages/DataFrames/lyCjP/src/deprecated.jl:1129",
      " [9] (::getfield(DataFrames, Symbol(\"#kw##readtable\")))(::NamedTuple{(:separator, :names, :eltypes),Tuple{Char,Array{Symbol,1},Array{DataType,1}}}, ::typeof(readtable), ::String) at ./none:0",
      " [10] top-level scope at In[19]:3"
     ]
    }
   ],
   "source": [
    "# Pkg.add(\"DataFrames\")\n",
    "using DataFrames\n",
    "\n",
    "cg10k_trait = readtable(\n",
    "    \"cg10k_traits.txt\"; \n",
    "    separator = ' ',\n",
    "    names = [:FID; :IID; :Trait1; :Trait2; :Trait3; :Trait4; :Trait5; :Trait6; \n",
    "             :Trait7; :Trait8; :Trait9; :Trait10; :Trait11; :Trait12; :Trait13],  \n",
    "    eltypes = [String; String; Float64; Float64; Float64; Float64; Float64; \n",
    "               Float64; Float64; Float64; Float64; Float64; Float64; Float64; Float64]\n",
    "    )\n",
    "# do not display FID and IID for privacy\n",
    "cg10k_trait[:, 3:end]"
   ]
  },
  {
   "cell_type": "code",
   "execution_count": null,
   "metadata": {
    "collapsed": true
   },
   "outputs": [],
   "source": [
    "describe(cg10k_trait[:, 3:end])"
   ]
  },
  {
   "cell_type": "code",
   "execution_count": null,
   "metadata": {
    "collapsed": true
   },
   "outputs": [],
   "source": [
    "Y = convert(Matrix{Float64}, cg10k_trait[:, 3:15])\n",
    "histogram(Y, layout = 13)"
   ]
  },
  {
   "cell_type": "markdown",
   "metadata": {},
   "source": [
    "## Pre-processing data for heritability analysis"
   ]
  },
  {
   "cell_type": "markdown",
   "metadata": {},
   "source": [
    "To prepare variance component model fitting, we form an instance of `VarianceComponentVariate`. The two variance components are $(2\\Phi, I)$."
   ]
  },
  {
   "cell_type": "code",
   "execution_count": 20,
   "metadata": {},
   "outputs": [
    {
     "name": "stderr",
     "output_type": "stream",
     "text": [
      "WARNING: using VarianceComponentModels.mean in module Main conflicts with an existing identifier.\n"
     ]
    },
    {
     "ename": "UndefVarError",
     "evalue": "UndefVarError: Y not defined",
     "output_type": "error",
     "traceback": [
      "UndefVarError: Y not defined",
      "",
      "Stacktrace:",
      " [1] top-level scope at In[20]:2"
     ]
    }
   ],
   "source": [
    "using VarianceComponentModels\n",
    "\n",
    "# form data as VarianceComponentVariate\n",
    "cg10kdata = VarianceComponentVariate(Y, (2Φgrm, eye(size(Y, 1))))\n",
    "fieldnames(cg10kdata)"
   ]
  },
  {
   "cell_type": "code",
   "execution_count": null,
   "metadata": {
    "collapsed": true
   },
   "outputs": [],
   "source": [
    "cg10kdata"
   ]
  },
  {
   "cell_type": "markdown",
   "metadata": {},
   "source": [
    "Before fitting the variance component model, we pre-compute the eigen-decomposition of $2\\Phi_{\\text{GRM}}$, the rotated responses, and the constant part in log-likelihood, and store them as a `TwoVarCompVariateRotate` instance, which is re-used in various variane component estimation procedures."
   ]
  },
  {
   "cell_type": "code",
   "execution_count": null,
   "metadata": {
    "collapsed": true
   },
   "outputs": [],
   "source": [
    "# pre-compute eigen-decomposition (~50 secs on my laptop)\n",
    "@time cg10kdata_rotated = TwoVarCompVariateRotate(cg10kdata)\n",
    "fieldnames(cg10kdata_rotated)"
   ]
  },
  {
   "cell_type": "markdown",
   "metadata": {},
   "source": [
    "## Save intermediate results\n",
    "\n",
    "We don't want to re-compute SnpArray and empirical kinship matrices again and again for heritibility analysis."
   ]
  },
  {
   "cell_type": "markdown",
   "metadata": {},
   "source": [
    "To load workspace"
   ]
  },
  {
   "cell_type": "code",
   "execution_count": null,
   "metadata": {
    "collapsed": true
   },
   "outputs": [],
   "source": [
    "using SnpArrays, JLD, DataFrames, VarianceComponentModels, Plots\n",
    "pyplot()\n",
    "@load \"cg10k.jld\"\n",
    "whos()"
   ]
  },
  {
   "cell_type": "markdown",
   "metadata": {},
   "source": [
    "## Heritability of single traits"
   ]
  },
  {
   "cell_type": "markdown",
   "metadata": {},
   "source": [
    "We use Fisher scoring algorithm to fit variance component model for each single trait."
   ]
  },
  {
   "cell_type": "code",
   "execution_count": null,
   "metadata": {
    "collapsed": true
   },
   "outputs": [],
   "source": [
    "# heritability from single trait analysis\n",
    "hST = zeros(13)\n",
    "# standard errors of estimated heritability\n",
    "hST_se = zeros(13)\n",
    "# additive genetic effects\n",
    "σ2a = zeros(13)\n",
    "# enviromental effects\n",
    "σ2e = zeros(13)\n",
    "\n",
    "tic()\n",
    "for trait in 1:13\n",
    "    println(names(cg10k_trait)[trait + 2])\n",
    "    # form data set for trait j\n",
    "    traitj_data = TwoVarCompVariateRotate(cg10kdata_rotated.Yrot[:, trait], cg10kdata_rotated.Xrot, \n",
    "        cg10kdata_rotated.eigval, cg10kdata_rotated.eigvec, cg10kdata_rotated.logdetV2)\n",
    "    # initialize model parameters\n",
    "    traitj_model = VarianceComponentModel(traitj_data)\n",
    "    # estimate variance components\n",
    "    _, _, _, Σcov, _, _ = mle_fs!(traitj_model, traitj_data; solver=:Ipopt, verbose=false)\n",
    "    σ2a[trait] = traitj_model.Σ[1][1]\n",
    "    σ2e[trait] = traitj_model.Σ[2][1]\n",
    "    @show σ2a[trait], σ2e[trait]\n",
    "    h, hse = heritability(traitj_model.Σ, Σcov)\n",
    "    hST[trait] = h[1]\n",
    "    hST_se[trait] = hse[1]\n",
    "end\n",
    "toc()"
   ]
  },
  {
   "cell_type": "code",
   "execution_count": null,
   "metadata": {
    "collapsed": true
   },
   "outputs": [],
   "source": [
    "# heritability and standard errors\n",
    "[hST'; hST_se']"
   ]
  },
  {
   "cell_type": "markdown",
   "metadata": {},
   "source": [
    "## Pairwise traits\n",
    "\n",
    "Joint analysis of multiple traits is subject to intensive research recently. Following code snippet does joint analysis of all pairs of traits, a total of 78 bivariate variane component models."
   ]
  },
  {
   "cell_type": "code",
   "execution_count": null,
   "metadata": {
    "collapsed": true
   },
   "outputs": [],
   "source": [
    "# additive genetic effects (2x2 psd matrices) from bavariate trait analysis;\n",
    "Σa = Array{Matrix{Float64}}(13, 13)\n",
    "# environmental effects (2x2 psd matrices) from bavariate trait analysis;\n",
    "Σe = Array{Matrix{Float64}}(13, 13)\n",
    "\n",
    "tic()\n",
    "for i in 1:13\n",
    "    for j in (i+1):13\n",
    "        println(names(cg10k_trait)[i + 2], names(cg10k_trait)[j + 2])\n",
    "        # form data set for (trait1, trait2)\n",
    "        traitij_data = TwoVarCompVariateRotate(cg10kdata_rotated.Yrot[:, [i;j]], cg10kdata_rotated.Xrot, \n",
    "            cg10kdata_rotated.eigval, cg10kdata_rotated.eigvec, cg10kdata_rotated.logdetV2)\n",
    "        # initialize model parameters\n",
    "        traitij_model = VarianceComponentModel(traitij_data)\n",
    "        # estimate variance components\n",
    "        mle_fs!(traitij_model, traitij_data; solver=:Ipopt, verbose=false)\n",
    "        Σa[i, j] = traitij_model.Σ[1]\n",
    "        Σe[i, j] = traitij_model.Σ[2]\n",
    "        @show Σa[i, j], Σe[i, j]\n",
    "    end\n",
    "end\n",
    "toc()"
   ]
  },
  {
   "cell_type": "markdown",
   "metadata": {},
   "source": [
    "## 3-trait analysis\n",
    "\n",
    "Researchers want to jointly analyze traits 5-7. Our strategy is to try both Fisher scoring and MM algorithm with different starting point, and choose the best local optimum. We first form the data set and run Fisher scoring, which yields a final objective value -1.4700991+04."
   ]
  },
  {
   "cell_type": "code",
   "execution_count": null,
   "metadata": {
    "collapsed": true
   },
   "outputs": [],
   "source": [
    "traitidx = 5:7\n",
    "# form data set\n",
    "trait57_data = TwoVarCompVariateRotate(cg10kdata_rotated.Yrot[:, traitidx], cg10kdata_rotated.Xrot, \n",
    "    cg10kdata_rotated.eigval, cg10kdata_rotated.eigvec, cg10kdata_rotated.logdetV2)\n",
    "# initialize model parameters\n",
    "trait57_model = VarianceComponentModel(trait57_data)\n",
    "# estimate variance components\n",
    "@time mle_fs!(trait57_model, trait57_data; solver=:Ipopt, verbose=true)\n",
    "trait57_model"
   ]
  },
  {
   "cell_type": "markdown",
   "metadata": {},
   "source": [
    "We then run the MM algorithm, starting from the Fisher scoring answer. MM finds an improved solution with objective value 8.955397e+03."
   ]
  },
  {
   "cell_type": "code",
   "execution_count": 10,
   "metadata": {},
   "outputs": [
    {
     "ename": "UndefVarError",
     "evalue": "UndefVarError: trait57_model not defined",
     "output_type": "error",
     "traceback": [
      "UndefVarError: trait57_model not defined",
      "",
      "Stacktrace:",
      " [1] top-level scope at util.jl:156",
      " [2] top-level scope at In[10]:1"
     ]
    }
   ],
   "source": [
    "# trait59_model contains the fitted model by Fisher scoring now\n",
    "@time mle_mm!(trait57_model, trait57_data; verbose=true)\n",
    "trait57_model"
   ]
  },
  {
   "cell_type": "markdown",
   "metadata": {},
   "source": [
    "Do another run of MM algorithm from default starting point. It leads to a slightly better local optimum -1.470104e+04, slighly worse than the Fisher scoring result. Follow up anlaysis should use the Fisher scoring result."
   ]
  },
  {
   "cell_type": "code",
   "execution_count": null,
   "metadata": {
    "collapsed": true
   },
   "outputs": [],
   "source": [
    "# default starting point\n",
    "trait57_model = VarianceComponentModel(trait57_data)\n",
    "@time _, _, _, Σcov, = mle_mm!(trait57_model, trait57_data; verbose=true)\n",
    "trait57_model"
   ]
  },
  {
   "cell_type": "markdown",
   "metadata": {},
   "source": [
    "Heritability from 3-variate estimate and their standard errors."
   ]
  },
  {
   "cell_type": "code",
   "execution_count": null,
   "metadata": {
    "collapsed": true
   },
   "outputs": [],
   "source": [
    "h, hse = heritability(trait57_model.Σ, Σcov)\n",
    "[h'; hse']"
   ]
  },
  {
   "cell_type": "markdown",
   "metadata": {},
   "source": [
    "## 13-trait joint analysis\n",
    "\n",
    "In some situations, such as studying the genetic covariance, we need to jointly analyze 13 traits. We first try the **Fisher scoring algorithm**."
   ]
  },
  {
   "cell_type": "code",
   "execution_count": null,
   "metadata": {
    "collapsed": true
   },
   "outputs": [],
   "source": [
    "# initialize model parameters\n",
    "traitall_model = VarianceComponentModel(cg10kdata_rotated)\n",
    "# estimate variance components using Fisher scoring algorithm\n",
    "@time mle_fs!(traitall_model, cg10kdata_rotated; solver=:Ipopt, verbose=true)"
   ]
  },
  {
   "cell_type": "markdown",
   "metadata": {},
   "source": [
    "From the output we can see the Fisher scoring algorithm ran into some numerical issues. Let's try the **MM algorithm**."
   ]
  },
  {
   "cell_type": "code",
   "execution_count": null,
   "metadata": {
    "collapsed": true
   },
   "outputs": [],
   "source": [
    "# reset model parameters\n",
    "traitall_model = VarianceComponentModel(cg10kdata_rotated)\n",
    "# estimate variance components using Fisher scoring algorithm\n",
    "@time mle_mm!(traitall_model, cg10kdata_rotated; verbose=true)"
   ]
  },
  {
   "cell_type": "markdown",
   "metadata": {},
   "source": [
    "It converges after ~1000 iterations."
   ]
  },
  {
   "cell_type": "markdown",
   "metadata": {},
   "source": [
    "## Save analysis results"
   ]
  },
  {
   "cell_type": "code",
   "execution_count": 11,
   "metadata": {
    "collapsed": true
   },
   "outputs": [],
   "source": [
    "#using JLD\n",
    "#@save \"copd.jld\"\n",
    "#whos()"
   ]
  }
 ],
 "metadata": {
  "kernelspec": {
   "display_name": "Julia 0.7.0",
   "language": "julia",
   "name": "julia-0.7"
  },
  "language_info": {
   "file_extension": ".jl",
   "mimetype": "application/julia",
   "name": "julia",
   "version": "0.7.0"
  }
 },
 "nbformat": 4,
 "nbformat_minor": 2
}
