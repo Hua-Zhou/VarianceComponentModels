{
 "cells": [
  {
   "cell_type": "markdown",
   "metadata": {},
   "source": [
    "# Heritability Analysis"
   ]
  },
  {
   "cell_type": "markdown",
   "metadata": {},
   "source": [
    "As an application of the variance component model, this note demonstrates the workflow for heritability analysis in genetics, using a sample data set `cg10k` with **6,670** individuals and **630,860** SNPs. Person IDs and phenotype names are masked for privacy. `cg10k.bed`, `cg10k.bim`, and `cg10k.fam` is a set of Plink files in binary format. `cg10k_traits.txt` contains 13 phenotypes of the 6,670 individuals."
   ]
  },
  {
   "cell_type": "code",
   "execution_count": 1,
   "metadata": {},
   "outputs": [
    {
     "name": "stderr",
     "output_type": "stream",
     "text": [
      "ls: cg10k.bed: No such file or directory\n",
      "ls: cg10k.bim: No such file or directory\n",
      "ls: cg10k.fam: No such file or directory\n",
      "ls: cg10k_traits.txt: No such file or directory\n"
     ]
    }
   ],
   "source": [
    ";ls cg10k.bed cg10k.bim cg10k.fam cg10k_traits.txt"
   ]
  },
  {
   "cell_type": "markdown",
   "metadata": {},
   "source": [
    "Machine information:"
   ]
  },
  {
   "cell_type": "code",
   "execution_count": 3,
   "metadata": {},
   "outputs": [
    {
     "name": "stdout",
     "output_type": "stream",
     "text": [
      "Julia Version 0.7.0\n",
      "Commit a4cb80f3ed (2018-08-08 06:46 UTC)\n",
      "Platform Info:\n",
      "  OS: macOS (x86_64-apple-darwin14.5.0)\n",
      "  CPU: Intel(R) Core(TM) i5-6267U CPU @ 2.90GHz\n",
      "  WORD_SIZE: 64\n",
      "  LIBM: libopenlibm\n",
      "  LLVM: libLLVM-6.0.0 (ORCJIT, skylake)\n"
     ]
    }
   ],
   "source": [
    "versioninfo()"
   ]
  },
  {
   "cell_type": "markdown",
   "metadata": {},
   "source": [
    "## Read in binary SNP data"
   ]
  },
  {
   "cell_type": "markdown",
   "metadata": {},
   "source": [
    "We will use the [`SnpArrays.jl`](https://github.com/OpenMendel/SnpArrays.jl) package to read in binary SNP data and compute the empirical kinship matrix. The package has not yet been registered and must be installed using the repository location. Start julia and use the `]` key to switch to the package manager REPL\n",
    "```julia\n",
    "(v0.7) pkg> add https://github.com/OpenMendel/SnpArrays.jl.git#juliav0.7\n",
    "```\n",
    "Use the backspace key to return to the Julia REPL."
   ]
  },
  {
   "cell_type": "code",
   "execution_count": 4,
   "metadata": {},
   "outputs": [
    {
     "name": "stderr",
     "output_type": "stream",
     "text": [
      "┌ Info: Precompiling SnpArrays [4e780e97-f5bf-4111-9dc4-b70aaf691b06]\n",
      "└ @ Base loading.jl:1187\n"
     ]
    }
   ],
   "source": [
    "using SnpArrays"
   ]
  },
  {
   "cell_type": "code",
   "execution_count": 5,
   "metadata": {},
   "outputs": [
    {
     "ename": "SystemError",
     "evalue": "SystemError: opening file cg10k.fam: No such file or directory",
     "output_type": "error",
     "traceback": [
      "SystemError: opening file cg10k.fam: No such file or directory",
      "",
      "Stacktrace:",
      " [1] #systemerror#39(::Nothing, ::Function, ::String, ::Bool) at ./error.jl:106",
      " [2] systemerror at ./error.jl:106 [inlined]",
      " [3] #open#297(::Nothing, ::Nothing, ::Nothing, ::Nothing, ::Nothing, ::Function, ::String) at ./iostream.jl:283",
      " [4] open at ./iostream.jl:275 [inlined]",
      " [5] #open#298(::Base.Iterators.Pairs{Union{},Union{},Tuple{},NamedTuple{(),Tuple{}}}, ::Function, ::getfield(Base, Symbol(\"##294#295\")){Char}, ::String) at ./iostream.jl:367",
      " [6] open at ./iostream.jl:367 [inlined]",
      " [7] #countlines#293 at ./io.jl:1041 [inlined]",
      " [8] countlines at ./io.jl:1041 [inlined]",
      " [9] #SnpArray#4 at /Users/juhyun-kim/.julia/packages/SnpArrays/pfwqg/src/snparray.jl:31 [inlined]",
      " [10] SnpArray(::String) at /Users/juhyun-kim/.julia/packages/SnpArrays/pfwqg/src/snparray.jl:31",
      " [11] top-level scope at util.jl:156",
      " [12] top-level scope at In[5]:1"
     ]
    }
   ],
   "source": [
    "# read in genotype data from Plink binary file (~50 secs on my laptop)\n",
    "@time cg10k = SnpArray(\"cg10k\")"
   ]
  },
  {
   "cell_type": "markdown",
   "metadata": {},
   "source": [
    "## Summary statistics of SNP data"
   ]
  },
  {
   "cell_type": "code",
   "execution_count": 6,
   "metadata": {},
   "outputs": [
    {
     "ename": "UndefVarError",
     "evalue": "UndefVarError: cg10k not defined",
     "output_type": "error",
     "traceback": [
      "UndefVarError: cg10k not defined",
      "",
      "Stacktrace:",
      " [1] top-level scope at In[6]:1"
     ]
    }
   ],
   "source": [
    "people, snps = size(cg10k)"
   ]
  },
  {
   "cell_type": "code",
   "execution_count": null,
   "metadata": {
    "collapsed": true
   },
   "outputs": [],
   "source": [
    "# summary statistics (~50 secs on my laptop)\n",
    "@time maf, _, missings_by_snp, = summarize(cg10k);"
   ]
  },
  {
   "cell_type": "code",
   "execution_count": null,
   "metadata": {
    "collapsed": true
   },
   "outputs": [],
   "source": [
    "# 5 number summary and average MAF (minor allele frequencies)\n",
    "quantile(maf, [0.0 .25 .5 .75 1.0]), mean(maf)"
   ]
  },
  {
   "cell_type": "code",
   "execution_count": null,
   "metadata": {
    "collapsed": true
   },
   "outputs": [],
   "source": [
    "# Pkg.add(\"Plots\")\n",
    "# Pkg.add(\"PyPlot\")\n",
    "using Plots\n",
    "pyplot()\n",
    "\n",
    "histogram(maf, xlab = \"Minor Allele Frequency (MAF)\", label = \"MAF\")"
   ]
  },
  {
   "cell_type": "code",
   "execution_count": null,
   "metadata": {
    "collapsed": true
   },
   "outputs": [],
   "source": [
    "# proportion of missing genotypes\n",
    "sum(missings_by_snp) / length(cg10k)"
   ]
  },
  {
   "cell_type": "code",
   "execution_count": null,
   "metadata": {
    "collapsed": true
   },
   "outputs": [],
   "source": [
    "# proportion of rare SNPs with maf < 0.05\n",
    "countnz(maf .< 0.05) / length(maf)"
   ]
  },
  {
   "cell_type": "markdown",
   "metadata": {},
   "source": [
    "## Empirical kinship matrix\n",
    "\n",
    "We estimate empirical kinship based on all SNPs by the genetic relation matrix (GRM). Missing genotypes are imputed on the fly by drawing according to the minor allele frequencies."
   ]
  },
  {
   "cell_type": "code",
   "execution_count": null,
   "metadata": {
    "collapsed": true
   },
   "outputs": [],
   "source": [
    "# GRM using SNPs with maf > 0.01 (default) (~10 mins on my laptop)\n",
    "srand(123)\n",
    "@time Φgrm = grm(cg10k; method = :GRM)"
   ]
  },
  {
   "cell_type": "markdown",
   "metadata": {},
   "source": [
    "## Phenotypes"
   ]
  },
  {
   "cell_type": "markdown",
   "metadata": {},
   "source": [
    "Read in the phenotype data and compute descriptive statistics."
   ]
  },
  {
   "cell_type": "code",
   "execution_count": null,
   "metadata": {
    "collapsed": true
   },
   "outputs": [],
   "source": [
    "# Pkg.add(\"DataFrames\")\n",
    "using DataFrames\n",
    "\n",
    "cg10k_trait = readtable(\n",
    "    \"cg10k_traits.txt\"; \n",
    "    separator = ' ',\n",
    "    names = [:FID; :IID; :Trait1; :Trait2; :Trait3; :Trait4; :Trait5; :Trait6; \n",
    "             :Trait7; :Trait8; :Trait9; :Trait10; :Trait11; :Trait12; :Trait13],  \n",
    "    eltypes = [String; String; Float64; Float64; Float64; Float64; Float64; \n",
    "               Float64; Float64; Float64; Float64; Float64; Float64; Float64; Float64]\n",
    "    )\n",
    "# do not display FID and IID for privacy\n",
    "cg10k_trait[:, 3:end]"
   ]
  },
  {
   "cell_type": "code",
   "execution_count": null,
   "metadata": {
    "collapsed": true
   },
   "outputs": [],
   "source": [
    "describe(cg10k_trait[:, 3:end])"
   ]
  },
  {
   "cell_type": "code",
   "execution_count": null,
   "metadata": {
    "collapsed": true
   },
   "outputs": [],
   "source": [
    "Y = convert(Matrix{Float64}, cg10k_trait[:, 3:15])\n",
    "histogram(Y, layout = 13)"
   ]
  },
  {
   "cell_type": "markdown",
   "metadata": {},
   "source": [
    "## Pre-processing data for heritability analysis"
   ]
  },
  {
   "cell_type": "markdown",
   "metadata": {},
   "source": [
    "To prepare variance component model fitting, we form an instance of `VarianceComponentVariate`. The two variance components are $(2\\Phi, I)$."
   ]
  },
  {
   "cell_type": "code",
   "execution_count": 7,
   "metadata": {},
   "outputs": [
    {
     "name": "stderr",
     "output_type": "stream",
     "text": [
      "┌ Info: Recompiling stale cache file /Users/juhyun-kim/.julia/compiled/v0.7/VarianceComponentModels/kuJce.ji for VarianceComponentModels [813005db-34b4-5f71-be9e-1bbf0a1d8f1c]\n",
      "└ @ Base loading.jl:1185\n"
     ]
    },
    {
     "ename": "UndefVarError",
     "evalue": "UndefVarError: Φgrm not defined",
     "output_type": "error",
     "traceback": [
      "UndefVarError: Φgrm not defined",
      "",
      "Stacktrace:",
      " [1] top-level scope at In[7]:2"
     ]
    }
   ],
   "source": [
    "using VarianceComponentModels\n",
    "\n",
    "# form data as VarianceComponentVariate\n",
    "cg10kdata = VarianceComponentVariate(Y, (2Φgrm, eye(size(Y, 1))))\n",
    "fieldnames(cg10kdata)"
   ]
  },
  {
   "cell_type": "code",
   "execution_count": null,
   "metadata": {
    "collapsed": true
   },
   "outputs": [],
   "source": [
    "cg10kdata"
   ]
  },
  {
   "cell_type": "markdown",
   "metadata": {},
   "source": [
    "Before fitting the variance component model, we pre-compute the eigen-decomposition of $2\\Phi_{\\text{GRM}}$, the rotated responses, and the constant part in log-likelihood, and store them as a `TwoVarCompVariateRotate` instance, which is re-used in various variane component estimation procedures."
   ]
  },
  {
   "cell_type": "code",
   "execution_count": null,
   "metadata": {
    "collapsed": true
   },
   "outputs": [],
   "source": [
    "# pre-compute eigen-decomposition (~50 secs on my laptop)\n",
    "@time cg10kdata_rotated = TwoVarCompVariateRotate(cg10kdata)\n",
    "fieldnames(cg10kdata_rotated)"
   ]
  },
  {
   "cell_type": "markdown",
   "metadata": {},
   "source": [
    "## Save intermediate results\n",
    "\n",
    "We don't want to re-compute SnpArray and empirical kinship matrices again and again for heritibility analysis."
   ]
  },
  {
   "cell_type": "markdown",
   "metadata": {},
   "source": [
    "To load workspace"
   ]
  },
  {
   "cell_type": "code",
   "execution_count": null,
   "metadata": {
    "collapsed": true
   },
   "outputs": [],
   "source": [
    "using SnpArrays, JLD, DataFrames, VarianceComponentModels, Plots\n",
    "pyplot()\n",
    "@load \"cg10k.jld\"\n",
    "whos()"
   ]
  },
  {
   "cell_type": "markdown",
   "metadata": {},
   "source": [
    "## Heritability of single traits"
   ]
  },
  {
   "cell_type": "markdown",
   "metadata": {},
   "source": [
    "We use Fisher scoring algorithm to fit variance component model for each single trait."
   ]
  },
  {
   "cell_type": "code",
   "execution_count": null,
   "metadata": {
    "collapsed": true
   },
   "outputs": [],
   "source": [
    "# heritability from single trait analysis\n",
    "hST = zeros(13)\n",
    "# standard errors of estimated heritability\n",
    "hST_se = zeros(13)\n",
    "# additive genetic effects\n",
    "σ2a = zeros(13)\n",
    "# enviromental effects\n",
    "σ2e = zeros(13)\n",
    "\n",
    "tic()\n",
    "for trait in 1:13\n",
    "    println(names(cg10k_trait)[trait + 2])\n",
    "    # form data set for trait j\n",
    "    traitj_data = TwoVarCompVariateRotate(cg10kdata_rotated.Yrot[:, trait], cg10kdata_rotated.Xrot, \n",
    "        cg10kdata_rotated.eigval, cg10kdata_rotated.eigvec, cg10kdata_rotated.logdetV2)\n",
    "    # initialize model parameters\n",
    "    traitj_model = VarianceComponentModel(traitj_data)\n",
    "    # estimate variance components\n",
    "    _, _, _, Σcov, _, _ = mle_fs!(traitj_model, traitj_data; solver=:Ipopt, verbose=false)\n",
    "    σ2a[trait] = traitj_model.Σ[1][1]\n",
    "    σ2e[trait] = traitj_model.Σ[2][1]\n",
    "    @show σ2a[trait], σ2e[trait]\n",
    "    h, hse = heritability(traitj_model.Σ, Σcov)\n",
    "    hST[trait] = h[1]\n",
    "    hST_se[trait] = hse[1]\n",
    "end\n",
    "toc()"
   ]
  },
  {
   "cell_type": "code",
   "execution_count": null,
   "metadata": {
    "collapsed": true
   },
   "outputs": [],
   "source": [
    "# heritability and standard errors\n",
    "[hST'; hST_se']"
   ]
  },
  {
   "cell_type": "markdown",
   "metadata": {},
   "source": [
    "## Pairwise traits\n",
    "\n",
    "Joint analysis of multiple traits is subject to intensive research recently. Following code snippet does joint analysis of all pairs of traits, a total of 78 bivariate variane component models."
   ]
  },
  {
   "cell_type": "code",
   "execution_count": null,
   "metadata": {
    "collapsed": true
   },
   "outputs": [],
   "source": [
    "# additive genetic effects (2x2 psd matrices) from bavariate trait analysis;\n",
    "Σa = Array{Matrix{Float64}}(13, 13)\n",
    "# environmental effects (2x2 psd matrices) from bavariate trait analysis;\n",
    "Σe = Array{Matrix{Float64}}(13, 13)\n",
    "\n",
    "tic()\n",
    "for i in 1:13\n",
    "    for j in (i+1):13\n",
    "        println(names(cg10k_trait)[i + 2], names(cg10k_trait)[j + 2])\n",
    "        # form data set for (trait1, trait2)\n",
    "        traitij_data = TwoVarCompVariateRotate(cg10kdata_rotated.Yrot[:, [i;j]], cg10kdata_rotated.Xrot, \n",
    "            cg10kdata_rotated.eigval, cg10kdata_rotated.eigvec, cg10kdata_rotated.logdetV2)\n",
    "        # initialize model parameters\n",
    "        traitij_model = VarianceComponentModel(traitij_data)\n",
    "        # estimate variance components\n",
    "        mle_fs!(traitij_model, traitij_data; solver=:Ipopt, verbose=false)\n",
    "        Σa[i, j] = traitij_model.Σ[1]\n",
    "        Σe[i, j] = traitij_model.Σ[2]\n",
    "        @show Σa[i, j], Σe[i, j]\n",
    "    end\n",
    "end\n",
    "toc()"
   ]
  },
  {
   "cell_type": "markdown",
   "metadata": {},
   "source": [
    "## 3-trait analysis\n",
    "\n",
    "Researchers want to jointly analyze traits 5-7. Our strategy is to try both Fisher scoring and MM algorithm with different starting point, and choose the best local optimum. We first form the data set and run Fisher scoring, which yields a final objective value -1.4700991+04."
   ]
  },
  {
   "cell_type": "code",
   "execution_count": null,
   "metadata": {
    "collapsed": true
   },
   "outputs": [],
   "source": [
    "traitidx = 5:7\n",
    "# form data set\n",
    "trait57_data = TwoVarCompVariateRotate(cg10kdata_rotated.Yrot[:, traitidx], cg10kdata_rotated.Xrot, \n",
    "    cg10kdata_rotated.eigval, cg10kdata_rotated.eigvec, cg10kdata_rotated.logdetV2)\n",
    "# initialize model parameters\n",
    "trait57_model = VarianceComponentModel(trait57_data)\n",
    "# estimate variance components\n",
    "@time mle_fs!(trait57_model, trait57_data; solver=:Ipopt, verbose=true)\n",
    "trait57_model"
   ]
  },
  {
   "cell_type": "markdown",
   "metadata": {},
   "source": [
    "We then run the MM algorithm, starting from the Fisher scoring answer. MM finds an improved solution with objective value 8.955397e+03."
   ]
  },
  {
   "cell_type": "code",
   "execution_count": 10,
   "metadata": {},
   "outputs": [
    {
     "ename": "UndefVarError",
     "evalue": "UndefVarError: trait57_model not defined",
     "output_type": "error",
     "traceback": [
      "UndefVarError: trait57_model not defined",
      "",
      "Stacktrace:",
      " [1] top-level scope at util.jl:156",
      " [2] top-level scope at In[10]:1"
     ]
    }
   ],
   "source": [
    "# trait59_model contains the fitted model by Fisher scoring now\n",
    "@time mle_mm!(trait57_model, trait57_data; verbose=true)\n",
    "trait57_model"
   ]
  },
  {
   "cell_type": "markdown",
   "metadata": {},
   "source": [
    "Do another run of MM algorithm from default starting point. It leads to a slightly better local optimum -1.470104e+04, slighly worse than the Fisher scoring result. Follow up anlaysis should use the Fisher scoring result."
   ]
  },
  {
   "cell_type": "code",
   "execution_count": null,
   "metadata": {
    "collapsed": true
   },
   "outputs": [],
   "source": [
    "# default starting point\n",
    "trait57_model = VarianceComponentModel(trait57_data)\n",
    "@time _, _, _, Σcov, = mle_mm!(trait57_model, trait57_data; verbose=true)\n",
    "trait57_model"
   ]
  },
  {
   "cell_type": "markdown",
   "metadata": {},
   "source": [
    "Heritability from 3-variate estimate and their standard errors."
   ]
  },
  {
   "cell_type": "code",
   "execution_count": null,
   "metadata": {
    "collapsed": true
   },
   "outputs": [],
   "source": [
    "h, hse = heritability(trait57_model.Σ, Σcov)\n",
    "[h'; hse']"
   ]
  },
  {
   "cell_type": "markdown",
   "metadata": {},
   "source": [
    "## 13-trait joint analysis\n",
    "\n",
    "In some situations, such as studying the genetic covariance, we need to jointly analyze 13 traits. We first try the **Fisher scoring algorithm**."
   ]
  },
  {
   "cell_type": "code",
   "execution_count": null,
   "metadata": {
    "collapsed": true
   },
   "outputs": [],
   "source": [
    "# initialize model parameters\n",
    "traitall_model = VarianceComponentModel(cg10kdata_rotated)\n",
    "# estimate variance components using Fisher scoring algorithm\n",
    "@time mle_fs!(traitall_model, cg10kdata_rotated; solver=:Ipopt, verbose=true)"
   ]
  },
  {
   "cell_type": "markdown",
   "metadata": {},
   "source": [
    "From the output we can see the Fisher scoring algorithm ran into some numerical issues. Let's try the **MM algorithm**."
   ]
  },
  {
   "cell_type": "code",
   "execution_count": null,
   "metadata": {
    "collapsed": true
   },
   "outputs": [],
   "source": [
    "# reset model parameters\n",
    "traitall_model = VarianceComponentModel(cg10kdata_rotated)\n",
    "# estimate variance components using Fisher scoring algorithm\n",
    "@time mle_mm!(traitall_model, cg10kdata_rotated; verbose=true)"
   ]
  },
  {
   "cell_type": "markdown",
   "metadata": {},
   "source": [
    "It converges after ~1000 iterations."
   ]
  },
  {
   "cell_type": "markdown",
   "metadata": {},
   "source": [
    "## Save analysis results"
   ]
  },
  {
   "cell_type": "code",
   "execution_count": 11,
   "metadata": {
    "collapsed": true
   },
   "outputs": [],
   "source": [
    "#using JLD\n",
    "#@save \"copd.jld\"\n",
    "#whos()"
   ]
  }
 ],
 "metadata": {
  "kernelspec": {
   "display_name": "Julia 0.7.0",
   "language": "julia",
   "name": "julia-0.7"
  },
  "language_info": {
   "file_extension": ".jl",
   "mimetype": "application/julia",
   "name": "julia",
   "version": "0.7.0"
  }
 },
 "nbformat": 4,
 "nbformat_minor": 2
}
