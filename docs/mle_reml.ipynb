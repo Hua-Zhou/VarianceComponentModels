{
 "cells": [
  {
   "cell_type": "markdown",
   "metadata": {},
   "source": [
    "# MLE and REML"
   ]
  },
  {
   "cell_type": "markdown",
   "metadata": {},
   "source": [
    "## Demo data"
   ]
  },
  {
   "cell_type": "markdown",
   "metadata": {},
   "source": [
    "For demonstration, we generate a random data set."
   ]
  },
  {
   "cell_type": "code",
   "execution_count": 43,
   "metadata": {
    "collapsed": false
   },
   "outputs": [],
   "source": [
    "# generate data from a d-variate response variane component model\n",
    "srand(123)\n",
    "n = 1000   # no. observations\n",
    "d = 2      # dimension of responses\n",
    "m = 2      # no. variance components\n",
    "p = 2      # no. covariates\n",
    "# n-by-p design matrix\n",
    "X = randn(n, p)\n",
    "# p-by-d mean component regression coefficient\n",
    "B = ones(p, d)  \n",
    "# a tuple of m covariance matrices\n",
    "V = ntuple(x -> zeros(n, n), m) \n",
    "for i = 1:m-1\n",
    "  Vi = randn(n, 50)\n",
    "  copy!(V[i], Vi * Vi')\n",
    "end\n",
    "copy!(V[m], eye(n)) # last covarianec matrix is idendity\n",
    "# a tuple of m d-by-d variance component parameters\n",
    "Σ = ntuple(x -> zeros(d, d), m) \n",
    "for i in 1:m\n",
    "  Σi = randn(d, d)\n",
    "  copy!(Σ[i], Σi' * Σi)\n",
    "end\n",
    "# form overall nd-by-nd covariance matrix Ω\n",
    "Ω = zeros(n * d, n * d)\n",
    "for i = 1:m\n",
    "  Ω += kron(Σ[i], V[i])\n",
    "end\n",
    "Ωchol = cholfact(Ω)\n",
    "# n-by-d responses\n",
    "Y = X * B + reshape(Ωchol[:L] * randn(n*d), n, d);"
   ]
  },
  {
   "cell_type": "markdown",
   "metadata": {},
   "source": [
    "## Maximum likelihood estimation (MLE)"
   ]
  },
  {
   "cell_type": "markdown",
   "metadata": {},
   "source": [
    "To find the MLE of parameters $(B,\\Sigma_1,\\ldots,\\Sigma_m)$, we take 3 steps:  \n",
    "\n",
    "**Step 1 (Construct data)**. Construct an instance of `VarianceComponentVariate`, which consists fields  \n",
    "\n",
    "* `Y`: $n$-by-$d$ responses  \n",
    "* `X`: $n$-by-$p$ covariate matrix  \n",
    "* `V=(V[1],...,V[m])`: a tuple of $n$-by-$n$ covariance matrices. The last covariance matrix must be positive definite and usually is the identity matrix. "
   ]
  },
  {
   "cell_type": "code",
   "execution_count": 44,
   "metadata": {
    "collapsed": false
   },
   "outputs": [
    {
     "data": {
      "text/plain": [
       "3-element Array{Symbol,1}:\n",
       " :Y\n",
       " :X\n",
       " :V"
      ]
     },
     "execution_count": 44,
     "metadata": {},
     "output_type": "execute_result"
    }
   ],
   "source": [
    "using VarianceComponentModels\n",
    "vcdata = VarianceComponentVariate(Y, X, V)\n",
    "fieldnames(vcdata)"
   ]
  },
  {
   "cell_type": "markdown",
   "metadata": {},
   "source": [
    "In the absence of covariates $X$, we can simply initialize by `vcdata = VarianceComponentVariate(Y, V)`."
   ]
  },
  {
   "cell_type": "markdown",
   "metadata": {},
   "source": [
    "**Step 2 (Construct a model)**. Construct an instance of `VarianceComponentModel`, which consists of fields  \n",
    "\n",
    "* `B`: $n$-by-$p$ mean regression coefficients  \n",
    "* `Σ=(Σ[1],...,Σ[m])`: variane component parameters respectively. \n",
    "\n",
    "When constructed from a `VarianceComponentVariate` instance, the mean parameters $B$ are initialized to be zero and the tuple of variance component parameters $\\Sigma$ to be `(eye(d),...,eye(d))`."
   ]
  },
  {
   "cell_type": "code",
   "execution_count": 45,
   "metadata": {
    "collapsed": false
   },
   "outputs": [
    {
     "data": {
      "text/plain": [
       "7-element Array{Symbol,1}:\n",
       " :B    \n",
       " :Σ    \n",
       " :A    \n",
       " :sense\n",
       " :b    \n",
       " :lb   \n",
       " :ub   "
      ]
     },
     "execution_count": 45,
     "metadata": {},
     "output_type": "execute_result"
    }
   ],
   "source": [
    "vcmodel = VarianceComponentModel(vcdata)\n",
    "fieldnames(vcmodel)"
   ]
  },
  {
   "cell_type": "code",
   "execution_count": 46,
   "metadata": {
    "collapsed": false
   },
   "outputs": [
    {
     "data": {
      "text/plain": [
       "VarianceComponentModels.VarianceComponentModel{Float64,2,Array{Float64,2},Array{Float64,2}}(2x2 Array{Float64,2}:\n",
       " 0.0  0.0\n",
       " 0.0  0.0,(\n",
       "2x2 Array{Float64,2}:\n",
       " 1.0  0.0\n",
       " 0.0  1.0,\n",
       "\n",
       "2x2 Array{Float64,2}:\n",
       " 1.0  0.0\n",
       " 0.0  1.0),0x4 Array{Float64,2},Char[],Float64[],-Inf,Inf)"
      ]
     },
     "execution_count": 46,
     "metadata": {},
     "output_type": "execute_result"
    }
   ],
   "source": [
    "vcmodel"
   ]
  },
  {
   "cell_type": "markdown",
   "metadata": {},
   "source": [
    "The remaining fields `A`, `sense`, `b`, `lb`, `ub` specify (optional) constraints on the mean parameters `B`:\n",
    "\n",
    "$A * \\text{vec}(B) \\,\\, =(\\text{or } \\ge \\text{or } \\le) \\,\\, b$\n",
    "\n",
    "$lb \\le \\text{vec}(B) \\le ub$\n",
    "\n",
    "`A` is an constraint matrix with $pd$ columns, `sense` is a vector of charaters taking values `'<'`, `'='` or `'>'`, and `lb` and `ub` are the lower and upper bounds for `vec(B)`. By default, `A`, `sense`, `b` are empty, `lb` is `-Inf`, and `ub` is `Inf`. If any constraits are non-trivial, final estimates of `B` are enforced to satisfy them."
   ]
  },
  {
   "cell_type": "markdown",
   "metadata": {},
   "source": [
    "When a better initial guess is available, we can initialize by calling `vcmodel=VarianceComponentModel(B0, Σ0)` directly."
   ]
  },
  {
   "cell_type": "markdown",
   "metadata": {},
   "source": [
    "**Step 3 (Fit model)**. Call optmization routine `fit_mle!`. The keywork `algo` dictates the optimization algorithm: `:MM` (minorization-maximization algorithm) or `:FS` (Fisher scoring algorithm)."
   ]
  },
  {
   "cell_type": "code",
   "execution_count": 47,
   "metadata": {
    "collapsed": false
   },
   "outputs": [
    {
     "name": "stdout",
     "output_type": "stream",
     "text": [
      "\n",
      "     MM Algorithm\n",
      "  Iter      Objective  \n",
      "--------  -------------\n",
      "       0  -6.253551e+03\n",
      "       1  -3.881454e+03\n",
      "       2  -3.853179e+03\n",
      "       3  -3.846525e+03\n",
      "       4  -3.844906e+03\n",
      "       5  -3.844506e+03\n",
      "       6  -3.844406e+03\n",
      "       7  -3.844381e+03\n",
      "       8  -3.844375e+03\n",
      "       9  -3.844374e+03\n",
      "      10  -3.844373e+03\n",
      "\n",
      "  0.424500 seconds (376.24 k allocations: 35.750 MB, 2.45% gc time)\n"
     ]
    }
   ],
   "source": [
    "vcmodel_mle = deepcopy(vcmodel)\n",
    "@time logl, vcmodel_mle, Σse, Σcov, Bse, Bcov = fit_mle!(vcmodel_mle, vcdata; algo = :MM);"
   ]
  },
  {
   "cell_type": "markdown",
   "metadata": {},
   "source": [
    "The output of `fit_mle!` contains  \n",
    "\n",
    "* final log-likelihood  "
   ]
  },
  {
   "cell_type": "code",
   "execution_count": 48,
   "metadata": {
    "collapsed": false
   },
   "outputs": [
    {
     "data": {
      "text/plain": [
       "-3844.373181418088"
      ]
     },
     "execution_count": 48,
     "metadata": {},
     "output_type": "execute_result"
    }
   ],
   "source": [
    "logl"
   ]
  },
  {
   "cell_type": "markdown",
   "metadata": {},
   "source": [
    "* fitted model"
   ]
  },
  {
   "cell_type": "code",
   "execution_count": 49,
   "metadata": {
    "collapsed": false
   },
   "outputs": [
    {
     "data": {
      "text/plain": [
       "7-element Array{Symbol,1}:\n",
       " :B    \n",
       " :Σ    \n",
       " :A    \n",
       " :sense\n",
       " :b    \n",
       " :lb   \n",
       " :ub   "
      ]
     },
     "execution_count": 49,
     "metadata": {},
     "output_type": "execute_result"
    }
   ],
   "source": [
    "fieldnames(vcmodel_mle)"
   ]
  },
  {
   "cell_type": "code",
   "execution_count": 50,
   "metadata": {
    "collapsed": false
   },
   "outputs": [
    {
     "data": {
      "text/plain": [
       "VarianceComponentModels.VarianceComponentModel{Float64,2,Array{Float64,2},Array{Float64,2}}(2x2 Array{Float64,2}:\n",
       " 1.092     1.04727\n",
       " 0.955346  1.01632,(\n",
       "2x2 Array{Float64,2}:\n",
       "  0.380637  -0.305465\n",
       " -0.305465   4.51938 ,\n",
       "\n",
       "2x2 Array{Float64,2}:\n",
       " 1.84009   0.265569\n",
       " 0.265569  2.17275 ),0x4 Array{Float64,2},Char[],Float64[],-Inf,Inf)"
      ]
     },
     "execution_count": 50,
     "metadata": {},
     "output_type": "execute_result"
    }
   ],
   "source": [
    "vcmodel_mle"
   ]
  },
  {
   "cell_type": "markdown",
   "metadata": {},
   "source": [
    "* standard errors of the estimated varianec component parameters"
   ]
  },
  {
   "cell_type": "code",
   "execution_count": 51,
   "metadata": {
    "collapsed": false
   },
   "outputs": [
    {
     "data": {
      "text/plain": [
       "(\n",
       "2x2 Array{Float64,2}:\n",
       " 0.0765136  0.263047\n",
       " 0.263047   0.904332,\n",
       "\n",
       "2x2 Array{Float64,2}:\n",
       " 0.0844292  0.0917441\n",
       " 0.0917441  0.0996927)"
      ]
     },
     "execution_count": 51,
     "metadata": {},
     "output_type": "execute_result"
    }
   ],
   "source": [
    "Σse"
   ]
  },
  {
   "cell_type": "markdown",
   "metadata": {},
   "source": [
    "* covariance matrix of the variance component parameters estimates"
   ]
  },
  {
   "cell_type": "code",
   "execution_count": 52,
   "metadata": {
    "collapsed": false
   },
   "outputs": [
    {
     "data": {
      "text/plain": [
       "8x8 Array{Float64,2}:\n",
       "  0.00585433  -0.00467019  -0.00467019  …  -1.07903e-6   -1.557e-7   \n",
       " -0.00467019   0.0691937    0.00372555     -1.557e-7     -1.27444e-6 \n",
       " -0.00467019   0.00372555   0.0691937      -8.83212e-6   -1.27444e-6 \n",
       "  0.00372555  -0.055198    -0.055198       -1.27444e-6   -1.04316e-5 \n",
       " -7.4779e-6   -1.07903e-6  -1.07903e-6      0.00102878    0.000148477\n",
       " -1.07903e-6  -8.83212e-6  -1.557e-7    …   0.000148477   0.00121477 \n",
       " -1.07903e-6  -1.557e-7    -8.83212e-6      0.00841698    0.00121477 \n",
       " -1.557e-7    -1.27444e-6  -1.27444e-6      0.00121477    0.00993864 "
      ]
     },
     "execution_count": 52,
     "metadata": {},
     "output_type": "execute_result"
    }
   ],
   "source": [
    "Σcov"
   ]
  },
  {
   "cell_type": "markdown",
   "metadata": {},
   "source": [
    "* standard errors of the estimated mean parameters"
   ]
  },
  {
   "cell_type": "code",
   "execution_count": 53,
   "metadata": {
    "collapsed": false
   },
   "outputs": [
    {
     "data": {
      "text/plain": [
       "2x2 Array{Float64,2}:\n",
       " 0.042556   0.0483538\n",
       " 0.0430622  0.0495727"
      ]
     },
     "execution_count": 53,
     "metadata": {},
     "output_type": "execute_result"
    }
   ],
   "source": [
    "Bse"
   ]
  },
  {
   "cell_type": "markdown",
   "metadata": {},
   "source": [
    "* covariance matrix of the mean parameter estimates"
   ]
  },
  {
   "cell_type": "code",
   "execution_count": 54,
   "metadata": {
    "collapsed": false
   },
   "outputs": [
    {
     "data": {
      "text/plain": [
       "4x4 Array{Float64,2}:\n",
       "  0.00181101   -1.98163e-5    0.000243689  -2.44708e-6 \n",
       " -1.98163e-5    0.00185435   -2.44708e-6    0.000243907\n",
       "  0.000243689  -2.44708e-6    0.00233809   -2.80614e-5 \n",
       " -2.44708e-6    0.000243907  -2.80614e-5    0.00245745 "
      ]
     },
     "execution_count": 54,
     "metadata": {},
     "output_type": "execute_result"
    }
   ],
   "source": [
    "Bcov"
   ]
  },
  {
   "cell_type": "markdown",
   "metadata": {},
   "source": [
    "## Restricted maximum likelihood estimation (REML)"
   ]
  },
  {
   "cell_type": "markdown",
   "metadata": {},
   "source": [
    "[REML (restricted maximum likelihood estimation)](https://en.wikipedia.org/wiki/Restricted_maximum_likelihood) is a popular alternative to the MLE. To find the REML of a variane component model, we replace the above step 3 by  "
   ]
  },
  {
   "cell_type": "markdown",
   "metadata": {},
   "source": [
    "**Step 3**. Call optmization routine `fit_reml!`."
   ]
  },
  {
   "cell_type": "code",
   "execution_count": 55,
   "metadata": {
    "collapsed": false
   },
   "outputs": [
    {
     "name": "stdout",
     "output_type": "stream",
     "text": [
      "\n",
      "     MM Algorithm\n",
      "  Iter      Objective  \n",
      "--------  -------------\n",
      "       0  -4.215053e+03\n",
      "       1  -3.925799e+03\n",
      "       2  -3.865114e+03\n",
      "       3  -3.851105e+03\n",
      "       4  -3.847732e+03\n",
      "       5  -3.846903e+03\n",
      "       6  -3.846698e+03\n",
      "       7  -3.846647e+03\n",
      "       8  -3.846634e+03\n",
      "       9  -3.846631e+03\n",
      "      10  -3.846630e+03\n",
      "\n",
      "  0.439750 seconds (518.76 k allocations: 34.737 MB, 9.35% gc time)\n"
     ]
    }
   ],
   "source": [
    "vcmodel_reml = deepcopy(vcmodel)\n",
    "@time logl, vcmodel_reml, Σse, Σcov, Bse, Bcov = fit_reml!(vcmodel_reml, vcdata; algo = :MM);"
   ]
  },
  {
   "cell_type": "markdown",
   "metadata": {},
   "source": [
    "The output of `fit_reml!` contains"
   ]
  },
  {
   "cell_type": "markdown",
   "metadata": {},
   "source": [
    "* the final log-likelihood at REML estimate"
   ]
  },
  {
   "cell_type": "code",
   "execution_count": 56,
   "metadata": {
    "collapsed": false
   },
   "outputs": [
    {
     "data": {
      "text/plain": [
       "-3845.064174687702"
      ]
     },
     "execution_count": 56,
     "metadata": {},
     "output_type": "execute_result"
    }
   ],
   "source": [
    "logl"
   ]
  },
  {
   "cell_type": "markdown",
   "metadata": {},
   "source": [
    "* REML estimates"
   ]
  },
  {
   "cell_type": "code",
   "execution_count": 57,
   "metadata": {
    "collapsed": false
   },
   "outputs": [
    {
     "data": {
      "text/plain": [
       "7-element Array{Symbol,1}:\n",
       " :B    \n",
       " :Σ    \n",
       " :A    \n",
       " :sense\n",
       " :b    \n",
       " :lb   \n",
       " :ub   "
      ]
     },
     "execution_count": 57,
     "metadata": {},
     "output_type": "execute_result"
    }
   ],
   "source": [
    "fieldnames(vcmodel_reml)"
   ]
  },
  {
   "cell_type": "code",
   "execution_count": 58,
   "metadata": {
    "collapsed": false
   },
   "outputs": [
    {
     "data": {
      "text/plain": [
       "VarianceComponentModels.VarianceComponentModel{Float64,2,Array{Float64,2},Array{Float64,2}}(2x2 Array{Float64,2}:\n",
       " 1.11982   1.05614 \n",
       " 0.917773  0.986431,(\n",
       "2x2 Array{Float64,2}:\n",
       "  0.380594  -0.305485\n",
       " -0.305485   4.51994 ,\n",
       "\n",
       "2x2 Array{Float64,2}:\n",
       " 1.84285   0.261963\n",
       " 0.261963  2.17842 ),0x4 Array{Float64,2},Char[],Float64[],-Inf,Inf)"
      ]
     },
     "execution_count": 58,
     "metadata": {},
     "output_type": "execute_result"
    }
   ],
   "source": [
    "vcmodel_reml"
   ]
  },
  {
   "cell_type": "markdown",
   "metadata": {},
   "source": [
    "* standard errors of the estimated varianec component parameters"
   ]
  },
  {
   "cell_type": "code",
   "execution_count": 59,
   "metadata": {
    "collapsed": false
   },
   "outputs": [
    {
     "data": {
      "text/plain": [
       "(\n",
       "2x2 Array{Float64,2}:\n",
       " 0.0765055  0.26305 \n",
       " 0.26305    0.904446,\n",
       "\n",
       "2x2 Array{Float64,2}:\n",
       " 0.0845559  0.0919325\n",
       " 0.0919325  0.0999526)"
      ]
     },
     "execution_count": 59,
     "metadata": {},
     "output_type": "execute_result"
    }
   ],
   "source": [
    "Σse"
   ]
  },
  {
   "cell_type": "markdown",
   "metadata": {},
   "source": [
    "* covariance matrix of the variance component parameters estimates"
   ]
  },
  {
   "cell_type": "code",
   "execution_count": 60,
   "metadata": {
    "collapsed": false
   },
   "outputs": [
    {
     "data": {
      "text/plain": [
       "8x8 Array{Float64,2}:\n",
       "  0.0058531   -0.00467005  -0.00467005  …  -1.06597e-6   -1.51499e-7 \n",
       " -0.00467005   0.0691951    0.00372613     -1.51499e-7   -1.26041e-6 \n",
       " -0.00467005   0.00372613   0.0691951      -8.86843e-6   -1.26041e-6 \n",
       "  0.00372613  -0.0552092   -0.0552092      -1.26041e-6   -1.0486e-5  \n",
       " -7.50035e-6  -1.06597e-6  -1.06597e-6      0.00101633    0.000144472\n",
       " -1.06597e-6  -8.86843e-6  -1.51499e-7  …   0.000144472   0.0012014  \n",
       " -1.06597e-6  -1.51499e-7  -8.86843e-6      0.00845158    0.0012014  \n",
       " -1.51499e-7  -1.26041e-6  -1.26041e-6      0.0012014     0.00999052 "
      ]
     },
     "execution_count": 60,
     "metadata": {},
     "output_type": "execute_result"
    }
   ],
   "source": [
    "Σcov"
   ]
  },
  {
   "cell_type": "markdown",
   "metadata": {},
   "source": [
    "* standard errors of the estimated mean parameters"
   ]
  },
  {
   "cell_type": "code",
   "execution_count": 61,
   "metadata": {
    "collapsed": false
   },
   "outputs": [
    {
     "data": {
      "text/plain": [
       "2x2 Array{Float64,2}:\n",
       " 0.0765055  0.26305 \n",
       " 0.26305    0.904446"
      ]
     },
     "execution_count": 61,
     "metadata": {},
     "output_type": "execute_result"
    }
   ],
   "source": [
    "Bse"
   ]
  },
  {
   "cell_type": "markdown",
   "metadata": {},
   "source": [
    "* covariance matrix of the mean parameter estimates"
   ]
  },
  {
   "cell_type": "code",
   "execution_count": 62,
   "metadata": {
    "collapsed": false
   },
   "outputs": [
    {
     "data": {
      "text/plain": [
       "4x4 Array{Float64,2}:\n",
       "  0.00585309  -0.00467006  -0.00467006   0.00372613\n",
       " -0.00467006   0.0691951    0.00372613  -0.0552092 \n",
       " -0.00467006   0.00372613   0.0691951   -0.0552092 \n",
       "  0.00372613  -0.0552092   -0.0552092    0.818022  "
      ]
     },
     "execution_count": 62,
     "metadata": {},
     "output_type": "execute_result"
    }
   ],
   "source": [
    "Bcov"
   ]
  },
  {
   "cell_type": "markdown",
   "metadata": {},
   "source": [
    "## Optimization algorithms"
   ]
  },
  {
   "cell_type": "markdown",
   "metadata": {},
   "source": [
    "Finding the MLE or REML of variance component models is a non-trivial nonlinear optimization problem. The main complications are the non-convexity of objective function and the positive semi-definiteness constraint of variane component parameters $\\Sigma_1,\\ldots,\\Sigma_m$. In specific applications, users should try different algorithms with different starting points in order to find a better solution. Here are some tips for efficient computation. "
   ]
  },
  {
   "cell_type": "markdown",
   "metadata": {},
   "source": [
    "In general the optimization algorithm needs to invert the $nd$ by $nd$ overall covariance matrix $\\Omega = \\Sigma_1 \\otimes V_1 + \\cdots + \\Sigma_m \\otimes V_m$ in each iteration. Inverting a matrix is an expensive operation with $O(n^3 d^3)$ floating operations. When there are only **two** varianec components ($m=2$), this tedious task can be avoided by taking one (generalized) eigendecomposion of $(V_1, V_2)$ and rotating data $(Y, X)$ by the eigen-vectors. "
   ]
  },
  {
   "cell_type": "code",
   "execution_count": 63,
   "metadata": {
    "collapsed": false
   },
   "outputs": [
    {
     "data": {
      "text/plain": [
       "4-element Array{Symbol,1}:\n",
       " :Yrot    \n",
       " :Xrot    \n",
       " :eigval  \n",
       " :logdetV2"
      ]
     },
     "execution_count": 63,
     "metadata": {},
     "output_type": "execute_result"
    }
   ],
   "source": [
    "vcdatarot = TwoVarCompVariateRotate(vcdata)\n",
    "fieldnames(vcdatarot)"
   ]
  },
  {
   "cell_type": "markdown",
   "metadata": {},
   "source": [
    "Two optimization algorithms are implemented: [Fisher scoring](https://books.google.com/books?id=QYqeYTftPNwC&lpg=PP1&pg=PA142#v=onepage&q&f=false) (`mle_fs!`) and the [minorization-maximization (MM) algorithm](http://arxiv.org/abs/1509.07426) (`mle_mm!`). Both take the rotated data as input. These two functions give finer control of the optimization algorithms. Generally speaking, MM algorithm is more stable while Fisher scoring (if it converges) yields more accurate answer."
   ]
  },
  {
   "cell_type": "code",
   "execution_count": 64,
   "metadata": {
    "collapsed": false
   },
   "outputs": [
    {
     "name": "stdout",
     "output_type": "stream",
     "text": [
      "\n",
      "     MM Algorithm\n",
      "  Iter      Objective  \n",
      "--------  -------------\n",
      "       0  -6.253551e+03\n",
      "       1  -3.881454e+03\n",
      "       2  -3.853179e+03\n",
      "       3  -3.846525e+03\n",
      "       4  -3.844906e+03\n",
      "       5  -3.844506e+03\n",
      "       6  -3.844406e+03\n",
      "       7  -3.844381e+03\n",
      "       8  -3.844375e+03\n",
      "       9  -3.844374e+03\n",
      "      10  -3.844373e+03\n",
      "\n",
      "  0.021407 seconds (372.18 k allocations: 12.394 MB, 19.16% gc time)\n"
     ]
    }
   ],
   "source": [
    "vcmodel_mm = deepcopy(vcmodel)\n",
    "@time mle_mm!(vcmodel_mm, vcdatarot; maxiter=10000, funtol=1e-8, verbose = true);"
   ]
  },
  {
   "cell_type": "code",
   "execution_count": 65,
   "metadata": {
    "collapsed": false
   },
   "outputs": [
    {
     "data": {
      "text/plain": [
       "2x2 Array{Float64,2}:\n",
       " 1.092     1.04727\n",
       " 0.955346  1.01632"
      ]
     },
     "execution_count": 65,
     "metadata": {},
     "output_type": "execute_result"
    }
   ],
   "source": [
    "# MM estimates\n",
    "vcmodel_mm.B"
   ]
  },
  {
   "cell_type": "code",
   "execution_count": 66,
   "metadata": {
    "collapsed": false
   },
   "outputs": [
    {
     "data": {
      "text/plain": [
       "(\n",
       "2x2 Array{Float64,2}:\n",
       "  0.380637  -0.305465\n",
       " -0.305465   4.51938 ,\n",
       "\n",
       "2x2 Array{Float64,2}:\n",
       " 1.84009   0.265569\n",
       " 0.265569  2.17275 )"
      ]
     },
     "execution_count": 66,
     "metadata": {},
     "output_type": "execute_result"
    }
   ],
   "source": [
    "# MM estimates\n",
    "vcmodel_mm.Σ"
   ]
  },
  {
   "cell_type": "markdown",
   "metadata": {},
   "source": [
    "Fisher scoring (`mle_fs!`) uses either [Ipopt.jl](https://github.com/JuliaOpt/Ipopt.jl) (keyword `solver=:Ipopt`) or [KNITRO.jl](https://github.com/JuliaOpt/KNITRO.jl) (keyword `solver=:Knitro`) as the backend solver. Ipopt is open source and installation of [Ipopt.jl](https://github.com/JuliaOpt/Ipopt.jl) package alone is sufficient. Knitro is a commercial software and users need to follow instructions at [KNITRO.jl](https://github.com/JuliaOpt/KNITRO.jl) for proper functioning."
   ]
  },
  {
   "cell_type": "code",
   "execution_count": 67,
   "metadata": {
    "collapsed": false
   },
   "outputs": [
    {
     "name": "stdout",
     "output_type": "stream",
     "text": [
      "This is Ipopt version 3.12.4, running with linear solver mumps.\n",
      "NOTE: Other linear solvers might be more efficient (see Ipopt documentation).\n",
      "\n",
      "Number of nonzeros in equality constraint Jacobian...:        0\n",
      "Number of nonzeros in inequality constraint Jacobian.:        0\n",
      "Number of nonzeros in Lagrangian Hessian.............:       21\n",
      "\n",
      "Total number of variables............................:        6\n",
      "                     variables with only lower bounds:        0\n",
      "                variables with lower and upper bounds:        0\n",
      "                     variables with only upper bounds:        0\n",
      "Total number of equality constraints.................:        0\n",
      "Total number of inequality constraints...............:        0\n",
      "        inequality constraints with only lower bounds:        0\n",
      "   inequality constraints with lower and upper bounds:        0\n",
      "        inequality constraints with only upper bounds:        0\n",
      "\n",
      "iter    objective    inf_pr   inf_du lg(mu)  ||d||  lg(rg) alpha_du alpha_pr  ls\n",
      "   0  4.2109423e+03 0.00e+00 1.00e+02   0.0 0.00e+00    -  0.00e+00 0.00e+00   0 \n",
      "   5  3.8445586e+03 0.00e+00 7.87e-01 -11.0 4.94e-02    -  1.00e+00 1.00e+00f  1 MaxS\n",
      "  10  3.8443870e+03 0.00e+00 2.25e-01 -11.0 1.38e-02    -  1.00e+00 1.00e+00f  1 MaxS\n",
      "  15  3.8443742e+03 0.00e+00 6.23e-02 -11.0 3.78e-03    -  1.00e+00 1.00e+00f  1 MaxS\n",
      "  20  3.8443733e+03 0.00e+00 1.70e-02 -11.0 1.03e-03    -  1.00e+00 1.00e+00f  1 MaxS\n",
      "  25  3.8443732e+03 0.00e+00 4.61e-03 -11.0 2.79e-04    -  1.00e+00 1.00e+00f  1 MaxS\n",
      "  30  3.8443732e+03 0.00e+00 1.25e-03 -11.0 7.56e-05    -  1.00e+00 1.00e+00f  1 MaxS\n",
      "  35  3.8443732e+03 0.00e+00 3.39e-04 -11.0 2.05e-05    -  1.00e+00 1.00e+00f  1 MaxS\n",
      "  40  3.8443732e+03 0.00e+00 9.19e-05 -11.0 5.55e-06    -  1.00e+00 1.00e+00f  1 MaxS\n",
      "  45  3.8443732e+03 0.00e+00 2.49e-05 -11.0 1.51e-06    -  1.00e+00 1.00e+00f  1 MaxS\n",
      "iter    objective    inf_pr   inf_du lg(mu)  ||d||  lg(rg) alpha_du alpha_pr  ls\n",
      "  50  3.8443732e+03 0.00e+00 6.76e-06 -11.0 4.08e-07    -  1.00e+00 1.00e+00f  1 MaxSA\n",
      "  55  3.8443732e+03 0.00e+00 1.83e-06 -11.0 1.11e-07    -  1.00e+00 1.00e+00f  1 MaxSA\n",
      "  60  3.8443732e+03 0.00e+00 4.97e-07 -11.0 3.00e-08    -  1.00e+00 1.00e+00h  1 MaxSA\n",
      "\n",
      "Number of Iterations....: 63\n",
      "\n",
      "                                   (scaled)                 (unscaled)\n",
      "Objective...............:   3.4496886481727677e+02    3.8443731733053764e+03\n",
      "Dual infeasibility......:   2.2693632036307751e-07    2.5290047625444626e-06\n",
      "Constraint violation....:   0.0000000000000000e+00    0.0000000000000000e+00\n",
      "Complementarity.........:   0.0000000000000000e+00    0.0000000000000000e+00\n",
      "Overall NLP error.......:   2.2693632036307751e-07    2.5290047625444626e-06\n",
      "\n",
      "\n",
      "Number of objective function evaluations             = 64\n",
      "Number of objective gradient evaluations             = 64\n",
      "Number of equality constraint evaluations            = 0\n",
      "Number of inequality constraint evaluations          = 0\n",
      "Number of equality constraint Jacobian evaluations   = 0\n",
      "Number of inequality constraint Jacobian evaluations = 0\n",
      "Number of Lagrangian Hessian evaluations             = 63\n",
      "Total CPU secs in IPOPT (w/o function evaluations)   =      0.025\n",
      "Total CPU secs in NLP function evaluations           =      0.389\n",
      "\n",
      "EXIT: Solved To Acceptable Level.\n",
      "  0.344705 seconds (8.03 M allocations: 178.722 MB, 4.22% gc time)\n"
     ]
    }
   ],
   "source": [
    "# Fisher scoring using Ipopt\n",
    "vcmodel_ipopt = deepcopy(vcmodel)\n",
    "@time mle_fs!(vcmodel_ipopt, vcdatarot; solver=:Ipopt, maxiter=1000, verbose=true);"
   ]
  },
  {
   "cell_type": "code",
   "execution_count": 68,
   "metadata": {
    "collapsed": false
   },
   "outputs": [
    {
     "data": {
      "text/plain": [
       "2x2 Array{Float64,2}:\n",
       " 1.092     1.04727\n",
       " 0.955346  1.01632"
      ]
     },
     "execution_count": 68,
     "metadata": {},
     "output_type": "execute_result"
    }
   ],
   "source": [
    "# Ipopt estimates\n",
    "vcmodel_ipopt.B"
   ]
  },
  {
   "cell_type": "code",
   "execution_count": 69,
   "metadata": {
    "collapsed": false
   },
   "outputs": [
    {
     "data": {
      "text/plain": [
       "(\n",
       "2x2 Array{Float64,2}:\n",
       "  0.380552  -0.305594\n",
       " -0.305594   4.52106 ,\n",
       "\n",
       "2x2 Array{Float64,2}:\n",
       " 1.84008   0.265385\n",
       " 0.265385  2.17287 )"
      ]
     },
     "execution_count": 69,
     "metadata": {},
     "output_type": "execute_result"
    }
   ],
   "source": [
    "# Ipopt estimates\n",
    "vcmodel_ipopt.Σ"
   ]
  },
  {
   "cell_type": "code",
   "execution_count": 70,
   "metadata": {
    "collapsed": false
   },
   "outputs": [
    {
     "name": "stdout",
     "output_type": "stream",
     "text": [
      "\n",
      "Knitro 10.1.0 STUDENT LICENSE (problem size limit = 300)\n",
      "\n",
      "=======================================\n",
      "            Student License\n",
      "       (NOT FOR COMMERCIAL USE)\n",
      "         Artelys Knitro 10.1.0\n",
      "=======================================\n",
      "\n",
      "Knitro presolve eliminated 0 variables and 0 constraints.\n",
      "\n",
      "The problem is identified as unconstrained.\n",
      "Knitro changing algorithm from AUTO to 1.\n",
      "Knitro changing bar_initpt from AUTO to 3.\n",
      "Knitro changing bar_murule from AUTO to 4.\n",
      "Knitro changing bar_penaltycons from AUTO to 1.\n",
      "Knitro changing bar_penaltyrule from AUTO to 2.\n",
      "Knitro changing bar_switchrule from AUTO to 1.\n",
      "Knitro changing linsolver from AUTO to 2.\n",
      "\n",
      "Problem Characteristics                    ( Presolved)\n",
      "-----------------------\n",
      "Objective goal:  Maximize\n",
      "Number of variables:                     6 (         6)\n",
      "    bounded below:                       0 (         0)\n",
      "    bounded above:                       0 (         0)\n",
      "    bounded below and above:             0 (         0)\n",
      "    fixed:                               0 (         0)\n",
      "    free:                                6 (         6)\n",
      "Number of constraints:                   0 (         0)\n",
      "    linear equalities:                   0 (         0)\n",
      "    nonlinear equalities:                0 (         0)\n",
      "    linear inequalities:                 0 (         0)\n",
      "    nonlinear inequalities:              0 (         0)\n",
      "    range:                               0 (         0)\n",
      "Number of nonzeros in Jacobian:          0 (         0)\n",
      "Number of nonzeros in Hessian:          21 (        21)\n",
      "\n",
      "  Iter      Objective      FeasError   OptError    ||Step||    CGits \n",
      "--------  --------------  ----------  ----------  ----------  -------\n",
      "       0   -4.210942e+03   0.000e+00\n",
      "      10   -3.844387e+03   0.000e+00   2.254e-01   1.390e-02        0\n",
      "      20   -3.844373e+03   0.000e+00   1.698e-02   1.034e-03        0\n",
      "      30   -3.844373e+03   0.000e+00   1.250e-03   7.606e-05        0\n",
      "      40   -3.844373e+03   0.000e+00   9.191e-05   5.591e-06        0\n",
      "\n",
      "EXIT: Locally optimal solution found.\n",
      "\n",
      "Final Statistics\n",
      "----------------\n",
      "Final objective value               =  -3.84437317330763e+03\n",
      "Final feasibility error (abs / rel) =   0.00e+00 / 0.00e+00\n",
      "Final optimality error  (abs / rel) =   9.19e-05 / 9.19e-07\n",
      "# of iterations                     =         40 \n",
      "# of CG iterations                  =          0 \n",
      "# of function evaluations           =         42\n",
      "# of gradient evaluations           =         42\n",
      "# of Hessian evaluations            =         40\n",
      "Total program time (secs)           =       0.22907 (     0.228 CPU time)\n",
      "Time spent in evaluations (secs)    =       0.22576\n",
      "\n",
      "===============================================================================\n",
      "\n",
      "  0.234995 seconds (5.15 M allocations: 115.082 MB, 4.41% gc time)\n"
     ]
    },
    {
     "name": "stderr",
     "output_type": "stream",
     "text": [
      "### Could not find a valid license.\n",
      "    Your machine ID is 1f-aa-f6-5b-46.\n",
      "    Please contact licensing@artelys.com or your local distributor to obtain a license.\n",
      "    If you already have a license, please execute `get_machine_ID -v` and send the output to support.\n"
     ]
    }
   ],
   "source": [
    "# Fisher scoring using Knitro\n",
    "vcmodel_knitro = deepcopy(vcmodel)\n",
    "@time mle_fs!(vcmodel_knitro, vcdatarot; solver=:Knitro, maxiter=1000, verbose=true);"
   ]
  },
  {
   "cell_type": "code",
   "execution_count": 71,
   "metadata": {
    "collapsed": false
   },
   "outputs": [
    {
     "data": {
      "text/plain": [
       "2x2 Array{Float64,2}:\n",
       " 1.092     1.04727\n",
       " 0.955346  1.01632"
      ]
     },
     "execution_count": 71,
     "metadata": {},
     "output_type": "execute_result"
    }
   ],
   "source": [
    "# Knitro estimates\n",
    "vcmodel_knitro.B"
   ]
  },
  {
   "cell_type": "code",
   "execution_count": 72,
   "metadata": {
    "collapsed": false
   },
   "outputs": [
    {
     "data": {
      "text/plain": [
       "(\n",
       "2x2 Array{Float64,2}:\n",
       "  0.380552  -0.305582\n",
       " -0.305582   4.52106 ,\n",
       "\n",
       "2x2 Array{Float64,2}:\n",
       " 1.84008   0.265385\n",
       " 0.265385  2.17287 )"
      ]
     },
     "execution_count": 72,
     "metadata": {},
     "output_type": "execute_result"
    }
   ],
   "source": [
    "# Knitro estimates\n",
    "vcmodel_knitro.Σ"
   ]
  },
  {
   "cell_type": "markdown",
   "metadata": {},
   "source": [
    "## Starting point"
   ]
  },
  {
   "cell_type": "markdown",
   "metadata": {},
   "source": [
    "Here are a few strategies for successful optimization. "
   ]
  },
  {
   "cell_type": "markdown",
   "metadata": {},
   "source": [
    "* For $d>1$ (multivariate response), initialize $B, \\Sigma$ from univariate estimates.  \n",
    "* Use REML estimate as starting point for MLE.  \n",
    "* When there are only $m=2$ variance components, pre-compute `TwoVarCompVariateRotate` and use it for optimization."
   ]
  },
  {
   "cell_type": "markdown",
   "metadata": {
    "collapsed": true
   },
   "source": [
    "## Constrained estimation of `B`"
   ]
  },
  {
   "cell_type": "markdown",
   "metadata": {},
   "source": [
    "Many applications invoke constraints on the mean parameters `B`. For demonstration, we enforce `B[1,1]=B[1,2]` and all entries of `B` are within [0, 2]."
   ]
  },
  {
   "cell_type": "code",
   "execution_count": 73,
   "metadata": {
    "collapsed": false
   },
   "outputs": [
    {
     "data": {
      "text/plain": [
       "VarianceComponentModels.VarianceComponentModel{Float64,2,Array{Float64,2},Array{Float64,2}}(2x2 Array{Float64,2}:\n",
       " 0.0  0.0\n",
       " 0.0  0.0,(\n",
       "2x2 Array{Float64,2}:\n",
       " 1.0  0.0\n",
       " 0.0  1.0,\n",
       "\n",
       "2x2 Array{Float64,2}:\n",
       " 1.0  0.0\n",
       " 0.0  1.0),1x4 Array{Float64,2}:\n",
       " 1.0  0.0  -1.0  0.0,'=',0.0,0.0,2.0)"
      ]
     },
     "execution_count": 73,
     "metadata": {},
     "output_type": "execute_result"
    }
   ],
   "source": [
    "# set up constraints on B\n",
    "vcmodel_constr = deepcopy(vcmodel)\n",
    "vcmodel_constr.A = [1.0 0.0 -1.0 0.0]\n",
    "vcmodel_constr.sense = '='\n",
    "vcmodel_constr.b = 0.0\n",
    "vcmodel_constr.lb = 0.0\n",
    "vcmodel_constr.ub = 2.0\n",
    "vcmodel_constr"
   ]
  },
  {
   "cell_type": "markdown",
   "metadata": {},
   "source": [
    "We first try the MM algorithm."
   ]
  },
  {
   "cell_type": "code",
   "execution_count": 74,
   "metadata": {
    "collapsed": false
   },
   "outputs": [
    {
     "name": "stdout",
     "output_type": "stream",
     "text": [
      "\n",
      "     MM Algorithm\n",
      "  Iter      Objective  \n",
      "--------  -------------\n",
      "       0  -6.253551e+03\n",
      "       1  -3.881820e+03\n",
      "       2  -3.853477e+03\n",
      "       3  -3.846807e+03\n",
      "       4  -3.845184e+03\n",
      "       5  -3.844783e+03\n",
      "       6  -3.844683e+03\n",
      "       7  -3.844658e+03\n",
      "       8  -3.844652e+03\n",
      "       9  -3.844650e+03\n",
      "      10  -3.844650e+03\n",
      "\n",
      "  0.059954 seconds (376.25 k allocations: 10.876 MB, 7.08% gc time)\n"
     ]
    }
   ],
   "source": [
    "# MM algorithm for constrained estimation of B\n",
    "@time mle_mm!(vcmodel_constr, vcdatarot; maxiter=10000, funtol=1e-8, verbose = true);"
   ]
  },
  {
   "cell_type": "code",
   "execution_count": 75,
   "metadata": {
    "collapsed": false
   },
   "outputs": [
    {
     "data": {
      "text/plain": [
       "7-element Array{Symbol,1}:\n",
       " :B    \n",
       " :Σ    \n",
       " :A    \n",
       " :sense\n",
       " :b    \n",
       " :lb   \n",
       " :ub   "
      ]
     },
     "execution_count": 75,
     "metadata": {},
     "output_type": "execute_result"
    }
   ],
   "source": [
    "fieldnames(vcmodel_constr)"
   ]
  },
  {
   "cell_type": "code",
   "execution_count": 76,
   "metadata": {
    "collapsed": false
   },
   "outputs": [
    {
     "data": {
      "text/plain": [
       "2x2 Array{Float64,2}:\n",
       " 1.07177   1.07177\n",
       " 0.955683  1.01591"
      ]
     },
     "execution_count": 76,
     "metadata": {},
     "output_type": "execute_result"
    }
   ],
   "source": [
    "vcmodel_constr.B"
   ]
  },
  {
   "cell_type": "code",
   "execution_count": 77,
   "metadata": {
    "collapsed": false
   },
   "outputs": [
    {
     "data": {
      "text/plain": [
       "(\n",
       "2x2 Array{Float64,2}:\n",
       "  0.380624  -0.305498\n",
       " -0.305498   4.51948 ,\n",
       "\n",
       "2x2 Array{Float64,2}:\n",
       " 1.84051   0.265065\n",
       " 0.265065  2.17336 )"
      ]
     },
     "execution_count": 77,
     "metadata": {},
     "output_type": "execute_result"
    }
   ],
   "source": [
    "vcmodel_constr.Σ"
   ]
  },
  {
   "cell_type": "markdown",
   "metadata": {},
   "source": [
    "Now let's try Fisher scoring."
   ]
  },
  {
   "cell_type": "code",
   "execution_count": 78,
   "metadata": {
    "collapsed": false
   },
   "outputs": [
    {
     "name": "stdout",
     "output_type": "stream",
     "text": [
      "This is Ipopt version 3.12.4, running with linear solver mumps.\n",
      "NOTE: Other linear solvers might be more efficient (see Ipopt documentation).\n",
      "\n",
      "Number of nonzeros in equality constraint Jacobian...:        0\n",
      "Number of nonzeros in inequality constraint Jacobian.:        0\n",
      "Number of nonzeros in Lagrangian Hessian.............:       21\n",
      "\n",
      "Total number of variables............................:        6\n",
      "                     variables with only lower bounds:        0\n",
      "                variables with lower and upper bounds:        0\n",
      "                     variables with only upper bounds:        0\n",
      "Total number of equality constraints.................:        0\n",
      "Total number of inequality constraints...............:        0\n",
      "        inequality constraints with only lower bounds:        0\n",
      "   inequality constraints with lower and upper bounds:        0\n",
      "        inequality constraints with only upper bounds:        0\n",
      "\n",
      "iter    objective    inf_pr   inf_du lg(mu)  ||d||  lg(rg) alpha_du alpha_pr  ls\n",
      "   0  4.2114270e+03 0.00e+00 1.00e+02   0.0 0.00e+00    -  0.00e+00 0.00e+00   0 \n",
      "   5  3.8448353e+03 0.00e+00 7.87e-01 -11.0 4.94e-02    -  1.00e+00 1.00e+00f  1 MaxS\n",
      "  10  3.8446636e+03 0.00e+00 2.25e-01 -11.0 1.38e-02    -  1.00e+00 1.00e+00f  1 MaxS\n",
      "  15  3.8446509e+03 0.00e+00 6.23e-02 -11.0 3.78e-03    -  1.00e+00 1.00e+00f  1 MaxS\n",
      "  20  3.8446499e+03 0.00e+00 1.70e-02 -11.0 1.03e-03    -  1.00e+00 1.00e+00f  1 MaxS\n",
      "  25  3.8446498e+03 0.00e+00 4.61e-03 -11.0 2.79e-04    -  1.00e+00 1.00e+00f  1 MaxS\n",
      "  30  3.8446498e+03 0.00e+00 1.25e-03 -11.0 7.56e-05    -  1.00e+00 1.00e+00f  1 MaxS\n",
      "  35  3.8446498e+03 0.00e+00 3.39e-04 -11.0 2.05e-05    -  1.00e+00 1.00e+00f  1 MaxS\n",
      "  40  3.8446498e+03 0.00e+00 9.19e-05 -11.0 5.56e-06    -  1.00e+00 1.00e+00f  1 MaxS\n",
      "  45  3.8446498e+03 0.00e+00 2.49e-05 -11.0 1.51e-06    -  1.00e+00 1.00e+00f  1 MaxS\n",
      "iter    objective    inf_pr   inf_du lg(mu)  ||d||  lg(rg) alpha_du alpha_pr  ls\n",
      "  50  3.8446498e+03 0.00e+00 6.76e-06 -11.0 4.08e-07    -  1.00e+00 1.00e+00f  1 MaxSA\n",
      "  55  3.8446498e+03 0.00e+00 1.83e-06 -11.0 1.11e-07    -  1.00e+00 1.00e+00f  1 MaxSA\n",
      "  60  3.8446498e+03 0.00e+00 4.97e-07 -11.0 3.00e-08    -  1.00e+00 1.00e+00f  1 MaxSA\n",
      "\n",
      "Number of Iterations....: 63\n",
      "\n",
      "                                   (scaled)                 (unscaled)\n",
      "Objective...............:   3.4484507551948582e+02    3.8446498170293421e+03\n",
      "Dual infeasibility......:   2.2694405772274184e-07    2.5301809187364578e-06\n",
      "Constraint violation....:   0.0000000000000000e+00    0.0000000000000000e+00\n",
      "Complementarity.........:   0.0000000000000000e+00    0.0000000000000000e+00\n",
      "Overall NLP error.......:   2.2694405772274184e-07    2.5301809187364578e-06\n",
      "\n",
      "\n",
      "Number of objective function evaluations             = 64\n",
      "Number of objective gradient evaluations             = 64\n",
      "Number of equality constraint evaluations            = 0\n",
      "Number of inequality constraint evaluations          = 0\n",
      "Number of equality constraint Jacobian evaluations   = 0\n",
      "Number of inequality constraint Jacobian evaluations = 0\n",
      "Number of Lagrangian Hessian evaluations             = 63\n",
      "Total CPU secs in IPOPT (w/o function evaluations)   =      0.030\n",
      "Total CPU secs in NLP function evaluations           =      0.940\n",
      "\n",
      "EXIT: Solved To Acceptable Level.\n",
      "  1.035646 seconds (8.10 M allocations: 154.309 MB, 7.46% gc time)\n"
     ]
    }
   ],
   "source": [
    "# Fisher scoring using Ipopt for constrained estimation of B\n",
    "vcmodel_constr = deepcopy(vcmodel)\n",
    "vcmodel_constr.A = [1.0 0.0 -1.0 0.0]\n",
    "vcmodel_constr.sense = '='\n",
    "vcmodel_constr.b = 0.0\n",
    "vcmodel_constr.lb = 0.0\n",
    "vcmodel_constr.ub = 2.0\n",
    "vcmodel_constr\n",
    "@time mle_fs!(vcmodel_constr, vcdatarot; solver=:Ipopt, maxiter=1000, verbose=true);"
   ]
  },
  {
   "cell_type": "code",
   "execution_count": 79,
   "metadata": {
    "collapsed": false
   },
   "outputs": [
    {
     "data": {
      "text/plain": [
       "2x2 Array{Float64,2}:\n",
       " 1.07177   1.07177\n",
       " 0.955683  1.01591"
      ]
     },
     "execution_count": 79,
     "metadata": {},
     "output_type": "execute_result"
    }
   ],
   "source": [
    "vcmodel_constr.B"
   ]
  },
  {
   "cell_type": "code",
   "execution_count": 80,
   "metadata": {
    "collapsed": false
   },
   "outputs": [
    {
     "data": {
      "text/plain": [
       "(\n",
       "2x2 Array{Float64,2}:\n",
       "  0.380539  -0.305626\n",
       " -0.305626   4.52116 ,\n",
       "\n",
       "2x2 Array{Float64,2}:\n",
       " 1.8405    0.264881\n",
       " 0.264881  2.17348 )"
      ]
     },
     "execution_count": 80,
     "metadata": {},
     "output_type": "execute_result"
    }
   ],
   "source": [
    "vcmodel_constr.Σ"
   ]
  }
 ],
 "metadata": {
  "kernelspec": {
   "display_name": "Julia 0.4.6",
   "language": "julia",
   "name": "julia-0.4"
  },
  "language_info": {
   "file_extension": ".jl",
   "mimetype": "application/julia",
   "name": "julia",
   "version": "0.4.6"
  }
 },
 "nbformat": 4,
 "nbformat_minor": 0
}
