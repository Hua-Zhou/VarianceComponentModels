{
 "cells": [
  {
   "cell_type": "markdown",
   "metadata": {},
   "source": [
    "# MLE and REML"
   ]
  },
  {
   "cell_type": "markdown",
   "metadata": {},
   "source": [
    "## Demo data"
   ]
  },
  {
   "cell_type": "markdown",
   "metadata": {},
   "source": [
    "For demonstration, we generate a random data set."
   ]
  },
  {
   "cell_type": "code",
   "execution_count": 6,
   "metadata": {
    "collapsed": false
   },
   "outputs": [],
   "source": [
    "# generate data from a d-variate response variane component model\n",
    "srand(123)\n",
    "n = 1000   # no. observations\n",
    "d = 2      # dimension of responses\n",
    "m = 2      # no. variance components\n",
    "p = 2      # no. covariates\n",
    "# n-by-p design matrix\n",
    "X = randn(n, p)\n",
    "# p-by-d mean component regression coefficient\n",
    "B = ones(p, d)  \n",
    "# a tuple of m covariance matrices\n",
    "V = ntuple(x -> zeros(n, n), m) \n",
    "for i = 1:m-1\n",
    "  Vi = randn(n, 50)\n",
    "  copy!(V[i], Vi * Vi')\n",
    "end\n",
    "copy!(V[m], eye(n)) # last covarianec matrix is idendity\n",
    "# a tuple of m d-by-d variance component parameters\n",
    "Σ = ntuple(x -> zeros(d, d), m) \n",
    "for i in 1:m\n",
    "  Σi = randn(d, d)\n",
    "  copy!(Σ[i], Σi' * Σi)\n",
    "end\n",
    "# form overall nd-by-nd covariance matrix Ω\n",
    "Ω = zeros(n * d, n * d)\n",
    "for i = 1:m\n",
    "  Ω += kron(Σ[i], V[i])\n",
    "end\n",
    "Ωchol = cholfact(Ω)\n",
    "# n-by-d responses\n",
    "Y = X * B + reshape(Ωchol[:L] * randn(n*d), n, d);"
   ]
  },
  {
   "cell_type": "markdown",
   "metadata": {},
   "source": [
    "## Maximum likelihood estimation (MLE)"
   ]
  },
  {
   "cell_type": "markdown",
   "metadata": {},
   "source": [
    "To find the MLE of parameters $(B,\\Sigma_1,\\ldots,\\Sigma_m)$, we take 3 steps:  \n",
    "**Step 1 (Construct data)**. Construct an instance of `VarianceComponentVariate`, which consists of the responses $Y$, the covariate matrix $X$, and a tuple of covariance matrices $V$. The last covariance matrix must be positive definite and usually is the identity matrix. In the absence of covariates $X$, we can simply initialize by `vcdata = VarianceComponentVariate(Y, V)`."
   ]
  },
  {
   "cell_type": "code",
   "execution_count": 7,
   "metadata": {
    "collapsed": false
   },
   "outputs": [
    {
     "data": {
      "text/plain": [
       "3-element Array{Symbol,1}:\n",
       " :Y\n",
       " :X\n",
       " :V"
      ]
     },
     "execution_count": 7,
     "metadata": {},
     "output_type": "execute_result"
    }
   ],
   "source": [
    "using VarianceComponentModels\n",
    "vcdata = VarianceComponentVariate(Y, X, V)\n",
    "fieldnames(vcdata)"
   ]
  },
  {
   "cell_type": "markdown",
   "metadata": {},
   "source": [
    "**Step 2 (Construct a model)**. Construct an instance of `VarianceComponentModel`. The fields `B` and `Σ` are mean and variane component parameters respectively. When constructed from a `VarianceComponentVariate` instance, the mean parameters $B$ are initialized to be zero and the tuple of variance component parameters $\\Sigma$ to be `(eye(d),...,eye(d))`."
   ]
  },
  {
   "cell_type": "markdown",
   "metadata": {},
   "source": [
    "The remaining fields `A`, `sense`, `b`, `lb`, `ub` specify (optional) constraints on the mean parameters `B`:\n",
    "\n",
    "$A * \\text{vec}(B) =\\ge\\le b$\n",
    "\n",
    "$lb \\le \\text{vec}(B) \\le ub$\n",
    "\n",
    "`A` is an `m x pd` constraint matrix, `sense` is a `m` vector of charaters taking values `<`, `=`, or `>`, and `lb` and `ub` are the lower and upper bounds for `vec(B)`. By default, `A`, `sense`, `b` are empty, `lb` is `-Inf`, and `ub` is `Inf`. If any constraits are non-trivial, final estimates of `B` are enforced to satisfy them."
   ]
  },
  {
   "cell_type": "code",
   "execution_count": 8,
   "metadata": {
    "collapsed": false
   },
   "outputs": [
    {
     "data": {
      "text/plain": [
       "7-element Array{Symbol,1}:\n",
       " :B    \n",
       " :Σ    \n",
       " :A    \n",
       " :sense\n",
       " :b    \n",
       " :lb   \n",
       " :ub   "
      ]
     },
     "execution_count": 8,
     "metadata": {},
     "output_type": "execute_result"
    }
   ],
   "source": [
    "vcmodel = VarianceComponentModel(vcdata)\n",
    "fieldnames(vcmodel)"
   ]
  },
  {
   "cell_type": "code",
   "execution_count": 7,
   "metadata": {
    "collapsed": false
   },
   "outputs": [
    {
     "data": {
      "text/plain": [
       "VarianceComponentModels.VarianceComponentModel{Float64,2,Array{Float64,2},Array{Float64,2}}(2x2 Array{Float64,2}:\n",
       " 0.0  0.0\n",
       " 0.0  0.0,(\n",
       "2x2 Array{Float64,2}:\n",
       " 1.0  0.0\n",
       " 0.0  1.0,\n",
       "\n",
       "2x2 Array{Float64,2}:\n",
       " 1.0  0.0\n",
       " 0.0  1.0),0x4 Array{Float64,2},Char[],Float64[],-Inf,Inf)"
      ]
     },
     "execution_count": 7,
     "metadata": {},
     "output_type": "execute_result"
    }
   ],
   "source": [
    "vcmodel"
   ]
  },
  {
   "cell_type": "markdown",
   "metadata": {},
   "source": [
    "When a better initial guess is available, we can initialize by calling `vcmodel=VarianceComponentModel(B0, Σ0)` directly."
   ]
  },
  {
   "cell_type": "markdown",
   "metadata": {},
   "source": [
    "**Step 3 (Fit model)**. Call optmization routine `fit_mle!`. The keywork `algo` dictates the optimization algorithm: `:MM` (minorization-maximization algorithm) or `:FS` (Fisher scoring algorithm)."
   ]
  },
  {
   "cell_type": "code",
   "execution_count": 8,
   "metadata": {
    "collapsed": false
   },
   "outputs": [
    {
     "name": "stdout",
     "output_type": "stream",
     "text": [
      "\n",
      "     MM Algorithm\n",
      "  Iter      Objective  \n",
      "--------  -------------\n",
      "       0  -7.348297e+03\n",
      "       1  -4.102367e+03\n",
      "       2  -3.745567e+03\n",
      "       3  -3.652392e+03\n",
      "       4  -3.627744e+03\n",
      "       5  -3.621170e+03\n",
      "       6  -3.619381e+03\n",
      "       7  -3.618878e+03\n",
      "       8  -3.618730e+03\n",
      "       9  -3.618684e+03\n",
      "      10  -3.618670e+03\n",
      "\n",
      "  6.187559 seconds (11.40 M allocations: 481.014 MB, 1.48% gc time)\n"
     ]
    }
   ],
   "source": [
    "vcmodel_mle = deepcopy(vcmodel)\n",
    "@time logl, vcmodel_mle, Σse, Σcov, Bse, Bcov = fit_mle!(vcmodel_mle, vcdata; algo = :MM);"
   ]
  },
  {
   "cell_type": "markdown",
   "metadata": {},
   "source": [
    "The output of `fit_mle!` contains  \n",
    "\n",
    "* final log-likelihood  "
   ]
  },
  {
   "cell_type": "code",
   "execution_count": 9,
   "metadata": {
    "collapsed": false
   },
   "outputs": [
    {
     "data": {
      "text/plain": [
       "-3618.661776037447"
      ]
     },
     "execution_count": 9,
     "metadata": {},
     "output_type": "execute_result"
    }
   ],
   "source": [
    "logl"
   ]
  },
  {
   "cell_type": "markdown",
   "metadata": {},
   "source": [
    "* fitted model"
   ]
  },
  {
   "cell_type": "code",
   "execution_count": 11,
   "metadata": {
    "collapsed": false
   },
   "outputs": [
    {
     "data": {
      "text/plain": [
       "7-element Array{Symbol,1}:\n",
       " :B    \n",
       " :Σ    \n",
       " :A    \n",
       " :sense\n",
       " :b    \n",
       " :lb   \n",
       " :ub   "
      ]
     },
     "execution_count": 11,
     "metadata": {},
     "output_type": "execute_result"
    }
   ],
   "source": [
    "fieldnames(vcmodel_mle)"
   ]
  },
  {
   "cell_type": "code",
   "execution_count": 10,
   "metadata": {
    "collapsed": false
   },
   "outputs": [
    {
     "data": {
      "text/plain": [
       "VarianceComponentModels.VarianceComponentModel{Float64,2,Array{Float64,2},Array{Float64,2}}(2x2 Array{Float64,2}:\n",
       " 1.14929   1.00139\n",
       " 0.924768  1.02485,(\n",
       "2x2 Array{Float64,2}:\n",
       "  0.302279  -0.478398\n",
       " -0.478398   0.803237,\n",
       "\n",
       "2x2 Array{Float64,2}:\n",
       "  5.86133   -0.586939\n",
       " -0.586939   0.586382),0x4 Array{Float64,2},Char[],Float64[],-Inf,Inf)"
      ]
     },
     "execution_count": 10,
     "metadata": {},
     "output_type": "execute_result"
    }
   ],
   "source": [
    "vcmodel_mle"
   ]
  },
  {
   "cell_type": "markdown",
   "metadata": {},
   "source": [
    "* standard errors of the estimated varianec component parameters"
   ]
  },
  {
   "cell_type": "code",
   "execution_count": 12,
   "metadata": {
    "collapsed": false
   },
   "outputs": [
    {
     "data": {
      "text/plain": [
       "(\n",
       "2x2 Array{Float64,2}:\n",
       " 0.06167    0.0995727\n",
       " 0.0995727  0.16077  ,\n",
       "\n",
       "2x2 Array{Float64,2}:\n",
       " 0.268915  0.085063\n",
       " 0.085063  0.026905)"
      ]
     },
     "execution_count": 12,
     "metadata": {},
     "output_type": "execute_result"
    }
   ],
   "source": [
    "Σse"
   ]
  },
  {
   "cell_type": "markdown",
   "metadata": {},
   "source": [
    "* covariance matrix of the variance component parameters estimates"
   ]
  },
  {
   "cell_type": "code",
   "execution_count": 13,
   "metadata": {
    "collapsed": false
   },
   "outputs": [
    {
     "data": {
      "text/plain": [
       "8x8 Array{Float64,2}:\n",
       "  0.00380319  -0.00590812  -0.00590812  …   7.45979e-6   -7.52483e-7 \n",
       " -0.00590812   0.00991472   0.00917805     -7.52483e-7    7.55745e-7 \n",
       " -0.00590812   0.00917805   0.00991472     -7.49213e-6    7.55745e-7 \n",
       "  0.00917805  -0.0154021   -0.0154021       7.55745e-7   -7.59023e-7 \n",
       " -7.39532e-5   7.45979e-6   7.45979e-6     -0.00724213    0.000725236\n",
       "  7.45979e-6  -7.49213e-6  -7.52483e-7  …   0.000725236  -0.000724568\n",
       "  7.45979e-6  -7.52483e-7  -7.49213e-6      0.00723572   -0.000724568\n",
       " -7.52483e-7   7.55745e-7   7.55745e-7     -0.000724568   0.000723881"
      ]
     },
     "execution_count": 13,
     "metadata": {},
     "output_type": "execute_result"
    }
   ],
   "source": [
    "Σcov"
   ]
  },
  {
   "cell_type": "markdown",
   "metadata": {},
   "source": [
    "* standard errors of the estimated mean parameters"
   ]
  },
  {
   "cell_type": "code",
   "execution_count": 14,
   "metadata": {
    "collapsed": false
   },
   "outputs": [
    {
     "data": {
      "text/plain": [
       "2x2 Array{Float64,2}:\n",
       " 0.0760538  0.0251806\n",
       " 0.0769259  0.0252831"
      ]
     },
     "execution_count": 14,
     "metadata": {},
     "output_type": "execute_result"
    }
   ],
   "source": [
    "Bse"
   ]
  },
  {
   "cell_type": "markdown",
   "metadata": {},
   "source": [
    "* covariance matrix of the mean parameter estimates"
   ]
  },
  {
   "cell_type": "code",
   "execution_count": 15,
   "metadata": {
    "collapsed": false
   },
   "outputs": [
    {
     "data": {
      "text/plain": [
       "4x4 Array{Float64,2}:\n",
       "  0.00578418  -6.1406e-5    -0.00061133    3.61347e-6 \n",
       " -6.1406e-5    0.00591759    3.61347e-6   -0.000619951\n",
       " -0.00061133   3.61347e-6    0.000634064  -1.76949e-6 \n",
       "  3.61347e-6  -0.000619951  -1.76949e-6    0.000639237"
      ]
     },
     "execution_count": 15,
     "metadata": {},
     "output_type": "execute_result"
    }
   ],
   "source": [
    "Bcov"
   ]
  },
  {
   "cell_type": "markdown",
   "metadata": {},
   "source": [
    "## Restricted maximum likelihood estimation (REML)"
   ]
  },
  {
   "cell_type": "markdown",
   "metadata": {},
   "source": [
    "[REML (restricted maximum likelihood estimation)](https://en.wikipedia.org/wiki/Restricted_maximum_likelihood) is a popular alternative to the MLE. To find the REML of a variane component model, we replace the above step 3 by  "
   ]
  },
  {
   "cell_type": "markdown",
   "metadata": {},
   "source": [
    "**Step 3**. Call optmization routine `fit_reml!`."
   ]
  },
  {
   "cell_type": "code",
   "execution_count": 16,
   "metadata": {
    "collapsed": false
   },
   "outputs": [
    {
     "name": "stdout",
     "output_type": "stream",
     "text": [
      "\n",
      "     MM Algorithm\n",
      "  Iter      Objective  \n",
      "--------  -------------\n",
      "       0  -5.297304e+03\n",
      "       1  -3.954293e+03\n",
      "       2  -3.715870e+03\n",
      "       3  -3.663101e+03\n",
      "       4  -3.650121e+03\n",
      "       5  -3.646663e+03\n",
      "       6  -3.645672e+03\n",
      "       7  -3.645367e+03\n",
      "       8  -3.645268e+03\n",
      "       9  -3.645233e+03\n",
      "      10  -3.645221e+03\n",
      "\n",
      "  0.462098 seconds (730.53 k allocations: 42.706 MB, 0.77% gc time)\n"
     ]
    }
   ],
   "source": [
    "vcmodel_reml = deepcopy(vcmodel)\n",
    "@time logl, vcmodel_reml, Σse, Σcov, Bse, Bcov = fit_reml!(vcmodel_reml, vcdata; algo = :MM);"
   ]
  },
  {
   "cell_type": "markdown",
   "metadata": {},
   "source": [
    "The output of `fit_reml!` contains"
   ]
  },
  {
   "cell_type": "markdown",
   "metadata": {},
   "source": [
    "* the final log-likelihood at REML estimate"
   ]
  },
  {
   "cell_type": "code",
   "execution_count": 17,
   "metadata": {
    "collapsed": false
   },
   "outputs": [
    {
     "data": {
      "text/plain": [
       "-3622.050155483128"
      ]
     },
     "execution_count": 17,
     "metadata": {},
     "output_type": "execute_result"
    }
   ],
   "source": [
    "logl"
   ]
  },
  {
   "cell_type": "markdown",
   "metadata": {},
   "source": [
    "* REML estimates"
   ]
  },
  {
   "cell_type": "code",
   "execution_count": 19,
   "metadata": {
    "collapsed": false
   },
   "outputs": [
    {
     "data": {
      "text/plain": [
       "7-element Array{Symbol,1}:\n",
       " :B    \n",
       " :Σ    \n",
       " :A    \n",
       " :sense\n",
       " :b    \n",
       " :lb   \n",
       " :ub   "
      ]
     },
     "execution_count": 19,
     "metadata": {},
     "output_type": "execute_result"
    }
   ],
   "source": [
    "fieldnames(vcmodel_reml)"
   ]
  },
  {
   "cell_type": "code",
   "execution_count": 18,
   "metadata": {
    "collapsed": false
   },
   "outputs": [
    {
     "data": {
      "text/plain": [
       "VarianceComponentModels.VarianceComponentModel{Float64,2,Array{Float64,2},Array{Float64,2}}(2x2 Array{Float64,2}:\n",
       " 1.08201  1.05525\n",
       " 0.90694  1.00679,(\n",
       "2x2 Array{Float64,2}:\n",
       "  0.301641  -0.477617\n",
       " -0.477617   0.802105,\n",
       "\n",
       "2x2 Array{Float64,2}:\n",
       "  5.88057   -0.610115\n",
       " -0.610115   0.61958 ),0x4 Array{Float64,2},Char[],Float64[],-Inf,Inf)"
      ]
     },
     "execution_count": 18,
     "metadata": {},
     "output_type": "execute_result"
    }
   ],
   "source": [
    "vcmodel_reml"
   ]
  },
  {
   "cell_type": "markdown",
   "metadata": {},
   "source": [
    "* standard errors of the estimated varianec component parameters"
   ]
  },
  {
   "cell_type": "code",
   "execution_count": 20,
   "metadata": {
    "collapsed": false
   },
   "outputs": [
    {
     "data": {
      "text/plain": [
       "(\n",
       "2x2 Array{Float64,2}:\n",
       " 0.0615463  0.0994049\n",
       " 0.0994049  0.160551 ,\n",
       "\n",
       "2x2 Array{Float64,2}:\n",
       " 0.269798   0.0875812\n",
       " 0.0875812  0.0284283)"
      ]
     },
     "execution_count": 20,
     "metadata": {},
     "output_type": "execute_result"
    }
   ],
   "source": [
    "Σse"
   ]
  },
  {
   "cell_type": "markdown",
   "metadata": {},
   "source": [
    "* covariance matrix of the variance component parameters estimates"
   ]
  },
  {
   "cell_type": "code",
   "execution_count": 21,
   "metadata": {
    "collapsed": false
   },
   "outputs": [
    {
     "data": {
      "text/plain": [
       "8x8 Array{Float64,2}:\n",
       "  0.00378795  -0.00588696  -0.00588696  …   7.78026e-6   -8.13244e-7 \n",
       " -0.00588696   0.00988133   0.00914906     -8.13244e-7    8.30149e-7 \n",
       " -0.00588696   0.00914906   0.00988133     -7.94198e-6    8.30149e-7 \n",
       "  0.00914906  -0.0153568   -0.0153568       8.30149e-7   -8.47406e-7 \n",
       " -7.44333e-5   7.78026e-6   7.78026e-6     -0.00755281    0.000783641\n",
       "  7.78026e-6  -7.94198e-6  -8.13244e-7  …   0.000783641  -0.00079582 \n",
       "  7.78026e-6  -8.13244e-7  -7.94198e-6      0.00767047   -0.00079582 \n",
       " -8.13244e-7   8.30149e-7   8.30149e-7     -0.00079582    0.000808168"
      ]
     },
     "execution_count": 21,
     "metadata": {},
     "output_type": "execute_result"
    }
   ],
   "source": [
    "Σcov"
   ]
  },
  {
   "cell_type": "markdown",
   "metadata": {},
   "source": [
    "* standard errors of the estimated mean parameters"
   ]
  },
  {
   "cell_type": "code",
   "execution_count": 22,
   "metadata": {
    "collapsed": false
   },
   "outputs": [
    {
     "data": {
      "text/plain": [
       "2x2 Array{Float64,2}:\n",
       " 0.0615457  0.0994049\n",
       " 0.0994049  0.160551 "
      ]
     },
     "execution_count": 22,
     "metadata": {},
     "output_type": "execute_result"
    }
   ],
   "source": [
    "Bse"
   ]
  },
  {
   "cell_type": "markdown",
   "metadata": {},
   "source": [
    "* covariance matrix of the mean parameter estimates"
   ]
  },
  {
   "cell_type": "code",
   "execution_count": 23,
   "metadata": {
    "collapsed": false
   },
   "outputs": [
    {
     "data": {
      "text/plain": [
       "4x4 Array{Float64,2}:\n",
       "  0.00378788  -0.00588695  -0.00588695   0.00914906\n",
       " -0.00588695   0.00988132   0.00914906  -0.0153568 \n",
       " -0.00588695   0.00914906   0.00988132  -0.0153568 \n",
       "  0.00914906  -0.0153568   -0.0153568    0.0257766 "
      ]
     },
     "execution_count": 23,
     "metadata": {},
     "output_type": "execute_result"
    }
   ],
   "source": [
    "Bcov"
   ]
  },
  {
   "cell_type": "markdown",
   "metadata": {},
   "source": [
    "## Optimization algorithms"
   ]
  },
  {
   "cell_type": "markdown",
   "metadata": {},
   "source": [
    "Finding the MLE or REML of variance component models is a non-trivial nonlinear optimization problem. The main complications are the non-convexity of objective function and the positive semi-definiteness constraint of variane component parameters $\\Sigma_1,\\ldots,\\Sigma_m$. Here are some tips for efficient computation. "
   ]
  },
  {
   "cell_type": "markdown",
   "metadata": {},
   "source": [
    "In general the optimization algorithm needs to invert the $nd$ by $nd$ overall covariance matrix $\\Omega = \\Sigma_1 \\otimes V_1 + \\cdots + \\Sigma_m \\otimes V_m$ in each iteration. Inverting a matrix is an expensive operation with $O(n^3 d^3)$ floating operations. When there are only **two** varianec components ($m=2$), this tedious task can be avoided by taking one (generalized) eigendecomposion of $(V_1, V_2)$ and rotating data $(Y, X)$ by the eigen-vectors. "
   ]
  },
  {
   "cell_type": "code",
   "execution_count": 24,
   "metadata": {
    "collapsed": false
   },
   "outputs": [
    {
     "data": {
      "text/plain": [
       "4-element Array{Symbol,1}:\n",
       " :Yrot    \n",
       " :Xrot    \n",
       " :eigval  \n",
       " :logdetV2"
      ]
     },
     "execution_count": 24,
     "metadata": {},
     "output_type": "execute_result"
    }
   ],
   "source": [
    "vcdatarot = TwoVarCompVariateRotate(vcdata)\n",
    "fieldnames(vcdatarot)"
   ]
  },
  {
   "cell_type": "markdown",
   "metadata": {},
   "source": [
    "Two optimization algorithms are implemented: Fisher scoring (`mle_fs!`) and the [minorization-maximization (MM) algorithm](http://arxiv.org/abs/1509.07426) (`mle_mm!`). Both take the rotated data as input. These two functions give finer control of the optimization algorithms. Generally speaking, MM algorithm is more stable while Fisher scoring (if it converges) yields more accurate answer."
   ]
  },
  {
   "cell_type": "code",
   "execution_count": 25,
   "metadata": {
    "collapsed": false
   },
   "outputs": [
    {
     "name": "stdout",
     "output_type": "stream",
     "text": [
      "\n",
      "     MM Algorithm\n",
      "  Iter      Objective  \n",
      "--------  -------------\n",
      "       0  -7.348297e+03\n",
      "       1  -4.102367e+03\n",
      "       2  -3.745567e+03\n",
      "       3  -3.652392e+03\n",
      "       4  -3.627744e+03\n",
      "       5  -3.621170e+03\n",
      "       6  -3.619381e+03\n",
      "       7  -3.618878e+03\n",
      "       8  -3.618730e+03\n",
      "       9  -3.618684e+03\n",
      "      10  -3.618670e+03\n",
      "\n",
      "  0.166114 seconds (750.53 k allocations: 28.531 MB, 2.44% gc time)\n"
     ]
    }
   ],
   "source": [
    "vcmodel_mm = deepcopy(vcmodel)\n",
    "@time mle_mm!(vcmodel_mm, vcdatarot; maxiter=10000, funtol=1e-8, verbose = true);"
   ]
  },
  {
   "cell_type": "code",
   "execution_count": 26,
   "metadata": {
    "collapsed": false
   },
   "outputs": [
    {
     "data": {
      "text/plain": [
       "2x2 Array{Float64,2}:\n",
       " 1.14929   1.00139\n",
       " 0.924768  1.02485"
      ]
     },
     "execution_count": 26,
     "metadata": {},
     "output_type": "execute_result"
    }
   ],
   "source": [
    "# MM estimates\n",
    "vcmodel_mm.B"
   ]
  },
  {
   "cell_type": "code",
   "execution_count": 27,
   "metadata": {
    "collapsed": false
   },
   "outputs": [
    {
     "data": {
      "text/plain": [
       "(\n",
       "2x2 Array{Float64,2}:\n",
       "  0.302279  -0.478398\n",
       " -0.478398   0.803237,\n",
       "\n",
       "2x2 Array{Float64,2}:\n",
       "  5.86133   -0.586939\n",
       " -0.586939   0.586382)"
      ]
     },
     "execution_count": 27,
     "metadata": {},
     "output_type": "execute_result"
    }
   ],
   "source": [
    "# MM estimates\n",
    "vcmodel_mm.Σ"
   ]
  },
  {
   "cell_type": "markdown",
   "metadata": {},
   "source": [
    "Fisher scoring (`mle_fs!`) uses either [Ipopt.jl](https://github.com/JuliaOpt/Ipopt.jl) (keyword `solver=:Ipopt`) or [KNITRO.jl](https://github.com/JuliaOpt/KNITRO.jl) (keyword `solver=:Knitro`) as the backend solver. Ipopt is open source and installation of [Ipopt.jl](https://github.com/JuliaOpt/Ipopt.jl) package alone is sufficient. However Knitro is a commercial software and users need to follow instructions at [KNITRO.jl](https://github.com/JuliaOpt/KNITRO.jl) for proper functioning."
   ]
  },
  {
   "cell_type": "code",
   "execution_count": 28,
   "metadata": {
    "collapsed": false
   },
   "outputs": [
    {
     "name": "stdout",
     "output_type": "stream",
     "text": [
      "\n",
      "******************************************************************************\n",
      "This program contains Ipopt, a library for large-scale nonlinear optimization.\n",
      " Ipopt is released as open source code under the Eclipse Public License (EPL).\n",
      "         For more information visit http://projects.coin-or.org/Ipopt\n",
      "******************************************************************************\n",
      "\n",
      "This is Ipopt version 3.12.4, running with linear solver mumps.\n",
      "NOTE: Other linear solvers might be more efficient (see Ipopt documentation).\n",
      "\n",
      "Number of nonzeros in equality constraint Jacobian...:        0\n",
      "Number of nonzeros in inequality constraint Jacobian.:        0\n",
      "Number of nonzeros in Lagrangian Hessian.............:       21\n",
      "\n",
      "Total number of variables............................:        6\n",
      "                     variables with only lower bounds:        4\n",
      "                variables with lower and upper bounds:        0\n",
      "                     variables with only upper bounds:        0\n",
      "Total number of equality constraints.................:        0\n",
      "Total number of inequality constraints...............:        0\n",
      "        inequality constraints with only lower bounds:        0\n",
      "   inequality constraints with lower and upper bounds:        0\n",
      "        inequality constraints with only upper bounds:        0\n",
      "\n",
      "iter    objective    inf_pr   inf_du lg(mu)  ||d||  lg(rg) alpha_du alpha_pr  ls\n",
      "   0  6.8183666e+03 0.00e+00 9.89e+00   0.0 0.00e+00    -  0.00e+00 0.00e+00   0 \n",
      "   5  3.7059581e+03 0.00e+00 5.96e+00  -4.4 7.13e-01    -  1.00e+00 1.00e+00f  1  sigma=8.40e-03MaxS\n",
      "  10  3.6256399e+03 0.00e+00 2.71e+00 -11.0 1.04e-01    -  1.00e+00 1.00e+00f  1  sigma=3.37e-03MaxS\n",
      "  15  3.6186620e+03 0.00e+00 2.77e-02 -11.0 1.51e-03    -  1.00e+00 1.00e+00f  1  sigma=5.30e-09MaxS\n",
      "  20  3.6186618e+03 0.00e+00 5.95e-05 -11.0 3.16e-06    -  1.00e+00 1.00e+00f  1  sigma=5.41e-17MaxS\n",
      "  25  3.6186618e+03 0.00e+00 1.27e-07 -11.0 6.76e-09    -  1.00e+00 1.00e+00f  1  sigma=5.35e-25MaxSA\n",
      "\n",
      "Number of Iterations....: 28\n",
      "\n",
      "                                   (scaled)                 (unscaled)\n",
      "Objective...............:   7.8367920603164933e+01    3.6186617667669216e+03\n",
      "Dual infeasibility......:   3.1921838841006262e-09    1.4740002905497475e-07\n",
      "Constraint violation....:   0.0000000000000000e+00    0.0000000000000000e+00\n",
      "Complementarity.........:   1.0000000000010052e-11    4.6175293907497364e-10\n",
      "Overall NLP error.......:   3.1921838841006262e-09    1.4740002905497475e-07\n",
      "\n",
      "\n",
      "Number of objective function evaluations             = 29\n",
      "Number of objective gradient evaluations             = 29\n",
      "Number of equality constraint evaluations            = 0\n",
      "Number of inequality constraint evaluations          = 0\n",
      "Number of equality constraint Jacobian evaluations   = 0\n",
      "Number of inequality constraint Jacobian evaluations = 0\n",
      "Number of Lagrangian Hessian evaluations             = 28\n",
      "Total CPU secs in IPOPT (w/o function evaluations)   =      2.334\n",
      "Total CPU secs in NLP function evaluations           =      0.244\n",
      "\n",
      "EXIT: Optimal Solution Found.\n",
      "  2.987685 seconds (8.12 M allocations: 292.023 MB, 2.09% gc time)\n"
     ]
    }
   ],
   "source": [
    "# Fisher scoring using Ipopt\n",
    "vcmodel_ipopt = deepcopy(vcmodel)\n",
    "@time mle_fs!(vcmodel_ipopt, vcdatarot; solver=:Ipopt, maxiter=1000, verbose=true);"
   ]
  },
  {
   "cell_type": "code",
   "execution_count": 29,
   "metadata": {
    "collapsed": false
   },
   "outputs": [
    {
     "data": {
      "text/plain": [
       "2x2 Array{Float64,2}:\n",
       " 1.14928   1.00139\n",
       " 0.924761  1.02485"
      ]
     },
     "execution_count": 29,
     "metadata": {},
     "output_type": "execute_result"
    }
   ],
   "source": [
    "# Ipopt estimates\n",
    "vcmodel_ipopt.B"
   ]
  },
  {
   "cell_type": "code",
   "execution_count": 30,
   "metadata": {
    "collapsed": false
   },
   "outputs": [
    {
     "data": {
      "text/plain": [
       "(\n",
       "2x2 Array{Float64,2}:\n",
       "  0.30227   -0.478407\n",
       " -0.478407   0.803239,\n",
       "\n",
       "2x2 Array{Float64,2}:\n",
       "  5.86164   -0.586964\n",
       " -0.586964   0.586375)"
      ]
     },
     "execution_count": 30,
     "metadata": {},
     "output_type": "execute_result"
    }
   ],
   "source": [
    "# Ipopt estimates\n",
    "vcmodel_ipopt.Σ"
   ]
  },
  {
   "cell_type": "code",
   "execution_count": 31,
   "metadata": {
    "collapsed": false
   },
   "outputs": [
    {
     "name": "stdout",
     "output_type": "stream",
     "text": [
      "\n",
      "Knitro 10.1.0 STUDENT LICENSE (problem size limit = 300)\n",
      "\n",
      "=======================================\n",
      "            Student License\n",
      "       (NOT FOR COMMERCIAL USE)\n",
      "         Artelys Knitro 10.1.0\n",
      "=======================================\n",
      "\n",
      "Knitro presolve eliminated 0 variables and 0 constraints.\n",
      "\n",
      "algorithm:            1\n",
      "The problem is identified as bound constrained only.\n",
      "Knitro changing bar_initpt from AUTO to 3.\n",
      "Knitro changing bar_murule from AUTO to 4.\n",
      "Knitro changing bar_penaltycons from AUTO to 1.\n",
      "Knitro changing bar_penaltyrule from AUTO to 2.\n",
      "Knitro changing bar_switchrule from AUTO to 1.\n",
      "Knitro changing linsolver from AUTO to 2.\n",
      "\n",
      "Problem Characteristics                    ( Presolved)\n",
      "-----------------------\n",
      "Objective goal:  Maximize\n",
      "Number of variables:                     6 (         6)\n",
      "    bounded below:                       4 (         4)\n",
      "    bounded above:                       0 (         0)\n",
      "    bounded below and above:             0 (         0)\n",
      "    fixed:                               0 (         0)\n",
      "    free:                                2 (         2)\n",
      "Number of constraints:                   0 (         0)\n",
      "    linear equalities:                   0 (         0)\n",
      "    nonlinear equalities:                0 (         0)\n",
      "    linear inequalities:                 0 (         0)\n",
      "    nonlinear inequalities:              0 (         0)\n",
      "    range:                               0 (         0)\n",
      "Number of nonzeros in Jacobian:          0 (         0)\n",
      "Number of nonzeros in Hessian:          21 (        21)\n",
      "\n",
      "  Iter      Objective      FeasError   OptError    ||Step||    CGits \n",
      "--------  --------------  ----------  ----------  ----------  -------\n",
      "       0   -5.272317e+03   0.000e+00\n",
      "      10   -3.618665e+03   0.000e+00   1.050e-01   6.061e-03        0\n",
      "      20   -3.618662e+03   0.000e+00   4.786e-07   2.620e-08        0\n",
      "\n",
      "EXIT: Locally optimal solution found.\n",
      "\n",
      "Final Statistics\n",
      "----------------\n",
      "Final objective value               =  -3.61866176676693e+03\n",
      "Final feasibility error (abs / rel) =   0.00e+00 / 0.00e+00\n",
      "Final optimality error  (abs / rel) =   4.79e-07 / 4.79e-07\n",
      "# of iterations                     =         20 \n",
      "# of CG iterations                  =          0 \n",
      "# of function evaluations           =         22\n",
      "# of gradient evaluations           =         22\n",
      "# of Hessian evaluations            =         20\n",
      "Total program time (secs)           =       0.17739 (     0.177 CPU time)\n",
      "Time spent in evaluations (secs)    =       0.11814\n",
      "\n",
      "===============================================================================\n",
      "\n",
      "  0.550156 seconds (2.93 M allocations: 71.557 MB, 1.60% gc time)\n"
     ]
    },
    {
     "name": "stderr",
     "output_type": "stream",
     "text": [
      "### Could not find a valid license.\n",
      "    Your machine ID is 1f-aa-f6-5b-46.\n",
      "    Please contact licensing@artelys.com or your local distributor to obtain a license.\n",
      "    If you already have a license, please execute `get_machine_ID -v` and send the output to support.\n"
     ]
    }
   ],
   "source": [
    "# Fisher scoring using Knitro\n",
    "vcmodel_knitro = deepcopy(vcmodel)\n",
    "@time mle_fs!(vcmodel_knitro, vcdatarot; solver=:Knitro, maxiter=1000, verbose=true);"
   ]
  },
  {
   "cell_type": "code",
   "execution_count": 32,
   "metadata": {
    "collapsed": false
   },
   "outputs": [
    {
     "data": {
      "text/plain": [
       "2x2 Array{Float64,2}:\n",
       " 1.14928   1.00139\n",
       " 0.924761  1.02485"
      ]
     },
     "execution_count": 32,
     "metadata": {},
     "output_type": "execute_result"
    }
   ],
   "source": [
    "# Knitro estimates\n",
    "vcmodel_knitro.B"
   ]
  },
  {
   "cell_type": "code",
   "execution_count": 33,
   "metadata": {
    "collapsed": false
   },
   "outputs": [
    {
     "data": {
      "text/plain": [
       "(\n",
       "2x2 Array{Float64,2}:\n",
       "  0.30227   -0.478407\n",
       " -0.478407   0.803239,\n",
       "\n",
       "2x2 Array{Float64,2}:\n",
       "  5.86164   -0.586964\n",
       " -0.586964   0.586375)"
      ]
     },
     "execution_count": 33,
     "metadata": {},
     "output_type": "execute_result"
    }
   ],
   "source": [
    "# Knitro estimates\n",
    "vcmodel_knitro.Σ"
   ]
  },
  {
   "cell_type": "markdown",
   "metadata": {},
   "source": [
    "## Starting point"
   ]
  },
  {
   "cell_type": "markdown",
   "metadata": {},
   "source": [
    "Here are a few strategies for successful optimization. "
   ]
  },
  {
   "cell_type": "markdown",
   "metadata": {},
   "source": [
    "* For $d>1$ (multivariate response), initialize $B, \\Sigma$ from univariate estimates.  \n",
    "* Use REML estimate as starting point for MLE.  \n",
    "* When there are only $m=2$ variance components, pre-compute `TwoVarCompVariateRotate` and use it for optimization."
   ]
  },
  {
   "cell_type": "markdown",
   "metadata": {
    "collapsed": true
   },
   "source": [
    "## Constrained estimation of `B`"
   ]
  },
  {
   "cell_type": "markdown",
   "metadata": {},
   "source": [
    "Many applications invoke constraints on the mean parameters `B`. For demonstration, we enforce `B[1,1]=B[1,2]` and all entries of `B` are within [0, 2]."
   ]
  },
  {
   "cell_type": "code",
   "execution_count": 34,
   "metadata": {
    "collapsed": false
   },
   "outputs": [
    {
     "data": {
      "text/plain": [
       "VarianceComponentModels.VarianceComponentModel{Float64,2,Array{Float64,2},Array{Float64,2}}(2x2 Array{Float64,2}:\n",
       " 0.0  0.0\n",
       " 0.0  0.0,(\n",
       "2x2 Array{Float64,2}:\n",
       " 1.0  0.0\n",
       " 0.0  1.0,\n",
       "\n",
       "2x2 Array{Float64,2}:\n",
       " 1.0  0.0\n",
       " 0.0  1.0),1x4 Array{Float64,2}:\n",
       " 1.0  0.0  -1.0  0.0,'=',0.0,0.0,2.0)"
      ]
     },
     "execution_count": 34,
     "metadata": {},
     "output_type": "execute_result"
    }
   ],
   "source": [
    "# set up constraints on B\n",
    "vcmodel_constr = deepcopy(vcmodel)\n",
    "vcmodel_constr.A = [1.0 0.0 -1.0 0.0]\n",
    "vcmodel_constr.sense = '='\n",
    "vcmodel_constr.b = 0.0\n",
    "vcmodel_constr.lb = 0.0\n",
    "vcmodel_constr.ub = 2.0\n",
    "vcmodel_constr"
   ]
  },
  {
   "cell_type": "markdown",
   "metadata": {},
   "source": [
    "We first try the MM algorithm."
   ]
  },
  {
   "cell_type": "code",
   "execution_count": 35,
   "metadata": {
    "collapsed": false
   },
   "outputs": [
    {
     "name": "stdout",
     "output_type": "stream",
     "text": [
      "\n",
      "     MM Algorithm\n",
      "  Iter      Objective  \n",
      "--------  -------------\n",
      "       0  -7.348297e+03\n",
      "       1  -4.105736e+03\n",
      "       2  -3.747828e+03\n",
      "       3  -3.654068e+03\n",
      "       4  -3.629236e+03\n",
      "       5  -3.622605e+03\n",
      "       6  -3.620799e+03\n",
      "       7  -3.620290e+03\n",
      "       8  -3.620140e+03\n",
      "       9  -3.620094e+03\n",
      "      10  -3.620079e+03\n",
      "\n",
      "  0.407094 seconds (618.18 k allocations: 20.440 MB)\n"
     ]
    }
   ],
   "source": [
    "# MM algorithm for constrained estimation of B\n",
    "@time mle_mm!(vcmodel_constr, vcdatarot; maxiter=10000, funtol=1e-8, verbose = true);"
   ]
  },
  {
   "cell_type": "code",
   "execution_count": 36,
   "metadata": {
    "collapsed": false
   },
   "outputs": [
    {
     "data": {
      "text/plain": [
       "7-element Array{Symbol,1}:\n",
       " :B    \n",
       " :Σ    \n",
       " :A    \n",
       " :sense\n",
       " :b    \n",
       " :lb   \n",
       " :ub   "
      ]
     },
     "execution_count": 36,
     "metadata": {},
     "output_type": "execute_result"
    }
   ],
   "source": [
    "fieldnames(vcmodel_constr)"
   ]
  },
  {
   "cell_type": "code",
   "execution_count": 37,
   "metadata": {
    "collapsed": false
   },
   "outputs": [
    {
     "data": {
      "text/plain": [
       "2x2 Array{Float64,2}:\n",
       " 1.02428   1.02428\n",
       " 0.925434  1.02474"
      ]
     },
     "execution_count": 37,
     "metadata": {},
     "output_type": "execute_result"
    }
   ],
   "source": [
    "vcmodel_constr.B"
   ]
  },
  {
   "cell_type": "code",
   "execution_count": 38,
   "metadata": {
    "collapsed": false
   },
   "outputs": [
    {
     "data": {
      "text/plain": [
       "(\n",
       "2x2 Array{Float64,2}:\n",
       "  0.301672  -0.478044\n",
       " -0.478044   0.803126,\n",
       "\n",
       "2x2 Array{Float64,2}:\n",
       "  5.88053   -0.590251\n",
       " -0.590251   0.58695 )"
      ]
     },
     "execution_count": 38,
     "metadata": {},
     "output_type": "execute_result"
    }
   ],
   "source": [
    "vcmodel_constr.Σ"
   ]
  },
  {
   "cell_type": "markdown",
   "metadata": {},
   "source": [
    "Now let's try Fisher scoring."
   ]
  },
  {
   "cell_type": "code",
   "execution_count": 39,
   "metadata": {
    "collapsed": false
   },
   "outputs": [
    {
     "name": "stdout",
     "output_type": "stream",
     "text": [
      "This is Ipopt version 3.12.4, running with linear solver mumps.\n",
      "NOTE: Other linear solvers might be more efficient (see Ipopt documentation).\n",
      "\n",
      "Number of nonzeros in equality constraint Jacobian...:        0\n",
      "Number of nonzeros in inequality constraint Jacobian.:        0\n",
      "Number of nonzeros in Lagrangian Hessian.............:       21\n",
      "\n",
      "Total number of variables............................:        6\n",
      "                     variables with only lower bounds:        4\n",
      "                variables with lower and upper bounds:        0\n",
      "                     variables with only upper bounds:        0\n",
      "Total number of equality constraints.................:        0\n",
      "Total number of inequality constraints...............:        0\n",
      "        inequality constraints with only lower bounds:        0\n",
      "   inequality constraints with lower and upper bounds:        0\n",
      "        inequality constraints with only upper bounds:        0\n",
      "\n",
      "iter    objective    inf_pr   inf_du lg(mu)  ||d||  lg(rg) alpha_du alpha_pr  ls\n",
      "   0  6.8184296e+03 0.00e+00 9.89e+00   0.0 0.00e+00    -  0.00e+00 0.00e+00   0 \n",
      "   5  3.7077312e+03 0.00e+00 5.97e+00  -4.4 7.13e-01    -  1.00e+00 1.00e+00f  1  sigma=8.41e-03MaxS\n",
      "  10  3.6271375e+03 0.00e+00 2.72e+00 -11.0 1.04e-01    -  1.00e+00 1.00e+00f  1  sigma=3.39e-03MaxS\n",
      "  15  3.6200706e+03 0.00e+00 2.76e-02 -11.0 1.51e-03    -  1.00e+00 1.00e+00f  1  sigma=5.40e-09MaxS\n",
      "  20  3.6200704e+03 0.00e+00 5.77e-05 -11.0 3.08e-06    -  1.00e+00 1.00e+00f  1  sigma=5.11e-17MaxS\n",
      "  25  3.6200704e+03 0.00e+00 1.21e-07 -11.0 6.43e-09    -  1.00e+00 1.00e+00f  1  sigma=4.70e-25MaxSA\n",
      "\n",
      "Number of Iterations....: 28\n",
      "\n",
      "                                   (scaled)                 (unscaled)\n",
      "Objective...............:   7.8291178537553890e+01    3.6200703544238395e+03\n",
      "Dual infeasibility......:   2.9789254301703743e-09    1.3774118411854456e-07\n",
      "Constraint violation....:   0.0000000000000000e+00    0.0000000000000000e+00\n",
      "Complementarity.........:   1.0000000000009410e-11    4.6238547203511678e-10\n",
      "Overall NLP error.......:   2.9789254301703743e-09    1.3774118411854456e-07\n",
      "\n",
      "\n",
      "Number of objective function evaluations             = 29\n",
      "Number of objective gradient evaluations             = 29\n",
      "Number of equality constraint evaluations            = 0\n",
      "Number of inequality constraint evaluations          = 0\n",
      "Number of equality constraint Jacobian evaluations   = 0\n",
      "Number of inequality constraint Jacobian evaluations = 0\n",
      "Number of Lagrangian Hessian evaluations             = 28\n",
      "Total CPU secs in IPOPT (w/o function evaluations)   =      0.018\n",
      "Total CPU secs in NLP function evaluations           =      0.463\n",
      "\n",
      "EXIT: Optimal Solution Found.\n",
      "  0.522384 seconds (3.67 M allocations: 70.253 MB, 9.65% gc time)\n"
     ]
    }
   ],
   "source": [
    "# Fisher scoring using Ipopt for constrained estimation of B\n",
    "vcmodel_constr = deepcopy(vcmodel)\n",
    "vcmodel_constr.A = [1.0 0.0 -1.0 0.0]\n",
    "vcmodel_constr.sense = '='\n",
    "vcmodel_constr.b = 0.0\n",
    "vcmodel_constr.lb = 0.0\n",
    "vcmodel_constr.ub = 2.0\n",
    "vcmodel_constr\n",
    "@time mle_fs!(vcmodel_constr, vcdatarot; solver=:Ipopt, maxiter=1000, verbose=true);"
   ]
  },
  {
   "cell_type": "code",
   "execution_count": 40,
   "metadata": {
    "collapsed": false
   },
   "outputs": [
    {
     "data": {
      "text/plain": [
       "2x2 Array{Float64,2}:\n",
       " 1.02427   1.02427\n",
       " 0.925427  1.02474"
      ]
     },
     "execution_count": 40,
     "metadata": {},
     "output_type": "execute_result"
    }
   ],
   "source": [
    "vcmodel_constr.B"
   ]
  },
  {
   "cell_type": "code",
   "execution_count": 41,
   "metadata": {
    "collapsed": false
   },
   "outputs": [
    {
     "data": {
      "text/plain": [
       "(\n",
       "2x2 Array{Float64,2}:\n",
       "  0.301662  -0.478052\n",
       " -0.478052   0.803128,\n",
       "\n",
       "2x2 Array{Float64,2}:\n",
       "  5.88085   -0.590275\n",
       " -0.590275   0.586943)"
      ]
     },
     "execution_count": 41,
     "metadata": {},
     "output_type": "execute_result"
    }
   ],
   "source": [
    "vcmodel_constr.Σ"
   ]
  }
 ],
 "metadata": {
  "kernelspec": {
   "display_name": "Julia 0.4.6",
   "language": "julia",
   "name": "julia-0.4"
  },
  "language_info": {
   "file_extension": ".jl",
   "mimetype": "application/julia",
   "name": "julia",
   "version": "0.4.6"
  }
 },
 "nbformat": 4,
 "nbformat_minor": 0
}
