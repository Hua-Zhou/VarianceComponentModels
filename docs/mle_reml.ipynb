{
 "cells": [
  {
   "cell_type": "markdown",
   "metadata": {},
   "source": [
    "# MLE and REML"
   ]
  },
  {
   "cell_type": "markdown",
   "metadata": {},
   "source": [
    "## Demo data"
   ]
  },
  {
   "cell_type": "markdown",
   "metadata": {},
   "source": [
    "For demonstration, we generate a random data set."
   ]
  },
  {
   "cell_type": "code",
   "execution_count": 1,
   "metadata": {
    "collapsed": false
   },
   "outputs": [],
   "source": [
    "# generate data from a d-variate response variane component model\n",
    "srand(123)\n",
    "n = 1000   # no. observations\n",
    "d = 2      # dimension of responses\n",
    "m = 2      # no. variance components\n",
    "p = 2      # no. covariates\n",
    "# n-by-p design matrix\n",
    "X = randn(n, p)\n",
    "# p-by-d mean component regression coefficient\n",
    "B = ones(p, d)  \n",
    "# a tuple of m covariance matrices\n",
    "V = ntuple(x -> zeros(n, n), m) \n",
    "for i = 1:m-1\n",
    "  Vi = randn(n, 50)\n",
    "  copy!(V[i], Vi * Vi')\n",
    "end\n",
    "copy!(V[m], eye(n)) # last covarianec matrix is idendity\n",
    "# a tuple of m d-by-d variance component parameters\n",
    "Σ = ntuple(x -> zeros(d, d), m) \n",
    "for i in 1:m\n",
    "  Σi = randn(d, d)\n",
    "  copy!(Σ[i], Σi' * Σi)\n",
    "end\n",
    "# form overall nd-by-nd covariance matrix Ω\n",
    "Ω = zeros(n * d, n * d)\n",
    "for i = 1:m\n",
    "  Ω += kron(Σ[i], V[i])\n",
    "end\n",
    "Ωchol = cholfact(Ω)\n",
    "# n-by-d responses\n",
    "Y = X * B + reshape(Ωchol[:L] * randn(n*d), n, d);"
   ]
  },
  {
   "cell_type": "markdown",
   "metadata": {},
   "source": [
    "## Maximum likelihood estimation (MLE)"
   ]
  },
  {
   "cell_type": "markdown",
   "metadata": {},
   "source": [
    "To find the MLE of parameters $(B,\\Sigma_1,\\ldots,\\Sigma_m)$, we take 3 steps:  \n",
    "\n",
    "**Step 1 (Construct data)**. Construct an instance of `VarianceComponentVariate`, which consists fields  \n",
    "\n",
    "* `Y`: $n$-by-$d$ responses  \n",
    "* `X`: $n$-by-$p$ covariate matrix  \n",
    "* `V=(V[1],...,V[m])`: a tuple of $n$-by-$n$ covariance matrices. The last covariance matrix must be positive definite and usually is the identity matrix. "
   ]
  },
  {
   "cell_type": "code",
   "execution_count": 2,
   "metadata": {
    "collapsed": false
   },
   "outputs": [
    {
     "data": {
      "text/plain": [
       "3-element Array{Symbol,1}:\n",
       " :Y\n",
       " :X\n",
       " :V"
      ]
     },
     "execution_count": 2,
     "metadata": {},
     "output_type": "execute_result"
    }
   ],
   "source": [
    "using VarianceComponentModels\n",
    "vcdata = VarianceComponentVariate(Y, X, V)\n",
    "fieldnames(vcdata)"
   ]
  },
  {
   "cell_type": "markdown",
   "metadata": {},
   "source": [
    "In the absence of covariates $X$, we can simply initialize by `vcdata = VarianceComponentVariate(Y, V)`."
   ]
  },
  {
   "cell_type": "markdown",
   "metadata": {},
   "source": [
    "**Step 2 (Construct a model)**. Construct an instance of `VarianceComponentModel`, which consists of fields  \n",
    "\n",
    "* `B`: $n$-by-$p$ mean regression coefficients  \n",
    "* `Σ=(Σ[1],...,Σ[m])`: variane component parameters respectively. \n",
    "\n",
    "When constructed from a `VarianceComponentVariate` instance, the mean parameters $B$ are initialized to be zero and the tuple of variance component parameters $\\Sigma$ to be `(eye(d),...,eye(d))`."
   ]
  },
  {
   "cell_type": "code",
   "execution_count": 3,
   "metadata": {
    "collapsed": false
   },
   "outputs": [
    {
     "data": {
      "text/plain": [
       "7-element Array{Symbol,1}:\n",
       " :B    \n",
       " :Σ    \n",
       " :A    \n",
       " :sense\n",
       " :b    \n",
       " :lb   \n",
       " :ub   "
      ]
     },
     "execution_count": 3,
     "metadata": {},
     "output_type": "execute_result"
    }
   ],
   "source": [
    "vcmodel = VarianceComponentModel(vcdata)\n",
    "fieldnames(vcmodel)"
   ]
  },
  {
   "cell_type": "code",
   "execution_count": 4,
   "metadata": {
    "collapsed": false
   },
   "outputs": [
    {
     "data": {
      "text/plain": [
       "VarianceComponentModels.VarianceComponentModel{Float64,2,Array{Float64,2},Array{Float64,2}}([0.0 0.0; 0.0 0.0],(\n",
       "[1.0 0.0; 0.0 1.0],\n",
       "\n",
       "[1.0 0.0; 0.0 1.0]),,Char[],Float64[],-Inf,Inf)"
      ]
     },
     "execution_count": 4,
     "metadata": {},
     "output_type": "execute_result"
    }
   ],
   "source": [
    "vcmodel"
   ]
  },
  {
   "cell_type": "markdown",
   "metadata": {},
   "source": [
    "The remaining fields `A`, `sense`, `b`, `lb`, `ub` specify (optional) constraints on the mean parameters `B`:\n",
    "\n",
    "$A * \\text{vec}(B) \\,\\, =(\\text{or } \\ge \\text{or } \\le) \\,\\, b$\n",
    "\n",
    "$lb \\le \\text{vec}(B) \\le ub$\n",
    "\n",
    "`A` is an constraint matrix with $pd$ columns, `sense` is a vector of charaters taking values `'<'`, `'='` or `'>'`, and `lb` and `ub` are the lower and upper bounds for `vec(B)`. By default, `A`, `sense`, `b` are empty, `lb` is `-Inf`, and `ub` is `Inf`. If any constraits are non-trivial, final estimates of `B` are enforced to satisfy them."
   ]
  },
  {
   "cell_type": "markdown",
   "metadata": {},
   "source": [
    "When a better initial guess is available, we can initialize by calling `vcmodel=VarianceComponentModel(B0, Σ0)` directly."
   ]
  },
  {
   "cell_type": "markdown",
   "metadata": {},
   "source": [
    "**Step 3 (Fit model)**. Call optmization routine `fit_mle!`. The keywork `algo` dictates the optimization algorithm: `:MM` (minorization-maximization algorithm) or `:FS` (Fisher scoring algorithm)."
   ]
  },
  {
   "cell_type": "code",
   "execution_count": 5,
   "metadata": {
    "collapsed": false
   },
   "outputs": [
    {
     "name": "stdout",
     "output_type": "stream",
     "text": [
      "\n",
      "     MM Algorithm\n",
      "  Iter      Objective  \n",
      "--------  -------------\n",
      "       0  -6.253551e+03\n",
      "\n",
      "******************************************************************************\n",
      "This program contains Ipopt, a library for large-scale nonlinear optimization.\n",
      " Ipopt is released as open source code under the Eclipse Public License (EPL).\n",
      "         For more information visit http://projects.coin-or.org/Ipopt\n",
      "******************************************************************************\n",
      "\n",
      "       1  -3.881454e+03\n",
      "       2  -3.853179e+03\n",
      "       3  -3.846525e+03\n",
      "       4  -3.844906e+03\n",
      "       5  -3.844506e+03\n",
      "       6  -3.844406e+03\n",
      "       7  -3.844381e+03\n",
      "       8  -3.844375e+03\n",
      "       9  -3.844374e+03\n",
      "      10  -3.844373e+03\n",
      "\n",
      "  3.133378 seconds (3.62 M allocations: 163.596 MB, 1.16% gc time)\n"
     ]
    }
   ],
   "source": [
    "vcmodel_mle = deepcopy(vcmodel)\n",
    "@time logl, vcmodel_mle, Σse, Σcov, Bse, Bcov = fit_mle!(vcmodel_mle, vcdata; algo = :MM);"
   ]
  },
  {
   "cell_type": "markdown",
   "metadata": {},
   "source": [
    "The output of `fit_mle!` contains  \n",
    "\n",
    "* final log-likelihood  "
   ]
  },
  {
   "cell_type": "code",
   "execution_count": 6,
   "metadata": {
    "collapsed": false
   },
   "outputs": [
    {
     "data": {
      "text/plain": [
       "-3844.3731814180805"
      ]
     },
     "execution_count": 6,
     "metadata": {},
     "output_type": "execute_result"
    }
   ],
   "source": [
    "logl"
   ]
  },
  {
   "cell_type": "markdown",
   "metadata": {},
   "source": [
    "* fitted model"
   ]
  },
  {
   "cell_type": "code",
   "execution_count": 7,
   "metadata": {
    "collapsed": false
   },
   "outputs": [
    {
     "data": {
      "text/plain": [
       "7-element Array{Symbol,1}:\n",
       " :B    \n",
       " :Σ    \n",
       " :A    \n",
       " :sense\n",
       " :b    \n",
       " :lb   \n",
       " :ub   "
      ]
     },
     "execution_count": 7,
     "metadata": {},
     "output_type": "execute_result"
    }
   ],
   "source": [
    "fieldnames(vcmodel_mle)"
   ]
  },
  {
   "cell_type": "code",
   "execution_count": 8,
   "metadata": {
    "collapsed": false
   },
   "outputs": [
    {
     "data": {
      "text/plain": [
       "VarianceComponentModels.VarianceComponentModel{Float64,2,Array{Float64,2},Array{Float64,2}}([1.092 1.04727; 0.955346 1.01632],(\n",
       "[0.380637 -0.305465; -0.305465 4.51938],\n",
       "\n",
       "[1.84009 0.265569; 0.265569 2.17275]),,Char[],Float64[],-Inf,Inf)"
      ]
     },
     "execution_count": 8,
     "metadata": {},
     "output_type": "execute_result"
    }
   ],
   "source": [
    "vcmodel_mle"
   ]
  },
  {
   "cell_type": "markdown",
   "metadata": {},
   "source": [
    "* standard errors of the estimated varianec component parameters"
   ]
  },
  {
   "cell_type": "code",
   "execution_count": 9,
   "metadata": {
    "collapsed": false
   },
   "outputs": [
    {
     "data": {
      "text/plain": [
       "(\n",
       "[0.0765136 0.263047; 0.263047 0.904332],\n",
       "\n",
       "[0.0844292 0.0917441; 0.0917441 0.0996927])"
      ]
     },
     "execution_count": 9,
     "metadata": {},
     "output_type": "execute_result"
    }
   ],
   "source": [
    "Σse"
   ]
  },
  {
   "cell_type": "markdown",
   "metadata": {},
   "source": [
    "* covariance matrix of the variance component parameters estimates"
   ]
  },
  {
   "cell_type": "code",
   "execution_count": 10,
   "metadata": {
    "collapsed": false
   },
   "outputs": [
    {
     "data": {
      "text/plain": [
       "8×8 Array{Float64,2}:\n",
       "  0.00585433  -0.00467019  -0.00467019  …  -1.07903e-6   -1.557e-7   \n",
       " -0.00467019   0.0691937    0.00372555     -1.557e-7     -1.27444e-6 \n",
       " -0.00467019   0.00372555   0.0691937      -8.83212e-6   -1.27444e-6 \n",
       "  0.00372555  -0.055198    -0.055198       -1.27444e-6   -1.04316e-5 \n",
       " -7.4779e-6   -1.07903e-6  -1.07903e-6      0.00102878    0.000148477\n",
       " -1.07903e-6  -8.83212e-6  -1.557e-7    …   0.000148477   0.00121477 \n",
       " -1.07903e-6  -1.557e-7    -8.83212e-6      0.00841698    0.00121477 \n",
       " -1.557e-7    -1.27444e-6  -1.27444e-6      0.00121477    0.00993864 "
      ]
     },
     "execution_count": 10,
     "metadata": {},
     "output_type": "execute_result"
    }
   ],
   "source": [
    "Σcov"
   ]
  },
  {
   "cell_type": "markdown",
   "metadata": {},
   "source": [
    "* standard errors of the estimated mean parameters"
   ]
  },
  {
   "cell_type": "code",
   "execution_count": 11,
   "metadata": {
    "collapsed": false
   },
   "outputs": [
    {
     "data": {
      "text/plain": [
       "2×2 Array{Float64,2}:\n",
       " 0.042559   0.0487086\n",
       " 0.0430588  0.049178 "
      ]
     },
     "execution_count": 11,
     "metadata": {},
     "output_type": "execute_result"
    }
   ],
   "source": [
    "Bse"
   ]
  },
  {
   "cell_type": "markdown",
   "metadata": {},
   "source": [
    "* covariance matrix of the mean parameter estimates"
   ]
  },
  {
   "cell_type": "code",
   "execution_count": 12,
   "metadata": {
    "collapsed": false
   },
   "outputs": [
    {
     "data": {
      "text/plain": [
       "4×4 Array{Float64,2}:\n",
       "  0.00181127   -1.98035e-5    0.000240705  -2.59506e-6 \n",
       " -1.98035e-5    0.00185406   -2.59506e-6    0.000247285\n",
       "  0.000240705  -2.59506e-6    0.00237252   -2.63542e-5 \n",
       " -2.59506e-6    0.000247285  -2.63542e-5    0.00241848 "
      ]
     },
     "execution_count": 12,
     "metadata": {},
     "output_type": "execute_result"
    }
   ],
   "source": [
    "Bcov"
   ]
  },
  {
   "cell_type": "markdown",
   "metadata": {},
   "source": [
    "## Restricted maximum likelihood estimation (REML)"
   ]
  },
  {
   "cell_type": "markdown",
   "metadata": {},
   "source": [
    "[REML (restricted maximum likelihood estimation)](https://en.wikipedia.org/wiki/Restricted_maximum_likelihood) is a popular alternative to the MLE. To find the REML of a variane component model, we replace the above step 3 by  "
   ]
  },
  {
   "cell_type": "markdown",
   "metadata": {},
   "source": [
    "**Step 3**. Call optmization routine `fit_reml!`."
   ]
  },
  {
   "cell_type": "code",
   "execution_count": 13,
   "metadata": {
    "collapsed": false
   },
   "outputs": [
    {
     "name": "stdout",
     "output_type": "stream",
     "text": [
      "\n",
      "     MM Algorithm\n",
      "  Iter      Objective  \n",
      "--------  -------------\n",
      "       0  -4.215053e+03\n",
      "       1  -3.925799e+03\n",
      "       2  -3.865114e+03\n",
      "       3  -3.851105e+03\n",
      "       4  -3.847732e+03\n",
      "       5  -3.846903e+03\n",
      "       6  -3.846698e+03\n",
      "       7  -3.846647e+03\n",
      "       8  -3.846634e+03\n",
      "       9  -3.846631e+03\n",
      "      10  -3.846630e+03\n",
      "\n",
      "  0"
     ]
    }
   ],
   "source": [
    "vcmodel_reml = deepcopy(vcmodel)\n",
    "@time logl, vcmodel_reml, Σse, Σcov, Bse, Bcov = fit_reml!(vcmodel_reml, vcdata; algo = :MM);"
   ]
  },
  {
   "cell_type": "markdown",
   "metadata": {},
   "source": [
    "The output of `fit_reml!` contains"
   ]
  },
  {
   "cell_type": "markdown",
   "metadata": {},
   "source": [
    "* the final log-likelihood at REML estimate"
   ]
  },
  {
   "cell_type": "code",
   "execution_count": 14,
   "metadata": {
    "collapsed": false
   },
   "outputs": [
    {
     "data": {
      "text/plain": [
       "-3844.3777179025096"
      ]
     },
     "execution_count": 14,
     "metadata": {},
     "output_type": "execute_result"
    }
   ],
   "source": [
    "logl"
   ]
  },
  {
   "cell_type": "markdown",
   "metadata": {},
   "source": [
    "* REML estimates"
   ]
  },
  {
   "cell_type": "code",
   "execution_count": 15,
   "metadata": {
    "collapsed": false
   },
   "outputs": [
    {
     "data": {
      "text/plain": [
       "7-element Array{Symbol,1}:\n",
       " :B    \n",
       " :Σ    \n",
       " :A    \n",
       " :sense\n",
       " :b    \n",
       " :lb   \n",
       " :ub   "
      ]
     },
     "execution_count": 15,
     "metadata": {},
     "output_type": "execute_result"
    }
   ],
   "source": [
    "fieldnames(vcmodel_reml)"
   ]
  },
  {
   "cell_type": "code",
   "execution_count": 16,
   "metadata": {
    "collapsed": false
   },
   "outputs": [
    {
     "data": {
      "text/plain": [
       "VarianceComponentModels.VarianceComponentModel{Float64,2,Array{Float64,2},Array{Float64,2}}([1.092 1.04727; 0.955345 1.01632],(\n",
       "[0.380594 -0.305485; -0.305485 4.51994],\n",
       "\n",
       "[1.84285 0.261963; 0.261963 2.17842]),,Char[],Float64[],-Inf,Inf)"
      ]
     },
     "execution_count": 16,
     "metadata": {},
     "output_type": "execute_result"
    }
   ],
   "source": [
    "vcmodel_reml"
   ]
  },
  {
   "cell_type": "markdown",
   "metadata": {},
   "source": [
    "* standard errors of the estimated varianec component parameters"
   ]
  },
  {
   "cell_type": "code",
   "execution_count": 17,
   "metadata": {
    "collapsed": false
   },
   "outputs": [
    {
     "data": {
      "text/plain": [
       "(\n",
       "[0.0765055 0.26305; 0.26305 0.904446],\n",
       "\n",
       "[0.0845559 0.0919325; 0.0919325 0.0999526])"
      ]
     },
     "execution_count": 17,
     "metadata": {},
     "output_type": "execute_result"
    }
   ],
   "source": [
    "Σse"
   ]
  },
  {
   "cell_type": "markdown",
   "metadata": {},
   "source": [
    "* covariance matrix of the variance component parameters estimates"
   ]
  },
  {
   "cell_type": "code",
   "execution_count": 18,
   "metadata": {
    "collapsed": false
   },
   "outputs": [
    {
     "data": {
      "text/plain": [
       "8×8 Array{Float64,2}:\n",
       "  0.0058531   -0.00467005  -0.00467005  …  -1.06597e-6   -1.51499e-7 \n",
       " -0.00467005   0.0691951    0.00372613     -1.51499e-7   -1.26041e-6 \n",
       " -0.00467005   0.00372613   0.0691951      -8.86843e-6   -1.26041e-6 \n",
       "  0.00372613  -0.0552092   -0.0552092      -1.26041e-6   -1.0486e-5  \n",
       " -7.50035e-6  -1.06597e-6  -1.06597e-6      0.00101633    0.000144472\n",
       " -1.06597e-6  -8.86843e-6  -1.51499e-7  …   0.000144472   0.0012014  \n",
       " -1.06597e-6  -1.51499e-7  -8.86843e-6      0.00845158    0.0012014  \n",
       " -1.51499e-7  -1.26041e-6  -1.26041e-6      0.0012014     0.00999052 "
      ]
     },
     "execution_count": 18,
     "metadata": {},
     "output_type": "execute_result"
    }
   ],
   "source": [
    "Σcov"
   ]
  },
  {
   "cell_type": "markdown",
   "metadata": {},
   "source": [
    "* standard errors of the estimated mean parameters"
   ]
  },
  {
   "cell_type": "code",
   "execution_count": 19,
   "metadata": {
    "collapsed": false
   },
   "outputs": [
    {
     "data": {
      "text/plain": [
       "2×2 Array{Float64,2}:\n",
       " 0.0425909  0.0487744\n",
       " 0.043091   0.0492444"
      ]
     },
     "execution_count": 19,
     "metadata": {},
     "output_type": "execute_result"
    }
   ],
   "source": [
    "Bse"
   ]
  },
  {
   "cell_type": "markdown",
   "metadata": {},
   "source": [
    "* covariance matrix of the mean parameter estimates"
   ]
  },
  {
   "cell_type": "code",
   "execution_count": 20,
   "metadata": {
    "collapsed": false
   },
   "outputs": [
    {
     "data": {
      "text/plain": [
       "4×4 Array{Float64,2}:\n",
       "  0.00181398   -1.98331e-5    0.000237127  -2.55589e-6 \n",
       " -1.98331e-5    0.00185683   -2.55589e-6    0.000243624\n",
       "  0.000237127  -2.55589e-6    0.00237894   -2.6426e-5  \n",
       " -2.55589e-6    0.000243624  -2.6426e-5     0.00242501 "
      ]
     },
     "execution_count": 20,
     "metadata": {},
     "output_type": "execute_result"
    }
   ],
   "source": [
    "Bcov"
   ]
  },
  {
   "cell_type": "markdown",
   "metadata": {},
   "source": [
    "## Optimization algorithms"
   ]
  },
  {
   "cell_type": "markdown",
   "metadata": {},
   "source": [
    "Finding the MLE or REML of variance component models is a non-trivial nonlinear optimization problem. The main complications are the non-convexity of objective function and the positive semi-definiteness constraint of variane component parameters $\\Sigma_1,\\ldots,\\Sigma_m$. In specific applications, users should try different algorithms with different starting points in order to find a better solution. Here are some tips for efficient computation. "
   ]
  },
  {
   "cell_type": "markdown",
   "metadata": {},
   "source": [
    "In general the optimization algorithm needs to invert the $nd$ by $nd$ overall covariance matrix $\\Omega = \\Sigma_1 \\otimes V_1 + \\cdots + \\Sigma_m \\otimes V_m$ in each iteration. Inverting a matrix is an expensive operation with $O(n^3 d^3)$ floating operations. When there are only **two** varianec components ($m=2$), this tedious task can be avoided by taking one (generalized) eigendecomposion of $(V_1, V_2)$ and rotating data $(Y, X)$ by the eigen-vectors. "
   ]
  },
  {
   "cell_type": "code",
   "execution_count": 21,
   "metadata": {
    "collapsed": false
   },
   "outputs": [
    {
     "data": {
      "text/plain": [
       "5-element Array{Symbol,1}:\n",
       " :Yrot    \n",
       " :Xrot    \n",
       " :eigval  \n",
       " :eigvec  \n",
       " :logdetV2"
      ]
     },
     "execution_count": 21,
     "metadata": {},
     "output_type": "execute_result"
    }
   ],
   "source": [
    "vcdatarot = TwoVarCompVariateRotate(vcdata)\n",
    "fieldnames(vcdatarot)"
   ]
  },
  {
   "cell_type": "markdown",
   "metadata": {},
   "source": [
    "Two optimization algorithms are implemented: [Fisher scoring](https://books.google.com/books?id=QYqeYTftPNwC&lpg=PP1&pg=PA142#v=onepage&q&f=false) (`mle_fs!`) and the [minorization-maximization (MM) algorithm](http://arxiv.org/abs/1509.07426) (`mle_mm!`). Both take the rotated data as input. These two functions give finer control of the optimization algorithms. Generally speaking, MM algorithm is more stable while Fisher scoring (if it converges) yields more accurate answer."
   ]
  },
  {
   "cell_type": "code",
   "execution_count": 22,
   "metadata": {
    "collapsed": false
   },
   "outputs": [
    {
     "name": "stdout",
     "output_type": "stream",
     "text": [
      "\n",
      "     MM Algorithm\n",
      "  Iter      Objective  \n",
      "--------  -------------\n",
      "       0  -6.253551e+03\n",
      "       1  -3.881454e+03\n",
      "       2  -3.853179e+03\n",
      "       3  -3.846525e+03\n",
      "       4  -3.844906e+03\n",
      "       5  -3.844506e+03\n",
      "       6  -3.844406e+03\n",
      "       7  -3.844381e+03\n",
      "       8  -3.844375e+03\n",
      "       9  -3.844374e+03\n",
      "      10  -3.844373e+03\n",
      "\n",
      "  0.108612 seconds (157.83 k allocations: 6.022 MB)\n"
     ]
    }
   ],
   "source": [
    "vcmodel_mm = deepcopy(vcmodel)\n",
    "@time mle_mm!(vcmodel_mm, vcdatarot; maxiter=10000, funtol=1e-8, verbose = true);"
   ]
  },
  {
   "cell_type": "code",
   "execution_count": 23,
   "metadata": {
    "collapsed": false
   },
   "outputs": [
    {
     "data": {
      "text/plain": [
       "2×2 Array{Float64,2}:\n",
       " 1.092     1.04727\n",
       " 0.955346  1.01632"
      ]
     },
     "execution_count": 23,
     "metadata": {},
     "output_type": "execute_result"
    }
   ],
   "source": [
    "# MM estimates\n",
    "vcmodel_mm.B"
   ]
  },
  {
   "cell_type": "code",
   "execution_count": 24,
   "metadata": {
    "collapsed": false
   },
   "outputs": [
    {
     "data": {
      "text/plain": [
       "(\n",
       "[0.380637 -0.305465; -0.305465 4.51938],\n",
       "\n",
       "[1.84009 0.265569; 0.265569 2.17275])"
      ]
     },
     "execution_count": 24,
     "metadata": {},
     "output_type": "execute_result"
    }
   ],
   "source": [
    "# MM estimates\n",
    "vcmodel_mm.Σ"
   ]
  },
  {
   "cell_type": "markdown",
   "metadata": {},
   "source": [
    "Fisher scoring (`mle_fs!`) uses either [Ipopt.jl](https://github.com/JuliaOpt/Ipopt.jl) (keyword `solver=:Ipopt`) or [KNITRO.jl](https://github.com/JuliaOpt/KNITRO.jl) (keyword `solver=:Knitro`) as the backend solver. Ipopt is open source and installation of [Ipopt.jl](https://github.com/JuliaOpt/Ipopt.jl) package alone is sufficient."
   ]
  },
  {
   "cell_type": "code",
   "execution_count": 25,
   "metadata": {
    "collapsed": false
   },
   "outputs": [
    {
     "name": "stdout",
     "output_type": "stream",
     "text": [
      "This is Ipopt version 3.12.4, running with linear solver mumps.\n",
      "NOTE: Other linear solvers might be more efficient (see Ipopt documentation).\n",
      "\n",
      "Number of nonzeros in equality constraint Jacobian...:        0\n",
      "Number of nonzeros in inequality constraint Jacobian.:        0\n",
      "Number of nonzeros in Lagrangian Hessian.............:       21\n",
      "\n",
      "Total number of variables............................:        6\n",
      "                     variables with only lower bounds:        0\n",
      "                variables with lower and upper bounds:        0\n",
      "                     variables with only upper bounds:        0\n",
      "Total number of equality constraints.................:        0\n",
      "Total number of inequality constraints...............:        0\n",
      "        inequality constraints with only lower bounds:        0\n",
      "   inequality constraints with lower and upper bounds:        0\n",
      "        inequality constraints with only upper bounds:        0\n",
      "\n",
      "iter    objective    inf_pr   inf_du lg(mu)  ||d||  lg(rg) alpha_du alpha_pr  ls\n",
      "   0  4.2109423e+03 0.00e+00 1.00e+02   0.0 0.00e+00    -  0.00e+00 0.00e+00   0 \n",
      "   5  3.8445586e+03 0.00e+00 7.87e-01 -11.0 4.94e-02    -  1.00e+00 1.00e+00f  1 MaxS\n",
      "  10  3.8443870e+03 0.00e+00 2.25e-01 -11.0 1.38e-02    -  1.00e+00 1.00e+00f  1 MaxS\n",
      "  15  3.8443742e+03 0.00e+00 6.23e-02 -11.0 3.78e-03    -  1.00e+00 1.00e+00f  1 MaxS\n",
      "  20  3.8443733e+03 0.00e+00 1.70e-02 -11.0 1.03e-03    -  1.00e+00 1.00e+00f  1 MaxS\n",
      "  25  3.8443732e+03 0.00e+00 4.61e-03 -11.0 2.79e-04    -  1.00e+00 1.00e+00f  1 MaxS\n",
      "  30  3.8443732e+03 0.00e+00 1.25e-03 -11.0 7.56e-05    -  1.00e+00 1.00e+00f  1 MaxS\n",
      "  35  3.8443732e+03 0.00e+00 3.39e-04 -11.0 2.05e-05    -  1.00e+00 1.00e+00f  1 MaxS\n",
      "  40  3.8443732e+03 0.00e+00 9.19e-05 -11.0 5.55e-06    -  1.00e+00 1.00e+00f  1 MaxS\n",
      "  45  3.8443732e+03 0.00e+00 2.49e-05 -11.0 1.51e-06    -  1.00e+00 1.00e+00f  1 MaxS\n",
      "iter    objective    inf_pr   inf_du lg(mu)  ||d||  lg(rg) alpha_du alpha_pr  ls\n",
      "  50  3.8443732e+03 0.00e+00 6.76e-06 -11.0 4.08e-07    -  1.00e+00 1.00e+00f  1 MaxSA\n",
      "  55  3.8443732e+03 0.00e+00 1.83e-06 -11.0 1.11e-07    -  1.00e+00 1.00e+00f  1 MaxSA\n",
      "  60  3.8443732e+03 0.00e+00 4.97e-07 -11.0 3.00e-08    -  1.00e+00 1.00e+00f  1 MaxSA\n",
      "\n",
      "Number of Iterations....: 63\n",
      "\n",
      "                                   (scaled)                 (unscaled)\n",
      "Objective...............:   3.4496886481728075e+02    3.8443731733053696e+03\n",
      "Dual infeasibility......:   2.2693631692678575e-07    2.5290047242499938e-06\n",
      "Constraint violation....:   0.0000000000000000e+00    0.0000000000000000e+00\n",
      "Complementarity.........:   0.0000000000000000e+00    0.0000000000000000e+00\n",
      "Overall NLP error.......:   2.2693631692678575e-07    2.5290047242499938e-06\n",
      "\n",
      "\n",
      "Number of objective function evaluations             = 64\n",
      "Number of objective gradient evaluations             = 64\n",
      "Number of equality constraint evaluations            = 0\n",
      "Number of inequality constraint evaluations          = 0\n",
      "Number of equality constraint Jacobian evaluations   = 0\n",
      "Number of inequality constraint Jacobian evaluations = 0\n",
      "Number of Lagrangian Hessian evaluations             = 63\n",
      "Total CPU secs in IPOPT (w/o function evaluations)   =      0.654\n",
      "Total CPU secs in NLP function evaluations           =      0.376\n",
      "\n",
      "EXIT: Solved To Acceptable Level.\n",
      "  1.370692 seconds (1.09 M allocations: 47.477 MB, 1.24% gc time)\n"
     ]
    }
   ],
   "source": [
    "# Fisher scoring using Ipopt\n",
    "vcmodel_ipopt = deepcopy(vcmodel)\n",
    "@time mle_fs!(vcmodel_ipopt, vcdatarot; solver=:Ipopt, maxiter=1000, verbose=true);"
   ]
  },
  {
   "cell_type": "code",
   "execution_count": 26,
   "metadata": {
    "collapsed": false
   },
   "outputs": [
    {
     "data": {
      "text/plain": [
       "2×2 Array{Float64,2}:\n",
       " 1.092     1.04727\n",
       " 0.955346  1.01632"
      ]
     },
     "execution_count": 26,
     "metadata": {},
     "output_type": "execute_result"
    }
   ],
   "source": [
    "# Ipopt estimates\n",
    "vcmodel_ipopt.B"
   ]
  },
  {
   "cell_type": "code",
   "execution_count": 27,
   "metadata": {
    "collapsed": false
   },
   "outputs": [
    {
     "data": {
      "text/plain": [
       "(\n",
       "[0.380552 -0.305594; -0.305594 4.52106],\n",
       "\n",
       "[1.84008 0.265385; 0.265385 2.17287])"
      ]
     },
     "execution_count": 27,
     "metadata": {},
     "output_type": "execute_result"
    }
   ],
   "source": [
    "# Ipopt estimates\n",
    "vcmodel_ipopt.Σ"
   ]
  },
  {
   "cell_type": "markdown",
   "metadata": {},
   "source": [
    "Knitro is a commercial software and users need to follow instructions at [KNITRO.jl](https://github.com/JuliaOpt/KNITRO.jl) for proper functioning. Following code invoke Knitro as the backend optimization solver.\n",
    "```julia\n",
    "using KNITRO\n",
    "\n",
    "# Fisher scoring using Knitro\n",
    "vcmodel_knitro = deepcopy(vcmodel)\n",
    "@time mle_fs!(vcmodel_knitro, vcdatarot; solver=:Knitro, maxiter=1000, verbose=true);\n",
    "\n",
    "# Knitro estimates\n",
    "vcmodel_knitro.B\n",
    "\n",
    "# Knitro estimates\n",
    "vcmodel_knitro.Σ\n",
    "```"
   ]
  },
  {
   "cell_type": "markdown",
   "metadata": {},
   "source": [
    "## Starting point"
   ]
  },
  {
   "cell_type": "markdown",
   "metadata": {},
   "source": [
    "Here are a few strategies for successful optimization. "
   ]
  },
  {
   "cell_type": "markdown",
   "metadata": {},
   "source": [
    "* For $d>1$ (multivariate response), initialize $B, \\Sigma$ from univariate estimates.  \n",
    "* Use REML estimate as starting point for MLE.  \n",
    "* When there are only $m=2$ variance components, pre-compute `TwoVarCompVariateRotate` and use it for optimization."
   ]
  },
  {
   "cell_type": "markdown",
   "metadata": {
    "collapsed": true
   },
   "source": [
    "## Constrained estimation of `B`"
   ]
  },
  {
   "cell_type": "markdown",
   "metadata": {},
   "source": [
    "Many applications invoke constraints on the mean parameters `B`. For demonstration, we enforce `B[1,1]=B[1,2]` and all entries of `B` are within [0, 2]."
   ]
  },
  {
   "cell_type": "code",
   "execution_count": 28,
   "metadata": {
    "collapsed": false
   },
   "outputs": [
    {
     "data": {
      "text/plain": [
       "VarianceComponentModels.VarianceComponentModel{Float64,2,Array{Float64,2},Array{Float64,2}}([0.0 0.0; 0.0 0.0],(\n",
       "[1.0 0.0; 0.0 1.0],\n",
       "\n",
       "[1.0 0.0; 0.0 1.0]),[1.0 0.0 -1.0 0.0],'=',0.0,0.0,2.0)"
      ]
     },
     "execution_count": 28,
     "metadata": {},
     "output_type": "execute_result"
    }
   ],
   "source": [
    "# set up constraints on B\n",
    "vcmodel_constr = deepcopy(vcmodel)\n",
    "vcmodel_constr.A = [1.0 0.0 -1.0 0.0]\n",
    "vcmodel_constr.sense = '='\n",
    "vcmodel_constr.b = 0.0\n",
    "vcmodel_constr.lb = 0.0\n",
    "vcmodel_constr.ub = 2.0\n",
    "vcmodel_constr"
   ]
  },
  {
   "cell_type": "markdown",
   "metadata": {},
   "source": [
    "We first try the MM algorithm."
   ]
  },
  {
   "cell_type": "code",
   "execution_count": 29,
   "metadata": {
    "collapsed": false
   },
   "outputs": [
    {
     "name": "stdout",
     "output_type": "stream",
     "text": [
      "\n",
      "     MM Algorithm\n",
      "  Iter      Objective  \n",
      "--------  -------------\n",
      "       0  -6.253551e+03\n",
      "       1  -3.881820e+03\n",
      "       2  -3.853477e+03\n",
      "       3  -3.846807e+03\n",
      "       4  -3.845184e+03\n",
      "       5  -3.844783e+03\n",
      "       6  -3.844683e+03\n",
      "       7  -3.844658e+03\n",
      "       8  -3.844652e+03\n",
      "       9  -3.844650e+03\n",
      "      10  -3.844650e+03\n",
      "\n",
      "  0.112024 seconds (26.64 k allocations: 1.370 MB)\n"
     ]
    }
   ],
   "source": [
    "# MM algorithm for constrained estimation of B\n",
    "@time mle_mm!(vcmodel_constr, vcdatarot; maxiter=10000, funtol=1e-8, verbose = true);"
   ]
  },
  {
   "cell_type": "code",
   "execution_count": 30,
   "metadata": {
    "collapsed": false
   },
   "outputs": [
    {
     "data": {
      "text/plain": [
       "7-element Array{Symbol,1}:\n",
       " :B    \n",
       " :Σ    \n",
       " :A    \n",
       " :sense\n",
       " :b    \n",
       " :lb   \n",
       " :ub   "
      ]
     },
     "execution_count": 30,
     "metadata": {},
     "output_type": "execute_result"
    }
   ],
   "source": [
    "fieldnames(vcmodel_constr)"
   ]
  },
  {
   "cell_type": "code",
   "execution_count": 31,
   "metadata": {
    "collapsed": false
   },
   "outputs": [
    {
     "data": {
      "text/plain": [
       "2×2 Array{Float64,2}:\n",
       " 1.07177   1.07177\n",
       " 0.955683  1.01591"
      ]
     },
     "execution_count": 31,
     "metadata": {},
     "output_type": "execute_result"
    }
   ],
   "source": [
    "vcmodel_constr.B"
   ]
  },
  {
   "cell_type": "code",
   "execution_count": 32,
   "metadata": {
    "collapsed": false
   },
   "outputs": [
    {
     "data": {
      "text/plain": [
       "(\n",
       "[0.380624 -0.305498; -0.305498 4.51948],\n",
       "\n",
       "[1.84051 0.265065; 0.265065 2.17336])"
      ]
     },
     "execution_count": 32,
     "metadata": {},
     "output_type": "execute_result"
    }
   ],
   "source": [
    "vcmodel_constr.Σ"
   ]
  },
  {
   "cell_type": "markdown",
   "metadata": {},
   "source": [
    "Now let's try Fisher scoring."
   ]
  },
  {
   "cell_type": "code",
   "execution_count": 33,
   "metadata": {
    "collapsed": false
   },
   "outputs": [
    {
     "name": "stdout",
     "output_type": "stream",
     "text": [
      "This is Ipopt version 3.12.4, running with linear solver mumps.\n",
      "NOTE: Other linear solvers might be more efficient (see Ipopt documentation).\n",
      "\n",
      "Number of nonzeros in equality constraint Jacobian...:        0\n",
      "Number of nonzeros in inequality constraint Jacobian.:        0\n",
      "Number of nonzeros in Lagrangian Hessian.............:       21\n",
      "\n",
      "Total number of variables............................:        6\n",
      "                     variables with only lower bounds:        0\n",
      "                variables with lower and upper bounds:        0\n",
      "                     variables with only upper bounds:        0\n",
      "Total number of equality constraints.................:        0\n",
      "Total number of inequality constraints...............:        0\n",
      "        inequality constraints with only lower bounds:        0\n",
      "   inequality constraints with lower and upper bounds:        0\n",
      "        inequality constraints with only upper bounds:        0\n",
      "\n",
      "iter    objective    inf_pr   inf_du lg(mu)  ||d||  lg(rg) alpha_du alpha_pr  ls\n",
      "   0  4.2114270e+03 0.00e+00 1.00e+02   0.0 0.00e+00    -  0.00e+00 0.00e+00   0 \n",
      "   5  3.8448353e+03 0.00e+00 7.87e-01 -11.0 4.94e-02    -  1.00e+00 1.00e+00f  1 MaxS\n",
      "  10  3.8446636e+03 0.00e+00 2.25e-01 -11.0 1.38e-02    -  1.00e+00 1.00e+00f  1 MaxS\n",
      "  15  3.8446509e+03 0.00e+00 6.23e-02 -11.0 3.78e-03    -  1.00e+00 1.00e+00f  1 MaxS\n",
      "  20  3.8446499e+03 0.00e+00 1.70e-02 -11.0 1.03e-03    -  1.00e+00 1.00e+00f  1 MaxS\n",
      "  25  3.8446498e+03 0.00e+00 4.61e-03 -11.0 2.79e-04    -  1.00e+00 1.00e+00f  1 MaxS\n",
      "  30  3.8446498e+03 0.00e+00 1.25e-03 -11.0 7.56e-05    -  1.00e+00 1.00e+00f  1 MaxS\n",
      "  35  3.8446498e+03 0.00e+00 3.39e-04 -11.0 2.05e-05    -  1.00e+00 1.00e+00f  1 MaxS\n",
      "  40  3.8446498e+03 0.00e+00 9.19e-05 -11.0 5.56e-06    -  1.00e+00 1.00e+00f  1 MaxS\n",
      "  45  3.8446498e+03 0.00e+00 2.49e-05 -11.0 1.51e-06    -  1.00e+00 1.00e+00f  1 MaxS\n",
      "iter    objective    inf_pr   inf_du lg(mu)  ||d||  lg(rg) alpha_du alpha_pr  ls\n",
      "  50  3.8446498e+03 0.00e+00 6.76e-06 -11.0 4.08e-07    -  1.00e+00 1.00e+00f  1 MaxSA\n",
      "  55  3.8446498e+03 0.00e+00 1.83e-06 -11.0 1.11e-07    -  1.00e+00 1.00e+00f  1 MaxSA\n",
      "  60  3.8446498e+03 0.00e+00 4.97e-07 -11.0 3.00e-08    -  1.00e+00 1.00e+00f  1 MaxSA\n",
      "\n",
      "Number of Iterations....: 63\n",
      "\n",
      "                                   (scaled)                 (unscaled)\n",
      "Objective...............:   3.4484507551949008e+02    3.8446498170293403e+03\n",
      "Dual infeasibility......:   2.2694405349430929e-07    2.5301808715939735e-06\n",
      "Constraint violation....:   0.0000000000000000e+00    0.0000000000000000e+00\n",
      "Complementarity.........:   0.0000000000000000e+00    0.0000000000000000e+00\n",
      "Overall NLP error.......:   2.2694405349430929e-07    2.5301808715939735e-06\n",
      "\n",
      "\n",
      "Number of objective function evaluations             = 64\n",
      "Number of objective gradient evaluations             = 64\n",
      "Number of equality constraint evaluations            = 0\n",
      "Number of inequality constraint evaluations          = 0\n",
      "Number of equality constraint Jacobian evaluations   = 0\n",
      "Number of inequality constraint Jacobian evaluations = 0\n",
      "Number of Lagrangian Hessian evaluations             = 63\n",
      "Total CPU secs in IPOPT (w/o function evaluations)   =      0.022\n",
      "Total CPU secs in NLP function evaluations           =      0.650\n",
      "\n",
      "EXIT: Solved To Acceptable Level.\n",
      "  0.771712 seconds (126.13 k allocations: 8.715 MB, 0.73% gc time)\n"
     ]
    }
   ],
   "source": [
    "# Fisher scoring using Ipopt for constrained estimation of B\n",
    "vcmodel_constr = deepcopy(vcmodel)\n",
    "vcmodel_constr.A = [1.0 0.0 -1.0 0.0]\n",
    "vcmodel_constr.sense = '='\n",
    "vcmodel_constr.b = 0.0\n",
    "vcmodel_constr.lb = 0.0\n",
    "vcmodel_constr.ub = 2.0\n",
    "vcmodel_constr\n",
    "@time mle_fs!(vcmodel_constr, vcdatarot; solver=:Ipopt, maxiter=1000, verbose=true);"
   ]
  },
  {
   "cell_type": "code",
   "execution_count": 34,
   "metadata": {
    "collapsed": false
   },
   "outputs": [
    {
     "data": {
      "text/plain": [
       "2×2 Array{Float64,2}:\n",
       " 1.07177   1.07177\n",
       " 0.955683  1.01591"
      ]
     },
     "execution_count": 34,
     "metadata": {},
     "output_type": "execute_result"
    }
   ],
   "source": [
    "vcmodel_constr.B"
   ]
  },
  {
   "cell_type": "code",
   "execution_count": 35,
   "metadata": {
    "collapsed": false
   },
   "outputs": [
    {
     "data": {
      "text/plain": [
       "(\n",
       "[0.380539 -0.305626; -0.305626 4.52116],\n",
       "\n",
       "[1.8405 0.264881; 0.264881 2.17348])"
      ]
     },
     "execution_count": 35,
     "metadata": {},
     "output_type": "execute_result"
    }
   ],
   "source": [
    "vcmodel_constr.Σ"
   ]
  },
  {
   "cell_type": "code",
   "execution_count": null,
   "metadata": {
    "collapsed": true
   },
   "outputs": [],
   "source": []
  }
 ],
 "metadata": {
  "kernelspec": {
   "display_name": "Julia 0.5.1",
   "language": "julia",
   "name": "julia-0.5"
  },
  "language_info": {
   "file_extension": ".jl",
   "mimetype": "application/julia",
   "name": "julia",
   "version": "0.5.1"
  }
 },
 "nbformat": 4,
 "nbformat_minor": 0
}
