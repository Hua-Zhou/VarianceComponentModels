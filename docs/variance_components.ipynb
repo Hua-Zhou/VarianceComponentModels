{
 "cells": [
  {
   "cell_type": "markdown",
   "metadata": {},
   "source": [
    "# VarianceComponentModels.jl"
   ]
  },
  {
   "cell_type": "code",
   "execution_count": 1,
   "metadata": {
    "collapsed": true
   },
   "outputs": [],
   "source": [
    "using VarianceComponentModels"
   ]
  },
  {
   "cell_type": "markdown",
   "metadata": {},
   "source": [
    "VarianceComponentModels.jl implements computation routines for fitting and testing variance component model of form\n",
    "$$\n",
    "    \\text{vec}(Y) \\sim {\\cal N}(X B, \\Sigma_1 \\otimes V_1 + \\cdots + \\Sigma_m \\otimes V_m).\n",
    "$$\n",
    "In this model, **data** is  \n",
    "* `Y`: `n x d` response matrix  \n",
    "* `X`: `n x p` covariate matrix  \n",
    "* `V1,...,Vm`: `m` `n x n` covariance matrices  \n",
    "\n",
    "**Parameters** are  \n",
    "* `B`: `p x d` mean parameter matrix  \n",
    "* `Σ1,...,Σm`: `m` `d x d` variance components"
   ]
  },
  {
   "cell_type": "markdown",
   "metadata": {},
   "source": [
    "## Maximum likelihood estimation (MLE)"
   ]
  },
  {
   "cell_type": "markdown",
   "metadata": {},
   "source": [
    "For demonstration, we generate a random data set."
   ]
  },
  {
   "cell_type": "code",
   "execution_count": 2,
   "metadata": {
    "collapsed": false
   },
   "outputs": [
    {
     "data": {
      "text/plain": [
       "1000x2 Array{Float64,2}:\n",
       "  4.44498     2.49669 \n",
       "  0.239013    5.78242 \n",
       " -7.89026    11.3229  \n",
       " -1.14952    -1.99452 \n",
       "  2.07618    -4.97312 \n",
       "  0.72998    -0.710448\n",
       "  4.31562    -1.13738 \n",
       " -9.52372     8.97905 \n",
       " -3.48908     6.85469 \n",
       " 14.5379    -29.2101  \n",
       "  4.21264    -6.69222 \n",
       "  2.17465    -7.16013 \n",
       " -0.484665   -3.31723 \n",
       "  ⋮                   \n",
       " -6.50965    -0.272068\n",
       "  9.63446   -11.2917  \n",
       "  3.9017    -10.4169  \n",
       " -1.87012     4.04243 \n",
       "  5.33523    -9.45383 \n",
       "  0.633076    3.54368 \n",
       " -2.41406     3.75242 \n",
       " -4.81822     5.10283 \n",
       "  3.93386     0.107781\n",
       "  4.4098     -9.14736 \n",
       " -5.17633     0.593472\n",
       " -4.90908    10.5114  "
      ]
     },
     "execution_count": 2,
     "metadata": {},
     "output_type": "execute_result"
    }
   ],
   "source": [
    "# generate data from a d-variate response variane component model\n",
    "srand(123)\n",
    "n = 1000   # no. observations\n",
    "d = 2     # dimension of responses\n",
    "m = 2     # no. variance components\n",
    "p = 2     # no. covariates\n",
    "X = randn(n, p) # design matrix\n",
    "B = ones(p, d)  # mean component regresison coefficient\n",
    "Σ = ntuple(x -> zeros(d, d), m) # A tuple of m variance component parameters\n",
    "for i in 1:m\n",
    "  Σi = randn(d, d)\n",
    "  copy!(Σ[i], Σi' * Σi)\n",
    "end\n",
    "V = ntuple(x -> zeros(n, n), m) # A tuple of m covariance matrices\n",
    "for i = 1:m-1\n",
    "  Vi = randn(n, 50)\n",
    "  copy!(V[i], Vi * Vi')\n",
    "end\n",
    "copy!(V[m], eye(n)) # last covarianec matrix is idendity\n",
    "# form Ω\n",
    "Ω = zeros(n*d, n*d)\n",
    "for i = 1:m\n",
    "  Ω += kron(Σ[i], V[i])\n",
    "end\n",
    "Ωchol = cholfact(Ω)\n",
    "Y = X * B + reshape(Ωchol[:L] * randn(n*d), n, d) # responses"
   ]
  },
  {
   "cell_type": "markdown",
   "metadata": {},
   "source": [
    "To find the MLE of parameters $(B,\\Sigma_1,\\ldots,\\Sigma_m)$, we follow 3 steps:  \n",
    "**Step 1**. Construct an instance of `VarianceComponentVariate`, which consists of responses $Y$, covariate matrix $X$, and a tuple of covariance matrices $V$. The last covariance matrix must be positive definite and usually is the identity matrix. In absence of covariates $X$, we can simply initialize by `vcdata = VarianceComponentVariate(Y, V)`."
   ]
  },
  {
   "cell_type": "code",
   "execution_count": 3,
   "metadata": {
    "collapsed": false
   },
   "outputs": [
    {
     "data": {
      "text/plain": [
       "3-element Array{Symbol,1}:\n",
       " :Y\n",
       " :X\n",
       " :V"
      ]
     },
     "execution_count": 3,
     "metadata": {},
     "output_type": "execute_result"
    }
   ],
   "source": [
    "vcdata = VarianceComponentVariate(Y, X, V)\n",
    "fieldnames(vcdata)"
   ]
  },
  {
   "cell_type": "code",
   "execution_count": 4,
   "metadata": {
    "collapsed": false
   },
   "outputs": [
    {
     "data": {
      "text/plain": [
       "VarianceComponentModels.VarianceComponentVariate{Float64,2,Array{Float64,2},Array{Float64,2},Array{Float64,2}}(1000x2 Array{Float64,2}:\n",
       "  4.44498     2.49669 \n",
       "  0.239013    5.78242 \n",
       " -7.89026    11.3229  \n",
       " -1.14952    -1.99452 \n",
       "  2.07618    -4.97312 \n",
       "  0.72998    -0.710448\n",
       "  4.31562    -1.13738 \n",
       " -9.52372     8.97905 \n",
       " -3.48908     6.85469 \n",
       " 14.5379    -29.2101  \n",
       "  4.21264    -6.69222 \n",
       "  2.17465    -7.16013 \n",
       " -0.484665   -3.31723 \n",
       "  ⋮                   \n",
       " -6.50965    -0.272068\n",
       "  9.63446   -11.2917  \n",
       "  3.9017    -10.4169  \n",
       " -1.87012     4.04243 \n",
       "  5.33523    -9.45383 \n",
       "  0.633076    3.54368 \n",
       " -2.41406     3.75242 \n",
       " -4.81822     5.10283 \n",
       "  3.93386     0.107781\n",
       "  4.4098     -9.14736 \n",
       " -5.17633     0.593472\n",
       " -4.90908    10.5114  ,1000x2 Array{Float64,2}:\n",
       "  1.19027      1.14112    \n",
       "  2.04818      0.597106   \n",
       "  1.14265     -1.30405    \n",
       "  0.459416    -1.2566     \n",
       " -0.396679    -0.706518   \n",
       " -0.664713     1.38036    \n",
       "  0.980968    -0.826625   \n",
       " -0.0754831    0.371915   \n",
       "  0.273815     0.292571   \n",
       " -0.194229    -1.39963    \n",
       " -0.339366     1.32415    \n",
       " -0.843878    -0.585232   \n",
       " -0.888936     0.378293   \n",
       "  ⋮                       \n",
       " -0.180166    -1.1144     \n",
       " -0.310036     0.822061   \n",
       " -0.638895    -0.746822   \n",
       "  0.457432     0.439673   \n",
       " -0.0864289   -0.40497    \n",
       "  1.21069      1.24328    \n",
       "  0.241134    -0.383338   \n",
       " -1.6429      -1.02578    \n",
       " -0.00522395  -1.31358    \n",
       " -1.23102      0.000636658\n",
       " -1.76795      0.1559     \n",
       "  0.318717    -0.171711   ,(\n",
       "1000x1000 Array{Float64,2}:\n",
       "  46.3516     4.10647     7.38716   …   -6.92359     0.14316    -5.45538 \n",
       "   4.10647   52.4695      0.613248      -1.14647    -6.51225    16.0359  \n",
       "   7.38716    0.613248   59.3269        -7.62362     8.74578    16.8891  \n",
       "  -7.72707   -6.24169    -2.97395        8.26545     4.09908   -18.23    \n",
       "  -3.52816   12.7825     -4.76008        2.18058     4.71507    -0.36662 \n",
       "  -2.65391    3.22143    -1.17715   …    4.37149     1.49963     9.03348 \n",
       "   6.62913    6.61362    -2.46472        5.09003    10.6334    -14.2233  \n",
       "   5.63461   13.0939      7.99774       -8.75613     2.14449    14.3995  \n",
       " -10.7456    -5.08074    -3.79318       -3.33845    -8.25867     2.21082 \n",
       "   1.89279   -5.28957    -0.520046       6.47719    -3.73908     1.84236 \n",
       "  -4.21945   -3.27506    -2.35665   …   -0.147375   -2.56117    -3.4099  \n",
       "  -2.42873   -3.49705    -8.62575        4.54415    17.8505      1.48253 \n",
       "   2.87307   -0.529141    3.47031       -0.913213   -7.63244    11.6473  \n",
       "   ⋮                                ⋱                                    \n",
       "  13.3606    -9.49796   -16.4189         2.98336   -14.1925     -0.871203\n",
       "  -1.97138    1.52676    -5.51615        8.57541    -6.44713    -8.96175 \n",
       "   1.24663   -6.03886   -16.0109    …   12.1321      0.973193   -6.45381 \n",
       "   2.65547    9.79976    -2.89327       10.8085    -13.6312      4.02269 \n",
       "  11.5795     4.71048    11.1335        -4.97014     4.55383    16.129   \n",
       "  -3.52273    1.32629     3.11329       -5.94992    15.92       -5.85175 \n",
       " -16.7163    -0.595927   -7.27226       12.9385    -13.2895     -1.87443 \n",
       "   0.215817   8.02949     6.30264   …   -1.84225    -1.02072    11.9298  \n",
       "   8.33945   -4.19861     5.60902      -23.5564      0.533446   19.3594  \n",
       "  -6.92359   -1.14647    -7.62362       46.963     -14.5806    -14.0524  \n",
       "   0.14316   -6.51225     8.74578      -14.5806     53.646       1.70191 \n",
       "  -5.45538   16.0359     16.8891       -14.0524      1.70191    46.3836  ,\n",
       "\n",
       "1000x1000 Array{Float64,2}:\n",
       " 1.0  0.0  0.0  0.0  0.0  0.0  0.0  0.0  …  0.0  0.0  0.0  0.0  0.0  0.0  0.0\n",
       " 0.0  1.0  0.0  0.0  0.0  0.0  0.0  0.0     0.0  0.0  0.0  0.0  0.0  0.0  0.0\n",
       " 0.0  0.0  1.0  0.0  0.0  0.0  0.0  0.0     0.0  0.0  0.0  0.0  0.0  0.0  0.0\n",
       " 0.0  0.0  0.0  1.0  0.0  0.0  0.0  0.0     0.0  0.0  0.0  0.0  0.0  0.0  0.0\n",
       " 0.0  0.0  0.0  0.0  1.0  0.0  0.0  0.0     0.0  0.0  0.0  0.0  0.0  0.0  0.0\n",
       " 0.0  0.0  0.0  0.0  0.0  1.0  0.0  0.0  …  0.0  0.0  0.0  0.0  0.0  0.0  0.0\n",
       " 0.0  0.0  0.0  0.0  0.0  0.0  1.0  0.0     0.0  0.0  0.0  0.0  0.0  0.0  0.0\n",
       " 0.0  0.0  0.0  0.0  0.0  0.0  0.0  1.0     0.0  0.0  0.0  0.0  0.0  0.0  0.0\n",
       " 0.0  0.0  0.0  0.0  0.0  0.0  0.0  0.0     0.0  0.0  0.0  0.0  0.0  0.0  0.0\n",
       " 0.0  0.0  0.0  0.0  0.0  0.0  0.0  0.0     0.0  0.0  0.0  0.0  0.0  0.0  0.0\n",
       " 0.0  0.0  0.0  0.0  0.0  0.0  0.0  0.0  …  0.0  0.0  0.0  0.0  0.0  0.0  0.0\n",
       " 0.0  0.0  0.0  0.0  0.0  0.0  0.0  0.0     0.0  0.0  0.0  0.0  0.0  0.0  0.0\n",
       " 0.0  0.0  0.0  0.0  0.0  0.0  0.0  0.0     0.0  0.0  0.0  0.0  0.0  0.0  0.0\n",
       " ⋮                        ⋮              ⋱            ⋮                      \n",
       " 0.0  0.0  0.0  0.0  0.0  0.0  0.0  0.0     0.0  0.0  0.0  0.0  0.0  0.0  0.0\n",
       " 0.0  0.0  0.0  0.0  0.0  0.0  0.0  0.0     0.0  0.0  0.0  0.0  0.0  0.0  0.0\n",
       " 0.0  0.0  0.0  0.0  0.0  0.0  0.0  0.0  …  0.0  0.0  0.0  0.0  0.0  0.0  0.0\n",
       " 0.0  0.0  0.0  0.0  0.0  0.0  0.0  0.0     0.0  0.0  0.0  0.0  0.0  0.0  0.0\n",
       " 0.0  0.0  0.0  0.0  0.0  0.0  0.0  0.0     0.0  0.0  0.0  0.0  0.0  0.0  0.0\n",
       " 0.0  0.0  0.0  0.0  0.0  0.0  0.0  0.0     1.0  0.0  0.0  0.0  0.0  0.0  0.0\n",
       " 0.0  0.0  0.0  0.0  0.0  0.0  0.0  0.0     0.0  1.0  0.0  0.0  0.0  0.0  0.0\n",
       " 0.0  0.0  0.0  0.0  0.0  0.0  0.0  0.0  …  0.0  0.0  1.0  0.0  0.0  0.0  0.0\n",
       " 0.0  0.0  0.0  0.0  0.0  0.0  0.0  0.0     0.0  0.0  0.0  1.0  0.0  0.0  0.0\n",
       " 0.0  0.0  0.0  0.0  0.0  0.0  0.0  0.0     0.0  0.0  0.0  0.0  1.0  0.0  0.0\n",
       " 0.0  0.0  0.0  0.0  0.0  0.0  0.0  0.0     0.0  0.0  0.0  0.0  0.0  1.0  0.0\n",
       " 0.0  0.0  0.0  0.0  0.0  0.0  0.0  0.0     0.0  0.0  0.0  0.0  0.0  0.0  1.0))"
      ]
     },
     "execution_count": 4,
     "metadata": {},
     "output_type": "execute_result"
    }
   ],
   "source": [
    "vcdata"
   ]
  },
  {
   "cell_type": "markdown",
   "metadata": {},
   "source": [
    "**Step 2**. Construct an instance of `VarianceComponentModel`, which initializes the mean parameters $B$ to be zero and the tuple of variance component parameters $\\Sigma$ to be `(eye(d),...,eye(d))`. "
   ]
  },
  {
   "cell_type": "code",
   "execution_count": 5,
   "metadata": {
    "collapsed": false
   },
   "outputs": [
    {
     "data": {
      "text/plain": [
       "2-element Array{Symbol,1}:\n",
       " :B\n",
       " :Σ"
      ]
     },
     "execution_count": 5,
     "metadata": {},
     "output_type": "execute_result"
    }
   ],
   "source": [
    "vcmodel = VarianceComponentModel(vcdata)\n",
    "fieldnames(vcmodel)"
   ]
  },
  {
   "cell_type": "code",
   "execution_count": 6,
   "metadata": {
    "collapsed": false
   },
   "outputs": [
    {
     "data": {
      "text/plain": [
       "VarianceComponentModels.VarianceComponentModel{Float64,2,Array{Float64,2},Array{Float64,2}}(2x2 Array{Float64,2}:\n",
       " 0.0  0.0\n",
       " 0.0  0.0,(\n",
       "2x2 Array{Float64,2}:\n",
       " 1.0  0.0\n",
       " 0.0  1.0,\n",
       "\n",
       "2x2 Array{Float64,2}:\n",
       " 1.0  0.0\n",
       " 0.0  1.0))"
      ]
     },
     "execution_count": 6,
     "metadata": {},
     "output_type": "execute_result"
    }
   ],
   "source": [
    "vcmodel"
   ]
  },
  {
   "cell_type": "markdown",
   "metadata": {},
   "source": [
    "When better initial guess is available, we can initialize by calling `vcmodel = VarianceComponentModel(B0, Σ0)` directly."
   ]
  },
  {
   "cell_type": "markdown",
   "metadata": {},
   "source": [
    "**Step 3**. Call optmization routine `fit_mle!`."
   ]
  },
  {
   "cell_type": "code",
   "execution_count": 7,
   "metadata": {
    "collapsed": false
   },
   "outputs": [
    {
     "name": "stdout",
     "output_type": "stream",
     "text": [
      "\n",
      "     MM Algorithm\n",
      "  Iter      Objective  \n",
      "--------  -------------\n",
      "       0  -7.348297e+03\n",
      "       1  -4.102367e+03\n",
      "       2  -3.745567e+03\n",
      "       3  -3.652392e+03\n",
      "       4  -3.627744e+03\n",
      "       5  -3.621170e+03\n",
      "       6  -3.619381e+03\n",
      "       7  -3.618878e+03\n",
      "       8  -3.618730e+03\n",
      "       9  -3.618684e+03\n",
      "      10  -3.618670e+03\n",
      "\n",
      "  7.866850 seconds (12.99 M allocations: 622.175 MB, 1.72% gc time)\n"
     ]
    }
   ],
   "source": [
    "vcmodel_mle = deepcopy(vcmodel)\n",
    "@time logl, vcmodel_mle, Σse, Σcov, Bse, Bcov = fit_mle!(vcmodel_mle, vcdata; algo = :MM);"
   ]
  },
  {
   "cell_type": "markdown",
   "metadata": {},
   "source": [
    "The output of `fit_mle!` contains:  \n",
    "* final log-likelihood  "
   ]
  },
  {
   "cell_type": "code",
   "execution_count": 8,
   "metadata": {
    "collapsed": false
   },
   "outputs": [
    {
     "data": {
      "text/plain": [
       "-3618.661776037447"
      ]
     },
     "execution_count": 8,
     "metadata": {},
     "output_type": "execute_result"
    }
   ],
   "source": [
    "logl"
   ]
  },
  {
   "cell_type": "markdown",
   "metadata": {},
   "source": [
    "* fitted model"
   ]
  },
  {
   "cell_type": "code",
   "execution_count": 9,
   "metadata": {
    "collapsed": false
   },
   "outputs": [
    {
     "data": {
      "text/plain": [
       "VarianceComponentModels.VarianceComponentModel{Float64,2,Array{Float64,2},Array{Float64,2}}(2x2 Array{Float64,2}:\n",
       " 1.14929   1.00139\n",
       " 0.924768  1.02485,(\n",
       "2x2 Array{Float64,2}:\n",
       "  0.302279  -0.478398\n",
       " -0.478398   0.803237,\n",
       "\n",
       "2x2 Array{Float64,2}:\n",
       "  5.86133   -0.586939\n",
       " -0.586939   0.586382))"
      ]
     },
     "execution_count": 9,
     "metadata": {},
     "output_type": "execute_result"
    }
   ],
   "source": [
    "vcmodel_mle"
   ]
  },
  {
   "cell_type": "markdown",
   "metadata": {},
   "source": [
    "* standard errors of the estimated varianec component parameters"
   ]
  },
  {
   "cell_type": "code",
   "execution_count": 10,
   "metadata": {
    "collapsed": false
   },
   "outputs": [
    {
     "data": {
      "text/plain": [
       "(\n",
       "2x2 Array{Float64,2}:\n",
       " 0.06167    0.0995727\n",
       " 0.0995727  0.16077  ,\n",
       "\n",
       "2x2 Array{Float64,2}:\n",
       " 0.268915  0.085063\n",
       " 0.085063  0.026905)"
      ]
     },
     "execution_count": 10,
     "metadata": {},
     "output_type": "execute_result"
    }
   ],
   "source": [
    "Σse"
   ]
  },
  {
   "cell_type": "markdown",
   "metadata": {},
   "source": [
    "* covariance matrix of the variance component parameters estimates"
   ]
  },
  {
   "cell_type": "code",
   "execution_count": 11,
   "metadata": {
    "collapsed": false
   },
   "outputs": [
    {
     "data": {
      "text/plain": [
       "8x8 Array{Float64,2}:\n",
       "  0.00380319  -0.00590812  -0.00590812  …   7.45979e-6   -7.52483e-7 \n",
       " -0.00590812   0.00991472   0.00917805     -7.52483e-7    7.55745e-7 \n",
       " -0.00590812   0.00917805   0.00991472     -7.49213e-6    7.55745e-7 \n",
       "  0.00917805  -0.0154021   -0.0154021       7.55745e-7   -7.59023e-7 \n",
       " -7.39532e-5   7.45979e-6   7.45979e-6     -0.00724213    0.000725236\n",
       "  7.45979e-6  -7.49213e-6  -7.52483e-7  …   0.000725236  -0.000724568\n",
       "  7.45979e-6  -7.52483e-7  -7.49213e-6      0.00723572   -0.000724568\n",
       " -7.52483e-7   7.55745e-7   7.55745e-7     -0.000724568   0.000723881"
      ]
     },
     "execution_count": 11,
     "metadata": {},
     "output_type": "execute_result"
    }
   ],
   "source": [
    "Σcov"
   ]
  },
  {
   "cell_type": "markdown",
   "metadata": {},
   "source": [
    "* standard errors of the estimated mean parameters"
   ]
  },
  {
   "cell_type": "code",
   "execution_count": 12,
   "metadata": {
    "collapsed": false
   },
   "outputs": [
    {
     "data": {
      "text/plain": [
       "2x2 Array{Float64,2}:\n",
       " 0.0760538  0.0251806\n",
       " 0.0769259  0.0252831"
      ]
     },
     "execution_count": 12,
     "metadata": {},
     "output_type": "execute_result"
    }
   ],
   "source": [
    "Bse"
   ]
  },
  {
   "cell_type": "markdown",
   "metadata": {},
   "source": [
    "* covariance matrix of the mean parameter estimates"
   ]
  },
  {
   "cell_type": "code",
   "execution_count": 13,
   "metadata": {
    "collapsed": false
   },
   "outputs": [
    {
     "data": {
      "text/plain": [
       "4x4 Array{Float64,2}:\n",
       "  0.00578418  -6.1406e-5    -0.00061133    3.61347e-6 \n",
       " -6.1406e-5    0.00591759    3.61347e-6   -0.000619951\n",
       " -0.00061133   3.61347e-6    0.000634064  -1.76949e-6 \n",
       "  3.61347e-6  -0.000619951  -1.76949e-6    0.000639237"
      ]
     },
     "execution_count": 13,
     "metadata": {},
     "output_type": "execute_result"
    }
   ],
   "source": [
    "Bcov"
   ]
  },
  {
   "cell_type": "markdown",
   "metadata": {},
   "source": [
    "## Restricted maximum likelihood estimation (REML)"
   ]
  },
  {
   "cell_type": "markdown",
   "metadata": {},
   "source": [
    "[REML (restricted maximum likelihood estimation)](https://en.wikipedia.org/wiki/Restricted_maximum_likelihood) is a popular alternative to the MLE. To find the REML of a variane component model, we replace the above step 3 by  "
   ]
  },
  {
   "cell_type": "markdown",
   "metadata": {},
   "source": [
    "**Step 3**. Call optmization routine `fit_reml!`."
   ]
  },
  {
   "cell_type": "code",
   "execution_count": 14,
   "metadata": {
    "collapsed": false
   },
   "outputs": [
    {
     "name": "stdout",
     "output_type": "stream",
     "text": [
      "\n",
      "     MM Algorithm\n",
      "  Iter      Objective  \n",
      "--------  -------------\n",
      "       0  -5.297304e+03\n",
      "       1  -3.954293e+03\n",
      "       2  -3.715870e+03\n",
      "       3  -3.663101e+03\n",
      "       4  -3.650121e+03\n",
      "       5  -3.646663e+03\n",
      "       6  -3.645672e+03\n",
      "       7  -3.645367e+03\n",
      "       8  -3.645268e+03\n",
      "       9  -3.645233e+03\n",
      "      10  -3.645221e+03\n",
      "\n",
      "  0.499879 seconds (767.13 k allocations: 44.538 MB, 1.83% gc time)\n"
     ]
    }
   ],
   "source": [
    "vcmodel_reml = deepcopy(vcmodel)\n",
    "@time logl, vcmodel_reml, Σse, Σcov, Bse, Bcov = fit_reml!(vcmodel_reml, vcdata; algo = :MM);"
   ]
  },
  {
   "cell_type": "markdown",
   "metadata": {},
   "source": [
    "The output of `fit_reml!` contains:"
   ]
  },
  {
   "cell_type": "markdown",
   "metadata": {},
   "source": [
    "* final log-likelihood at REML estimate"
   ]
  },
  {
   "cell_type": "code",
   "execution_count": 15,
   "metadata": {
    "collapsed": false
   },
   "outputs": [
    {
     "data": {
      "text/plain": [
       "-3622.050155483128"
      ]
     },
     "execution_count": 15,
     "metadata": {},
     "output_type": "execute_result"
    }
   ],
   "source": [
    "logl"
   ]
  },
  {
   "cell_type": "markdown",
   "metadata": {},
   "source": [
    "* REML estimates"
   ]
  },
  {
   "cell_type": "code",
   "execution_count": 16,
   "metadata": {
    "collapsed": false
   },
   "outputs": [
    {
     "data": {
      "text/plain": [
       "VarianceComponentModels.VarianceComponentModel{Float64,2,Array{Float64,2},Array{Float64,2}}(2x2 Array{Float64,2}:\n",
       " 1.08201  1.05525\n",
       " 0.90694  1.00679,(\n",
       "2x2 Array{Float64,2}:\n",
       "  0.301641  -0.477617\n",
       " -0.477617   0.802105,\n",
       "\n",
       "2x2 Array{Float64,2}:\n",
       "  5.88057   -0.610115\n",
       " -0.610115   0.61958 ))"
      ]
     },
     "execution_count": 16,
     "metadata": {},
     "output_type": "execute_result"
    }
   ],
   "source": [
    "vcmodel_reml"
   ]
  },
  {
   "cell_type": "markdown",
   "metadata": {},
   "source": [
    "* standard errors of the estimated varianec component parameters"
   ]
  },
  {
   "cell_type": "code",
   "execution_count": 17,
   "metadata": {
    "collapsed": false
   },
   "outputs": [
    {
     "data": {
      "text/plain": [
       "(\n",
       "2x2 Array{Float64,2}:\n",
       " 0.0615463  0.0994049\n",
       " 0.0994049  0.160551 ,\n",
       "\n",
       "2x2 Array{Float64,2}:\n",
       " 0.269798   0.0875812\n",
       " 0.0875812  0.0284283)"
      ]
     },
     "execution_count": 17,
     "metadata": {},
     "output_type": "execute_result"
    }
   ],
   "source": [
    "Σse"
   ]
  },
  {
   "cell_type": "markdown",
   "metadata": {},
   "source": [
    "* covariance matrix of the variance component parameters estimates"
   ]
  },
  {
   "cell_type": "code",
   "execution_count": 18,
   "metadata": {
    "collapsed": false
   },
   "outputs": [
    {
     "data": {
      "text/plain": [
       "8x8 Array{Float64,2}:\n",
       "  0.00378795  -0.00588696  -0.00588696  …   7.78026e-6   -8.13244e-7 \n",
       " -0.00588696   0.00988133   0.00914906     -8.13244e-7    8.30149e-7 \n",
       " -0.00588696   0.00914906   0.00988133     -7.94198e-6    8.30149e-7 \n",
       "  0.00914906  -0.0153568   -0.0153568       8.30149e-7   -8.47406e-7 \n",
       " -7.44333e-5   7.78026e-6   7.78026e-6     -0.00755281    0.000783641\n",
       "  7.78026e-6  -7.94198e-6  -8.13244e-7  …   0.000783641  -0.00079582 \n",
       "  7.78026e-6  -8.13244e-7  -7.94198e-6      0.00767047   -0.00079582 \n",
       " -8.13244e-7   8.30149e-7   8.30149e-7     -0.00079582    0.000808168"
      ]
     },
     "execution_count": 18,
     "metadata": {},
     "output_type": "execute_result"
    }
   ],
   "source": [
    "Σcov"
   ]
  },
  {
   "cell_type": "markdown",
   "metadata": {},
   "source": [
    "* standard errors of the estimated mean parameters"
   ]
  },
  {
   "cell_type": "code",
   "execution_count": 19,
   "metadata": {
    "collapsed": false
   },
   "outputs": [
    {
     "data": {
      "text/plain": [
       "2x2 Array{Float64,2}:\n",
       " 0.0761855  0.0258832\n",
       " 0.0770579  0.0259886"
      ]
     },
     "execution_count": 19,
     "metadata": {},
     "output_type": "execute_result"
    }
   ],
   "source": [
    "Bse"
   ]
  },
  {
   "cell_type": "markdown",
   "metadata": {},
   "source": [
    "* covariance matrix of the mean parameter estimates"
   ]
  },
  {
   "cell_type": "code",
   "execution_count": 20,
   "metadata": {
    "collapsed": false
   },
   "outputs": [
    {
     "data": {
      "text/plain": [
       "4x4 Array{Float64,2}:\n",
       "  0.00580423   -6.15234e-5   -0.000636032   3.71134e-6 \n",
       " -6.15234e-5    0.00593793    3.71134e-6   -0.000644911\n",
       " -0.000636032   3.71134e-6    0.000669939  -1.87083e-6 \n",
       "  3.71134e-6   -0.000644911  -1.87083e-6    0.00067541 "
      ]
     },
     "execution_count": 20,
     "metadata": {},
     "output_type": "execute_result"
    }
   ],
   "source": [
    "Bcov"
   ]
  },
  {
   "cell_type": "markdown",
   "metadata": {},
   "source": [
    "## Optimization algorithms"
   ]
  },
  {
   "cell_type": "markdown",
   "metadata": {},
   "source": [
    "Finding the MLE or REML of variance component models is a non-trivial nonlinear optimization problem, due to the non-convexity of objective function and the positive semi-definiteness constraint of variane component parameters $\\Sigma_1,\\ldots,\\Sigma_m$. Here are some details of the implementation. "
   ]
  },
  {
   "cell_type": "markdown",
   "metadata": {},
   "source": [
    "In general the optimization algorithm needs to invert the $nd$ by $nd$ overall covariance matrix $\\Omega = \\Sigma_1 \\otimes V_1 + \\cdots + \\Sigma_m \\otimes V_m$ in each iteration. Inverting a matrix is an expensive operation with $O(n^3 d^3)$ floating operations. When there are only **two** varianec components ($m=2$), this tedious task can be avoided by taking one (generalized) eigendecomposion of $(V_1, V_2)$ and rotating data $(Y, X)$ by the eigen-vectors. "
   ]
  },
  {
   "cell_type": "code",
   "execution_count": 21,
   "metadata": {
    "collapsed": false
   },
   "outputs": [
    {
     "data": {
      "text/plain": [
       "4-element Array{Symbol,1}:\n",
       " :Yrot    \n",
       " :Xrot    \n",
       " :eigval  \n",
       " :logdetV2"
      ]
     },
     "execution_count": 21,
     "metadata": {},
     "output_type": "execute_result"
    }
   ],
   "source": [
    "vcdatarot = TwoVarCompVariateRotate(vcdata)\n",
    "fieldnames(vcdatarot)"
   ]
  },
  {
   "cell_type": "markdown",
   "metadata": {},
   "source": [
    "Two optimization algorithms are implemented: Fisher scoring (function `mle_fs!`) and the [minorization-maximization (MM) algorithm](http://arxiv.org/abs/1509.07426) (function `mle_mm!`). Both take the rotated data as input. These two functions give finer control of the optimization algorithms. Generally speaking, MM algorithm is more stable while Fisher scoring (if converges) yields more accurate answer."
   ]
  },
  {
   "cell_type": "code",
   "execution_count": 22,
   "metadata": {
    "collapsed": false
   },
   "outputs": [
    {
     "name": "stdout",
     "output_type": "stream",
     "text": [
      "\n",
      "     MM Algorithm\n",
      "  Iter      Objective  \n",
      "--------  -------------\n",
      "       0  -7.348297e+03\n",
      "       1  -4.102367e+03\n",
      "       2  -3.745567e+03\n",
      "       3  -3.652392e+03\n",
      "       4  -3.627744e+03\n",
      "       5  -3.621170e+03\n",
      "       6  -3.619381e+03\n",
      "       7  -3.618878e+03\n",
      "       8  -3.618730e+03\n",
      "       9  -3.618684e+03\n",
      "      10  -3.618670e+03\n",
      "\n",
      "  0.164586 seconds (773.53 k allocations: 28.231 MB, 2.89% gc time)\n"
     ]
    },
    {
     "data": {
      "text/plain": [
       "VarianceComponentModels.VarianceComponentModel{Float64,2,Array{Float64,2},Array{Float64,2}}(2x2 Array{Float64,2}:\n",
       " 1.14929   1.00139\n",
       " 0.924768  1.02485,(\n",
       "2x2 Array{Float64,2}:\n",
       "  0.302279  -0.478398\n",
       " -0.478398   0.803237,\n",
       "\n",
       "2x2 Array{Float64,2}:\n",
       "  5.86133   -0.586939\n",
       " -0.586939   0.586382))"
      ]
     },
     "execution_count": 22,
     "metadata": {},
     "output_type": "execute_result"
    }
   ],
   "source": [
    "vcmodel_mm = deepcopy(vcmodel)\n",
    "@time mle_mm!(vcmodel_mm, vcdatarot; maxiter=10000, funtol=1e-8, verbose = true)\n",
    "vcmodel_mm"
   ]
  },
  {
   "cell_type": "markdown",
   "metadata": {},
   "source": [
    "Fisher scoring (function `mle_fs!`) uses either [Ipopt.jl](https://github.com/JuliaOpt/Ipopt.jl) (keyword `solver=:Ipopt`) or [KNITRO.jl](https://github.com/JuliaOpt/KNITRO.jl) (keyword `solver=:Knitro`) as the backend solver. In practice we find better performance of Knitro over Ipopt. However Knitro is a commercial software and users need to follow instructions at [KNITRO.jl](https://github.com/JuliaOpt/KNITRO.jl) for proper functioning. Ipopt is open source and installation of [Ipopt.jl](https://github.com/JuliaOpt/Ipopt.jl) package alone is sufficient."
   ]
  },
  {
   "cell_type": "code",
   "execution_count": 23,
   "metadata": {
    "collapsed": false
   },
   "outputs": [
    {
     "name": "stdout",
     "output_type": "stream",
     "text": [
      "\n",
      "Knitro 10.1.0 STUDENT LICENSE (problem size limit = 300)\n",
      "\n",
      "=======================================\n",
      "            Student License\n",
      "       (NOT FOR COMMERCIAL USE)\n",
      "         Artelys Knitro 10.1.0\n",
      "=======================================\n",
      "\n",
      "Knitro presolve eliminated 0 variables and 0 constraints.\n",
      "\n",
      "algorithm:            1\n",
      "The problem is identified as bound constrained only.\n",
      "Knitro changing bar_initpt from AUTO to 3.\n",
      "Knitro changing bar_murule from AUTO to 4.\n",
      "Knitro changing bar_penaltycons from AUTO to 1.\n",
      "Knitro changing bar_penaltyrule from AUTO to 2.\n",
      "Knitro changing bar_switchrule from AUTO to 1.\n",
      "Knitro changing linsolver from AUTO to 2.\n",
      "\n",
      "Problem Characteristics                    ( Presolved)\n",
      "-----------------------\n",
      "Objective goal:  Maximize\n",
      "Number of variables:                    10 (        10)\n",
      "    bounded below:                       4 (         4)\n",
      "    bounded above:                       0 (         0)\n",
      "    bounded below and above:             0 (         0)\n",
      "    fixed:                               0 (         0)\n",
      "    free:                                6 (         6)\n",
      "Number of constraints:                   0 (         0)\n",
      "    linear equalities:                   0 (         0)\n",
      "    nonlinear equalities:                0 (         0)\n",
      "    linear inequalities:                 0 (         0)\n",
      "    nonlinear inequalities:              0 (         0)\n",
      "    range:                               0 (         0)\n",
      "Number of nonzeros in Jacobian:          0 (         0)\n",
      "Number of nonzeros in Hessian:          31 (        31)\n",
      "\n",
      "  Iter      Objective      FeasError   OptError    ||Step||    CGits \n",
      "--------  --------------  ----------  ----------  ----------  -------\n",
      "       0   -7.348297e+03   0.000e+00\n",
      "      10   -3.618664e+03   0.000e+00   5.090e-02   4.431e-03        0\n",
      "      19   -3.618662e+03   0.000e+00   8.594e-07   7.268e-08        0\n",
      "\n",
      "EXIT: Locally optimal solution found.\n",
      "\n",
      "Final Statistics\n",
      "----------------\n",
      "Final objective value               =  -3.61866176676693e+03\n",
      "Final feasibility error (abs / rel) =   0.00e+00 / 0.00e+00\n",
      "Final optimality error  (abs / rel) =   8.59e-07 / 8.59e-07\n",
      "# of iterations                     =         19 \n",
      "# of CG iterations                  =          0 \n",
      "# of function evaluations           =         21\n",
      "# of gradient evaluations           =         21\n",
      "# of Hessian evaluations            =         19\n",
      "Total program time (secs)           =       7.09849 (     7.095 CPU time)\n",
      "Time spent in evaluations (secs)    =       0.51062\n",
      "\n",
      "===============================================================================\n",
      "\n",
      "  7.757678 seconds (15.44 M allocations: 942.958 MB, 2.61% gc time)\n"
     ]
    },
    {
     "name": "stderr",
     "output_type": "stream",
     "text": [
      "### Could not find a valid license.\n",
      "    Your machine ID is 1f-aa-f6-5b-46.\n",
      "    Please contact licensing@artelys.com or your local distributor to obtain a license.\n",
      "    If you already have a license, please execute `get_machine_ID -v` and send the output to support.\n"
     ]
    },
    {
     "data": {
      "text/plain": [
       "VarianceComponentModels.VarianceComponentModel{Float64,2,Array{Float64,2},Array{Float64,2}}(2x2 Array{Float64,2}:\n",
       " 1.14928   1.00139\n",
       " 0.924761  1.02485,(\n",
       "2x2 Array{Float64,2}:\n",
       "  0.30227   -0.478407\n",
       " -0.478407   0.803239,\n",
       "\n",
       "2x2 Array{Float64,2}:\n",
       "  5.86164   -0.586964\n",
       " -0.586964   0.586375))"
      ]
     },
     "execution_count": 23,
     "metadata": {},
     "output_type": "execute_result"
    }
   ],
   "source": [
    "vcmodel_fs = deepcopy(vcmodel)\n",
    "@time mle_fs!(vcmodel_fs, vcdatarot; solver=:Knitro, maxiter=1000, verbose=true)\n",
    "vcmodel_fs"
   ]
  },
  {
   "cell_type": "code",
   "execution_count": 24,
   "metadata": {
    "collapsed": false
   },
   "outputs": [
    {
     "name": "stdout",
     "output_type": "stream",
     "text": [
      "\n",
      "******************************************************************************\n",
      "This program contains Ipopt, a library for large-scale nonlinear optimization.\n",
      " Ipopt is released as open source code under the Eclipse Public License (EPL).\n",
      "         For more information visit http://projects.coin-or.org/Ipopt\n",
      "******************************************************************************\n",
      "\n",
      "This is Ipopt version 3.12.4, running with linear solver mumps.\n",
      "NOTE: Other linear solvers might be more efficient (see Ipopt documentation).\n",
      "\n",
      "Number of nonzeros in equality constraint Jacobian...:        0\n",
      "Number of nonzeros in inequality constraint Jacobian.:        0\n",
      "Number of nonzeros in Lagrangian Hessian.............:       31\n",
      "\n",
      "Total number of variables............................:       10\n",
      "                     variables with only lower bounds:        4\n",
      "                variables with lower and upper bounds:        0\n",
      "                     variables with only upper bounds:        0\n",
      "Total number of equality constraints.................:        0\n",
      "Total number of inequality constraints...............:        0\n",
      "        inequality constraints with only lower bounds:        0\n",
      "   inequality constraints with lower and upper bounds:        0\n",
      "        inequality constraints with only upper bounds:        0\n",
      "\n",
      "iter    objective    inf_pr   inf_du lg(mu)  ||d||  lg(rg) alpha_du alpha_pr  ls\n",
      "   0  7.3482967e+03 0.00e+00 1.01e+02  -1.0 0.00e+00    -  0.00e+00 0.00e+00   0 \n",
      "   5  3.6455445e+03 0.00e+00 1.63e+00  -1.0 1.13e-01    -  1.00e+00 1.00e+00f  1 \n",
      "  10  3.6335996e+03 0.00e+00 1.64e+00  -1.0 6.68e-02    -  1.00e+00 5.82e-11f 35 \n",
      "  15  3.6335996e+03 0.00e+00 1.64e+00  -1.0 6.70e-02    -  1.00e+00 7.28e-12f 38 \n",
      "  20  3.6339164e+03 0.00e+00 1.61e+00  -1.0 6.70e-02    -  1.00e+00 1.00e+00w  1 \n",
      "  25  3.6335996e+03 0.00e+00 1.64e+00  -1.0 6.70e-02    -  1.00e+00 3.64e-12f 39 \n",
      "  30  3.6335996e+03 0.00e+00 1.64e+00  -1.0 6.70e-02    -  1.00e+00 7.28e-12f 38 \n",
      "  35  3.6357722e+03 0.00e+00 1.58e+00  -1.0 6.53e-02    -  1.00e+00 1.00e+00w  1 \n",
      "  40  3.6335996e+03 0.00e+00 1.64e+00  -1.0 6.70e-02    -  1.00e+00 5.82e-11f 35 \n",
      "  45  3.6335996e+03 0.00e+00 1.64e+00  -1.0 6.70e-02    -  1.00e+00 5.82e-11f 35 \n",
      "iter    objective    inf_pr   inf_du lg(mu)  ||d||  lg(rg) alpha_du alpha_pr  ls\n",
      "  50  3.6335996e+03 0.00e+00 1.64e+00  -1.0 6.70e-02    -  1.00e+00 2.91e-11f 36 \n",
      "  55  3.6335996e+03 0.00e+00 1.64e+00  -1.0 6.70e-02    -  1.00e+00 1.46e-11f 37 \n",
      "  60  3.6346781e+03 0.00e+00 1.59e+00  -1.0 6.56e-02    -  1.00e+00 1.00e+00w  1 \n",
      "  65  3.6335996e+03 0.00e+00 1.64e+00  -1.0 6.70e-02    -  1.00e+00 2.91e-11f 36 \n",
      "  70  3.6335996e+03 0.00e+00 1.64e+00  -1.0 6.70e-02    -  1.00e+00 2.91e-11f 36 \n",
      "  75  3.6335996e+03 0.00e+00 1.64e+00  -1.0 6.57e-02    -  1.00e+00 2.91e-11f 35 w\n",
      "  80  3.6335996e+03 0.00e+00 1.64e+00  -1.0 6.70e-02    -  1.00e+00 5.82e-11f 35 \n",
      "  85  3.6339164e+03 0.00e+00 1.61e+00  -1.0 6.70e-02    -  1.00e+00 1.00e+00w  1 \n",
      "  90  3.6335996e+03 0.00e+00 1.64e+00  -1.0 6.70e-02    -  1.00e+00 1.46e-11f 37 \n",
      "  95  3.6335996e+03 0.00e+00 1.64e+00  -1.0 6.70e-02    -  1.00e+00 1.46e-11f 37 \n",
      "iter    objective    inf_pr   inf_du lg(mu)  ||d||  lg(rg) alpha_du alpha_pr  ls\n",
      " 100  3.6357722e+03 0.00e+00 1.58e+00  -1.0 6.53e-02    -  1.00e+00 1.00e+00w  1 \n",
      " 105  3.6335996e+03 0.00e+00 1.64e+00  -1.0 6.70e-02    -  1.00e+00 1.46e-11f 37 \n",
      " 110  3.6335996e+03 0.00e+00 1.64e+00  -1.0 6.70e-02    -  1.00e+00 1.46e-11f 37 \n",
      " 115  3.6335996e+03 0.00e+00 1.64e+00  -1.0 6.70e-02    -  1.00e+00 2.91e-11f 36 \n",
      " 120  3.6335996e+03 0.00e+00 1.64e+00  -1.0 6.70e-02    -  1.00e+00 5.82e-11f 35 \n",
      " 125  3.6346781e+03 0.00e+00 1.59e+00  -1.0 6.56e-02    -  1.00e+00 1.00e+00w  1 \n",
      " 130  3.6335996e+03 0.00e+00 1.64e+00  -1.0 6.70e-02    -  1.00e+00 3.64e-12f 39 \n",
      " 135  3.6335996e+03 0.00e+00 1.64e+00  -1.0 6.70e-02    -  1.00e+00 2.91e-11f 36 \n",
      " 140  3.6335996e+03 0.00e+00 1.64e+00  -1.0 6.57e-02    -  1.00e+00 1.16e-10f 33 w\n",
      " 145  3.6335996e+03 0.00e+00 1.64e+00  -1.0 6.70e-02    -  1.00e+00 1.46e-11f 37 \n",
      "iter    objective    inf_pr   inf_du lg(mu)  ||d||  lg(rg) alpha_du alpha_pr  ls\n",
      " 150  3.6339164e+03 0.00e+00 1.61e+00  -1.0 6.70e-02    -  1.00e+00 1.00e+00w  1 \n",
      " 155  3.6335996e+03 0.00e+00 1.64e+00  -1.0 6.70e-02    -  1.00e+00 2.91e-11f 36 \n",
      " 160  3.6335996e+03 0.00e+00 1.64e+00  -1.0 6.70e-02    -  1.00e+00 5.82e-11f 35 \n",
      " 165  3.6357722e+03 0.00e+00 1.58e+00  -1.0 6.53e-02    -  1.00e+00 1.00e+00w  1 \n",
      " 170  3.6335996e+03 0.00e+00 1.64e+00  -1.0 6.70e-02    -  1.00e+00 2.91e-11f 36 \n",
      " 175  3.6335996e+03 0.00e+00 1.64e+00  -1.0 6.70e-02    -  1.00e+00 5.82e-11f 35 \n",
      " 180  3.6335996e+03 0.00e+00 1.64e+00  -1.0 6.70e-02    -  1.00e+00 2.91e-11f 36 \n",
      " 185  3.6335996e+03 0.00e+00 1.64e+00  -1.0 6.70e-02    -  1.00e+00 5.82e-11f 35 \n",
      " 190  3.6346781e+03 0.00e+00 1.59e+00  -1.0 6.56e-02    -  1.00e+00 1.00e+00w  1 \n",
      " 195  3.6335996e+03 0.00e+00 1.64e+00  -1.0 6.70e-02    -  1.00e+00 1.16e-10f 34 \n",
      "iter    objective    inf_pr   inf_du lg(mu)  ||d||  lg(rg) alpha_du alpha_pr  ls\n",
      " 200  3.6335996e+03 0.00e+00 1.64e+00  -1.0 6.70e-02    -  1.00e+00 1.46e-11f 37 \n",
      " 205  3.6335996e+03 0.00e+00 1.64e+00  -1.0 6.57e-02    -  1.00e+00 2.91e-11f 35 w\n",
      " 210  3.6335996e+03 0.00e+00 1.64e+00  -1.0 6.70e-02    -  1.00e+00 2.91e-11f 36 \n",
      " 215  3.6339164e+03 0.00e+00 1.61e+00  -1.0 6.70e-02    -  1.00e+00 1.00e+00w  1 \n",
      " 220  3.6335996e+03 0.00e+00 1.64e+00  -1.0 6.70e-02    -  1.00e+00 2.91e-11f 36 \n",
      " 225  3.6335996e+03 0.00e+00 1.64e+00  -1.0 6.70e-02    -  1.00e+00 5.82e-11f 35 \n",
      " 230  3.6357722e+03 0.00e+00 1.58e+00  -1.0 6.53e-02    -  1.00e+00 1.00e+00w  1 \n",
      " 235  3.6335996e+03 0.00e+00 1.64e+00  -1.0 6.70e-02    -  1.00e+00 5.82e-11f 35 \n",
      " 240  3.6335996e+03 0.00e+00 1.64e+00  -1.0 6.70e-02    -  1.00e+00 1.46e-11f 37 \n",
      " 245  3.6335996e+03 0.00e+00 1.64e+00  -1.0 6.70e-02    -  1.00e+00 2.91e-11f 36 \n",
      "iter    objective    inf_pr   inf_du lg(mu)  ||d||  lg(rg) alpha_du alpha_pr  ls\n",
      " 250  3.6335996e+03 0.00e+00 1.64e+00  -1.0 6.70e-02    -  1.00e+00 5.82e-11f 35 \n",
      " 255  3.6346781e+03 0.00e+00 1.59e+00  -1.0 6.56e-02    -  1.00e+00 1.00e+00w  1 \n",
      " 260  3.6335996e+03 0.00e+00 1.64e+00  -1.0 6.70e-02    -  1.00e+00 2.91e-11f 36 \n",
      " 265  3.6335996e+03 0.00e+00 1.64e+00  -1.0 6.70e-02    -  1.00e+00 2.91e-11f 36 \n",
      " 270  3.6335996e+03 0.00e+00 1.64e+00  -1.0 6.57e-02    -  1.00e+00 5.82e-11f 34 w\n",
      " 275  3.6335996e+03 0.00e+00 1.64e+00  -1.0 6.70e-02    -  1.00e+00 5.82e-11f 35 \n",
      " 280  3.6339164e+03 0.00e+00 1.61e+00  -1.0 6.70e-02    -  1.00e+00 1.00e+00w  1 \n",
      " 285  3.6335996e+03 0.00e+00 1.64e+00  -1.0 6.70e-02    -  1.00e+00 7.28e-12f 38 \n",
      " 290  3.6335996e+03 0.00e+00 1.64e+00  -1.0 6.70e-02    -  1.00e+00 7.28e-12f 38 \n",
      " 295  3.6357722e+03 0.00e+00 1.58e+00  -1.0 6.53e-02    -  1.00e+00 1.00e+00w  1 \n",
      "iter    objective    inf_pr   inf_du lg(mu)  ||d||  lg(rg) alpha_du alpha_pr  ls\n",
      " 300  3.6335996e+03 0.00e+00 1.64e+00  -1.0 6.70e-02    -  1.00e+00 5.82e-11f 35 \n",
      " 305  3.6335996e+03 0.00e+00 1.64e+00  -1.0 6.70e-02    -  1.00e+00 1.16e-10f 34 \n",
      " 310  3.6335996e+03 0.00e+00 1.64e+00  -1.0 6.70e-02    -  1.00e+00 1.46e-11f 37 \n",
      " 315  3.6335996e+03 0.00e+00 1.64e+00  -1.0 6.70e-02    -  1.00e+00 1.46e-11f 37 \n",
      " 320  3.6346781e+03 0.00e+00 1.59e+00  -1.0 6.56e-02    -  1.00e+00 1.00e+00w  1 \n",
      " 325  3.6335996e+03 0.00e+00 1.64e+00  -1.0 6.70e-02    -  1.00e+00 2.91e-11f 36 \n",
      " 330  3.6335996e+03 0.00e+00 1.64e+00  -1.0 6.70e-02    -  1.00e+00 5.82e-11f 35 \n",
      " 335  3.6335996e+03 0.00e+00 1.64e+00  -1.0 6.57e-02    -  1.00e+00 2.91e-11f 35 w\n",
      " 340  3.6335996e+03 0.00e+00 1.64e+00  -1.0 6.70e-02    -  1.00e+00 1.46e-11f 37 \n",
      " 345  3.6339164e+03 0.00e+00 1.61e+00  -1.0 6.70e-02    -  1.00e+00 1.00e+00w  1 \n",
      "iter    objective    inf_pr   inf_du lg(mu)  ||d||  lg(rg) alpha_du alpha_pr  ls\n",
      " 350  3.6335996e+03 0.00e+00 1.64e+00  -1.0 6.70e-02    -  1.00e+00 1.46e-11f 37 \n",
      " 355  3.6335996e+03 0.00e+00 1.64e+00  -1.0 6.70e-02    -  1.00e+00 1.46e-11f 37 \n",
      " 360  3.6357722e+03 0.00e+00 1.58e+00  -1.0 6.53e-02    -  1.00e+00 1.00e+00w  1 \n",
      " 365  3.6335996e+03 0.00e+00 1.64e+00  -1.0 6.70e-02    -  1.00e+00 7.28e-12f 38 \n",
      " 370  3.6335996e+03 0.00e+00 1.64e+00  -1.0 6.70e-02    -  1.00e+00 2.91e-11f 36 \n",
      " 375  3.6335996e+03 0.00e+00 1.64e+00  -1.0 6.70e-02    -  1.00e+00 5.82e-11f 35 \n",
      " 380  3.6335996e+03 0.00e+00 1.64e+00  -1.0 6.70e-02    -  1.00e+00 5.82e-11f 35 \n",
      " 385  3.6346781e+03 0.00e+00 1.59e+00  -1.0 6.56e-02    -  1.00e+00 1.00e+00w  1 \n",
      " 390  3.6335996e+03 0.00e+00 1.64e+00  -1.0 6.70e-02    -  1.00e+00 1.46e-11f 37 \n",
      " 395  3.6335996e+03 0.00e+00 1.64e+00  -1.0 6.70e-02    -  1.00e+00 2.91e-11f 36 \n",
      "iter    objective    inf_pr   inf_du lg(mu)  ||d||  lg(rg) alpha_du alpha_pr  ls\n",
      " 400  3.6335996e+03 0.00e+00 1.64e+00  -1.0 6.57e-02    -  1.00e+00 2.91e-11f 35 w\n",
      " 405  3.6335996e+03 0.00e+00 1.64e+00  -1.0 6.70e-02    -  1.00e+00 5.82e-11f 35 \n",
      " 410  3.6339164e+03 0.00e+00 1.61e+00  -1.0 6.70e-02    -  1.00e+00 1.00e+00w  1 \n",
      " 415  3.6335996e+03 0.00e+00 1.64e+00  -1.0 6.70e-02    -  1.00e+00 1.46e-11f 37 \n",
      " 420  3.6335996e+03 0.00e+00 1.64e+00  -1.0 6.70e-02    -  1.00e+00 5.82e-11f 35 \n",
      " 425  3.6357722e+03 0.00e+00 1.58e+00  -1.0 6.53e-02    -  1.00e+00 1.00e+00w  1 \n",
      " 430  3.6335996e+03 0.00e+00 1.64e+00  -1.0 6.70e-02    -  1.00e+00 5.82e-11f 35 \n",
      " 435  3.6335996e+03 0.00e+00 1.64e+00  -1.0 6.70e-02    -  1.00e+00 2.91e-11f 36 \n",
      " 440  3.6335996e+03 0.00e+00 1.64e+00  -1.0 6.70e-02    -  1.00e+00 5.82e-11f 35 \n",
      " 445  3.6335996e+03 0.00e+00 1.64e+00  -1.0 6.70e-02    -  1.00e+00 5.82e-11f 35 \n",
      "iter    objective    inf_pr   inf_du lg(mu)  ||d||  lg(rg) alpha_du alpha_pr  ls\n",
      " 450  3.6346781e+03 0.00e+00 1.59e+00  -1.0 6.56e-02    -  1.00e+00 1.00e+00w  1 \n",
      " 455  3.6335996e+03 0.00e+00 1.64e+00  -1.0 6.70e-02    -  1.00e+00 5.82e-11f 35 \n",
      " 460  3.6335996e+03 0.00e+00 1.64e+00  -1.0 6.70e-02    -  1.00e+00 2.91e-11f 36 \n",
      " 465  3.6335996e+03 0.00e+00 1.64e+00  -1.0 6.57e-02    -  1.00e+00 1.46e-11f 36 w\n",
      " 470  3.6335996e+03 0.00e+00 1.64e+00  -1.0 6.70e-02    -  1.00e+00 1.46e-11f 37 \n",
      " 475  3.6339164e+03 0.00e+00 1.61e+00  -1.0 6.70e-02    -  1.00e+00 1.00e+00w  1 \n",
      " 480  3.6335996e+03 0.00e+00 1.64e+00  -1.0 6.70e-02    -  1.00e+00 5.82e-11f 35 \n",
      " 485  3.6335996e+03 0.00e+00 1.64e+00  -1.0 6.70e-02    -  1.00e+00 2.91e-11f 36 \n",
      " 490  3.6357722e+03 0.00e+00 1.58e+00  -1.0 6.53e-02    -  1.00e+00 1.00e+00w  1 \n",
      " 495  3.6335996e+03 0.00e+00 1.64e+00  -1.0 6.70e-02    -  1.00e+00 5.82e-11f 35 \n",
      "iter    objective    inf_pr   inf_du lg(mu)  ||d||  lg(rg) alpha_du alpha_pr  ls\n",
      " 500  3.6335996e+03 0.00e+00 1.64e+00  -1.0 6.70e-02    -  1.00e+00 2.91e-11f 36 \n",
      " 505  3.6335996e+03 0.00e+00 1.64e+00  -1.0 6.70e-02    -  1.00e+00 5.82e-11f 35 \n",
      " 510  3.6335996e+03 0.00e+00 1.64e+00  -1.0 6.70e-02    -  1.00e+00 1.46e-11f 37 \n",
      " 515  3.6346781e+03 0.00e+00 1.59e+00  -1.0 6.56e-02    -  1.00e+00 1.00e+00w  1 \n",
      " 520  3.6335996e+03 0.00e+00 1.64e+00  -1.0 6.70e-02    -  1.00e+00 3.64e-12f 39 \n",
      " 525  3.6335996e+03 0.00e+00 1.64e+00  -1.0 6.70e-02    -  1.00e+00 5.82e-11f 35 \n",
      " 530  3.6335996e+03 0.00e+00 1.64e+00  -1.0 6.57e-02    -  1.00e+00 1.46e-11f 36 w\n",
      " 535  3.6335996e+03 0.00e+00 1.64e+00  -1.0 6.70e-02    -  1.00e+00 2.91e-11f 36 \n",
      " 540  3.6339164e+03 0.00e+00 1.61e+00  -1.0 6.70e-02    -  1.00e+00 1.00e+00w  1 \n",
      " 545  3.6335996e+03 0.00e+00 1.64e+00  -1.0 6.70e-02    -  1.00e+00 5.82e-11f 35 \n",
      "iter    objective    inf_pr   inf_du lg(mu)  ||d||  lg(rg) alpha_du alpha_pr  ls\n",
      " 550  3.6335996e+03 0.00e+00 1.64e+00  -1.0 6.70e-02    -  1.00e+00 1.46e-11f 37 \n",
      " 555  3.6357722e+03 0.00e+00 1.58e+00  -1.0 6.53e-02    -  1.00e+00 1.00e+00w  1 \n",
      " 560  3.6335996e+03 0.00e+00 1.64e+00  -1.0 6.70e-02    -  1.00e+00 5.82e-11f 35 \n",
      " 565  3.6335996e+03 0.00e+00 1.64e+00  -1.0 6.70e-02    -  1.00e+00 5.82e-11f 35 \n",
      " 570  3.6335996e+03 0.00e+00 1.64e+00  -1.0 6.70e-02    -  1.00e+00 5.82e-11f 35 \n",
      " 575  3.6335996e+03 0.00e+00 1.64e+00  -1.0 6.70e-02    -  1.00e+00 2.91e-11f 36 \n",
      " 580  3.6346781e+03 0.00e+00 1.59e+00  -1.0 6.56e-02    -  1.00e+00 1.00e+00w  1 \n",
      " 585  3.6335996e+03 0.00e+00 1.64e+00  -1.0 6.70e-02    -  1.00e+00 2.91e-11f 36 \n",
      " 590  3.6335996e+03 0.00e+00 1.64e+00  -1.0 6.70e-02    -  1.00e+00 5.82e-11f 35 \n",
      " 595  3.6335996e+03 0.00e+00 1.64e+00  -1.0 6.57e-02    -  1.00e+00 1.46e-11f 36 w\n",
      "iter    objective    inf_pr   inf_du lg(mu)  ||d||  lg(rg) alpha_du alpha_pr  ls\n",
      " 600  3.6335996e+03 0.00e+00 1.64e+00  -1.0 6.70e-02    -  1.00e+00 1.46e-11f 37 \n",
      " 605  3.6339164e+03 0.00e+00 1.61e+00  -1.0 6.70e-02    -  1.00e+00 1.00e+00w  1 \n",
      " 610  3.6335996e+03 0.00e+00 1.64e+00  -1.0 6.70e-02    -  1.00e+00 1.46e-11f 37 \n",
      " 615  3.6335996e+03 0.00e+00 1.64e+00  -1.0 6.70e-02    -  1.00e+00 7.28e-12f 38 \n",
      " 620  3.6357722e+03 0.00e+00 1.58e+00  -1.0 6.53e-02    -  1.00e+00 1.00e+00w  1 \n",
      " 625  3.6335996e+03 0.00e+00 1.64e+00  -1.0 6.70e-02    -  1.00e+00 1.46e-11f 37 \n",
      " 630  3.6335996e+03 0.00e+00 1.64e+00  -1.0 6.70e-02    -  1.00e+00 2.91e-11f 36 \n",
      " 635  3.6335996e+03 0.00e+00 1.64e+00  -1.0 6.70e-02    -  1.00e+00 5.82e-11f 35 \n",
      " 640  3.6335996e+03 0.00e+00 1.64e+00  -1.0 6.70e-02    -  1.00e+00 1.46e-11f 37 \n",
      " 645  3.6346781e+03 0.00e+00 1.59e+00  -1.0 6.56e-02    -  1.00e+00 1.00e+00w  1 \n",
      "iter    objective    inf_pr   inf_du lg(mu)  ||d||  lg(rg) alpha_du alpha_pr  ls\n",
      " 650  3.6335996e+03 0.00e+00 1.64e+00  -1.0 6.70e-02    -  1.00e+00 7.28e-12f 38 \n",
      " 655  3.6335996e+03 0.00e+00 1.64e+00  -1.0 6.70e-02    -  1.00e+00 1.46e-11f 37 \n",
      " 660  3.6335996e+03 0.00e+00 1.64e+00  -1.0 6.57e-02    -  1.00e+00 3.64e-12f 38 w\n",
      " 665  3.6335996e+03 0.00e+00 1.64e+00  -1.0 6.70e-02    -  1.00e+00 5.82e-11f 35 \n",
      " 670  3.6339164e+03 0.00e+00 1.61e+00  -1.0 6.70e-02    -  1.00e+00 1.00e+00w  1 \n",
      " 675  3.6335996e+03 0.00e+00 1.64e+00  -1.0 6.70e-02    -  1.00e+00 1.46e-11f 37 \n",
      " 680  3.6335996e+03 0.00e+00 1.64e+00  -1.0 6.70e-02    -  1.00e+00 5.82e-11f 35 \n",
      " 685  3.6357722e+03 0.00e+00 1.58e+00  -1.0 6.53e-02    -  1.00e+00 1.00e+00w  1 \n",
      " 690  3.6335996e+03 0.00e+00 1.64e+00  -1.0 6.70e-02    -  1.00e+00 1.16e-10f 34 \n",
      " 695  3.6335996e+03 0.00e+00 1.64e+00  -1.0 6.70e-02    -  1.00e+00 5.82e-11f 35 \n",
      "iter    objective    inf_pr   inf_du lg(mu)  ||d||  lg(rg) alpha_du alpha_pr  ls\n",
      " 700  3.6335996e+03 0.00e+00 1.64e+00  -1.0 6.70e-02    -  1.00e+00 5.82e-11f 35 \n",
      " 705  3.6335996e+03 0.00e+00 1.64e+00  -1.0 6.70e-02    -  1.00e+00 1.46e-11f 37 \n",
      " 710  3.6346781e+03 0.00e+00 1.59e+00  -1.0 6.56e-02    -  1.00e+00 1.00e+00w  1 \n",
      " 715  3.6335996e+03 0.00e+00 1.64e+00  -1.0 6.70e-02    -  1.00e+00 1.16e-10f 34 \n",
      " 720  3.6335996e+03 0.00e+00 1.64e+00  -1.0 6.70e-02    -  1.00e+00 5.82e-11f 35 \n",
      " 725  3.6335996e+03 0.00e+00 1.64e+00  -1.0 6.57e-02    -  1.00e+00 1.46e-11f 36 w\n",
      " 730  3.6335996e+03 0.00e+00 1.64e+00  -1.0 6.70e-02    -  1.00e+00 1.46e-11f 37 \n",
      " 735  3.6339164e+03 0.00e+00 1.61e+00  -1.0 6.70e-02    -  1.00e+00 1.00e+00w  1 \n",
      " 740  3.6335996e+03 0.00e+00 1.64e+00  -1.0 6.70e-02    -  1.00e+00 2.91e-11f 36 \n",
      " 745  3.6335996e+03 0.00e+00 1.64e+00  -1.0 6.70e-02    -  1.00e+00 1.46e-11f 37 \n",
      "iter    objective    inf_pr   inf_du lg(mu)  ||d||  lg(rg) alpha_du alpha_pr  ls\n",
      " 750  3.6357722e+03 0.00e+00 1.58e+00  -1.0 6.53e-02    -  1.00e+00 1.00e+00w  1 \n",
      " 755  3.6335996e+03 0.00e+00 1.64e+00  -1.0 6.70e-02    -  1.00e+00 2.91e-11f 36 \n",
      " 760  3.6335996e+03 0.00e+00 1.64e+00  -1.0 6.70e-02    -  1.00e+00 2.91e-11f 36 \n",
      " 765  3.6335996e+03 0.00e+00 1.64e+00  -1.0 6.70e-02    -  1.00e+00 2.91e-11f 36 \n",
      " 770  3.6335996e+03 0.00e+00 1.64e+00  -1.0 6.70e-02    -  1.00e+00 1.46e-11f 37 \n",
      " 775  3.6346781e+03 0.00e+00 1.59e+00  -1.0 6.56e-02    -  1.00e+00 1.00e+00w  1 \n",
      " 780  3.6335996e+03 0.00e+00 1.64e+00  -1.0 6.70e-02    -  1.00e+00 1.46e-11f 37 \n",
      " 785  3.6335996e+03 0.00e+00 1.64e+00  -1.0 6.70e-02    -  1.00e+00 1.46e-11f 37 \n",
      " 790  3.6335996e+03 0.00e+00 1.64e+00  -1.0 6.57e-02    -  1.00e+00 5.82e-11f 34 w\n",
      " 795  3.6335996e+03 0.00e+00 1.64e+00  -1.0 6.70e-02    -  1.00e+00 2.91e-11f 36 \n",
      "iter    objective    inf_pr   inf_du lg(mu)  ||d||  lg(rg) alpha_du alpha_pr  ls\n",
      " 800  3.6339164e+03 0.00e+00 1.61e+00  -1.0 6.70e-02    -  1.00e+00 1.00e+00w  1 \n",
      " 805  3.6335996e+03 0.00e+00 1.64e+00  -1.0 6.70e-02    -  1.00e+00 3.64e-12f 39 \n",
      " 810  3.6335996e+03 0.00e+00 1.64e+00  -1.0 6.70e-02    -  1.00e+00 5.82e-11f 35 \n",
      " 815  3.6357722e+03 0.00e+00 1.58e+00  -1.0 6.53e-02    -  1.00e+00 1.00e+00w  1 \n",
      " 820  3.6335996e+03 0.00e+00 1.64e+00  -1.0 6.70e-02    -  1.00e+00 5.82e-11f 35 \n",
      " 825  3.6335996e+03 0.00e+00 1.64e+00  -1.0 6.70e-02    -  1.00e+00 5.82e-11f 35 \n",
      " 830  3.6335996e+03 0.00e+00 1.64e+00  -1.0 6.70e-02    -  1.00e+00 2.91e-11f 36 \n",
      " 835  3.6335996e+03 0.00e+00 1.64e+00  -1.0 6.70e-02    -  1.00e+00 2.91e-11f 36 \n",
      " 840  3.6346781e+03 0.00e+00 1.59e+00  -1.0 6.56e-02    -  1.00e+00 1.00e+00w  1 \n",
      " 845  3.6335996e+03 0.00e+00 1.64e+00  -1.0 6.70e-02    -  1.00e+00 2.91e-11f 36 \n",
      "iter    objective    inf_pr   inf_du lg(mu)  ||d||  lg(rg) alpha_du alpha_pr  ls\n",
      " 850  3.6335996e+03 0.00e+00 1.64e+00  -1.0 6.70e-02    -  1.00e+00 1.46e-11f 37 \n",
      " 855  3.6335996e+03 0.00e+00 1.64e+00  -1.0 6.57e-02    -  1.00e+00 1.46e-11f 36 w\n",
      " 860  3.6335996e+03 0.00e+00 1.64e+00  -1.0 6.70e-02    -  1.00e+00 7.28e-12f 38 \n",
      " 865  3.6339164e+03 0.00e+00 1.61e+00  -1.0 6.70e-02    -  1.00e+00 1.00e+00w  1 \n",
      " 870  3.6335996e+03 0.00e+00 1.64e+00  -1.0 6.70e-02    -  1.00e+00 1.16e-10f 34 \n",
      " 875  3.6335996e+03 0.00e+00 1.64e+00  -1.0 6.70e-02    -  1.00e+00 5.82e-11f 35 \n",
      " 880  3.6357722e+03 0.00e+00 1.58e+00  -1.0 6.53e-02    -  1.00e+00 1.00e+00w  1 \n",
      " 885  3.6335996e+03 0.00e+00 1.64e+00  -1.0 6.70e-02    -  1.00e+00 5.82e-11f 35 \n",
      " 890  3.6335996e+03 0.00e+00 1.64e+00  -1.0 6.70e-02    -  1.00e+00 1.46e-11f 37 \n",
      " 895  3.6335996e+03 0.00e+00 1.64e+00  -1.0 6.70e-02    -  1.00e+00 5.82e-11f 35 \n",
      "iter    objective    inf_pr   inf_du lg(mu)  ||d||  lg(rg) alpha_du alpha_pr  ls\n",
      " 900  3.6335996e+03 0.00e+00 1.64e+00  -1.0 6.70e-02    -  1.00e+00 1.16e-10f 34 \n",
      " 905  3.6346781e+03 0.00e+00 1.59e+00  -1.0 6.56e-02    -  1.00e+00 1.00e+00w  1 \n",
      " 910  3.6335996e+03 0.00e+00 1.64e+00  -1.0 6.70e-02    -  1.00e+00 5.82e-11f 35 \n",
      " 915  3.6335996e+03 0.00e+00 1.64e+00  -1.0 6.70e-02    -  1.00e+00 2.91e-11f 36 \n",
      " 920  3.6335996e+03 0.00e+00 1.64e+00  -1.0 6.57e-02    -  1.00e+00 5.82e-11f 34 w\n",
      " 925  3.6335996e+03 0.00e+00 1.64e+00  -1.0 6.70e-02    -  1.00e+00 2.91e-11f 36 \n",
      " 930  3.6339164e+03 0.00e+00 1.61e+00  -1.0 6.70e-02    -  1.00e+00 1.00e+00w  1 \n",
      " 935  3.6335996e+03 0.00e+00 1.64e+00  -1.0 6.70e-02    -  1.00e+00 7.28e-12f 38 \n",
      " 940  3.6335996e+03 0.00e+00 1.64e+00  -1.0 6.70e-02    -  1.00e+00 2.91e-11f 36 \n",
      " 945  3.6357722e+03 0.00e+00 1.58e+00  -1.0 6.53e-02    -  1.00e+00 1.00e+00w  1 \n",
      "iter    objective    inf_pr   inf_du lg(mu)  ||d||  lg(rg) alpha_du alpha_pr  ls\n",
      " 950  3.6335996e+03 0.00e+00 1.64e+00  -1.0 6.70e-02    -  1.00e+00 2.91e-11f 36 \n",
      " 955  3.6335996e+03 0.00e+00 1.64e+00  -1.0 6.70e-02    -  1.00e+00 2.91e-11f 36 \n",
      " 960  3.6335996e+03 0.00e+00 1.64e+00  -1.0 6.70e-02    -  1.00e+00 5.82e-11f 35 \n",
      " 965  3.6335996e+03 0.00e+00 1.64e+00  -1.0 6.70e-02    -  1.00e+00 5.82e-11f 35 \n",
      " 970  3.6346781e+03 0.00e+00 1.59e+00  -1.0 6.56e-02    -  1.00e+00 1.00e+00w  1 \n",
      " 975  3.6335996e+03 0.00e+00 1.64e+00  -1.0 6.70e-02    -  1.00e+00 5.82e-11f 35 \n",
      " 980  3.6335996e+03 0.00e+00 1.64e+00  -1.0 6.70e-02    -  1.00e+00 5.82e-11f 35 \n",
      " 985  3.6335996e+03 0.00e+00 1.64e+00  -1.0 6.57e-02    -  1.00e+00 1.46e-11f 36 w\n",
      " 990  3.6335996e+03 0.00e+00 1.64e+00  -1.0 6.70e-02    -  1.00e+00 1.46e-11f 37 \n",
      " 995  3.6339164e+03 0.00e+00 1.61e+00  -1.0 6.70e-02    -  1.00e+00 1.00e+00w  1 \n",
      "iter    objective    inf_pr   inf_du lg(mu)  ||d||  lg(rg) alpha_du alpha_pr  ls\n",
      "1000  3.6335996e+03 0.00e+00 1.64e+00  -1.0 6.70e-02    -  1.00e+00 1.46e-11f 37 \n",
      "\n",
      "Number of Iterations....: 1000\n",
      "\n",
      "                                   (scaled)                 (unscaled)\n",
      "Objective...............:   5.3609566264601270e+01    3.6335996151465120e+03\n",
      "Dual infeasibility......:   1.6395997004271337e+00    1.1113033093871982e+02\n",
      "Constraint violation....:   0.0000000000000000e+00    0.0000000000000000e+00\n",
      "Complementarity.........:   1.0277442671150472e-01    6.9659417780518860e+00\n",
      "Overall NLP error.......:   1.6395997004271337e+00    1.1113033093871982e+02\n",
      "\n",
      "\n",
      "Number of objective function evaluations             = 30495\n",
      "Number of objective gradient evaluations             = 1001\n",
      "Number of equality constraint evaluations            = 0\n",
      "Number of inequality constraint evaluations          = 0\n",
      "Number of equality constraint Jacobian evaluations   = 0\n",
      "Number of inequality constraint Jacobian evaluations = 0\n",
      "Number of Lagrangian Hessian evaluations             = 1000\n",
      "Total CPU secs in IPOPT (w/o function evaluations)   =      1.164\n",
      "Total CPU secs in NLP function evaluations           =      6.242\n",
      "\n",
      "EXIT: Maximum Number of Iterations Exceeded.\n",
      "  7.866096 seconds (127.51 M allocations: 3.741 GB, 5.22% gc time)\n"
     ]
    },
    {
     "data": {
      "text/plain": [
       "VarianceComponentModels.VarianceComponentModel{Float64,2,Array{Float64,2},Array{Float64,2}}(2x2 Array{Float64,2}:\n",
       " 1.15708   1.00104\n",
       " 0.930692  1.02464,(\n",
       "2x2 Array{Float64,2}:\n",
       "  0.545248  -0.875337\n",
       " -0.875337   1.57689 ,\n",
       "\n",
       "2x2 Array{Float64,2}:\n",
       "  5.90114   -0.592005\n",
       " -0.592005   0.590786))"
      ]
     },
     "execution_count": 24,
     "metadata": {},
     "output_type": "execute_result"
    }
   ],
   "source": [
    "vcmodel_ipopt = deepcopy(vcmodel)\n",
    "@time mle_fs!(vcmodel_ipopt, vcdatarot; solver=:Ipopt, maxiter=1000, verbose=true)\n",
    "vcmodel_ipopt"
   ]
  },
  {
   "cell_type": "markdown",
   "metadata": {},
   "source": [
    "## Starting point"
   ]
  },
  {
   "cell_type": "markdown",
   "metadata": {},
   "source": [
    "A good starting point helps with successful optimization. Here are a few strategies."
   ]
  },
  {
   "cell_type": "markdown",
   "metadata": {},
   "source": [
    "* For $d>1$ (multivariate response), initialize $B, \\Sigma$ from univariate estimates.  \n",
    "* Use REML estimate as starting point for MLE.  "
   ]
  },
  {
   "cell_type": "code",
   "execution_count": null,
   "metadata": {
    "collapsed": true
   },
   "outputs": [],
   "source": []
  }
 ],
 "metadata": {
  "kernelspec": {
   "display_name": "Julia 0.4.6",
   "language": "julia",
   "name": "julia-0.4"
  },
  "language_info": {
   "file_extension": ".jl",
   "mimetype": "application/julia",
   "name": "julia",
   "version": "0.4.6"
  }
 },
 "nbformat": 4,
 "nbformat_minor": 0
}
