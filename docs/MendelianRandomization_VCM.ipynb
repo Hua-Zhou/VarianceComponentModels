{
 "cells": [
  {
   "cell_type": "markdown",
   "metadata": {},
   "source": [
    "# Mendelian Randomization (MR) Using Variance Component Models (VCM)"
   ]
  },
  {
   "cell_type": "raw",
   "metadata": {},
   "source": [
    "Authors: Sarah Ji, Jin Zhou, Janet Sinsheimer, Hua Zhou"
   ]
  },
  {
   "cell_type": "markdown",
   "metadata": {},
   "source": [
    "In this notebook, we demonstrate in 4 examples how to conduct Mendelian randomization (MR) using variance components as a method of causal inference. We don't go into all the assumptions, caveats, extension, disadvantages or advantages of Mendelian randomization. For these aspects we refer the user to the book \"Mendelian Randomization: Methods for using Genetic Variants in Causal Estimation\" by Steven Burgess and Simon G. Thompson.  The difference in our approach versus most examples of MR is that we are using family data and so we must also take into account the correlations among relatives in our analyses - thus we use variance component analysis (aka linear mixed modeling). We simulate the trait, exposure and have genotypes all on the family members.  In principle the exposure IV relationship and the trait IV relationship can be examined in different samples but this requires additional assumptions.  The notebook is organized as follows: \n",
    "\n",
    "We simulated data outside of this notebook using starting the Ped-GWAS data from example 28d of Mendel v16.0 which available as part of the Fortran Mendel package (available at http://www.genetics.ucla.edu/software/). \n",
    "\n",
    "Example 1: In this example we use MR-VCM with SNP rs11672206 simulated as a strong instrumental variable (IV) and simulated phenotype data. This first example provides the user with an example in which the genetic variant is a strong IV and there is a direct effect of the exposure on the trait. This example shows one scenario in which MR can be quite useful. \n",
    "\n",
    "Example 2: In this example we use MR-VCM with SNP rs11672206 again simulated as a strong IV and simulated phenotype data. In this second example there is still a strong IV but any association between the trait and the environmental predictor is due to confounding. This example shows another scenario in which MR can be quite useful. \n",
    "\n",
    "Example 3: In this final example we use MR-VCM with SNP rs7255584 as the IV. The actual IV is still rs11672206 but this time we simulate it to be a relatively weak IV. Furthermore we don't use rs11672206, we use a proxy IV rs192667878 that is in LD with the true IV.  In this third example, we demonstrate that there can be considerable bias if the marker is a weak IV. This one of the problems that can occur in practice with MR.   "
   ]
  },
  {
   "cell_type": "markdown",
   "metadata": {},
   "source": [
    "## 2 Stage Regression Framework for Mendelian Randomization"
   ]
  },
  {
   "cell_type": "markdown",
   "metadata": {},
   "source": [
    "First we introduce the module MRVC which calls the variance components model along with the other modules needed to run variance component models. "
   ]
  },
  {
   "cell_type": "code",
   "execution_count": 1,
   "metadata": {},
   "outputs": [
    {
     "name": "stderr",
     "output_type": "stream",
     "text": [
      "\u001b[1m\u001b[36mINFO: \u001b[39m\u001b[22m\u001b[36mPrecompiling module MathProgBase.\n",
      "\u001b[39m\u001b[1m\u001b[36mINFO: \u001b[39m\u001b[22m\u001b[36mPrecompiling module Ipopt.\n",
      "\u001b[39m\n",
      "WARNING: deprecated syntax \"inner constructor VarianceComponentModel(...) around /Users/janets/.julia/v0.6/VarianceComponentModels/src/VarianceComponentModels.jl:41\".\n",
      "Use \"VarianceComponentModel{T,M,BT,ΣT}(...) where {T,M,BT,ΣT}\" instead.\n",
      "\n",
      "WARNING: deprecated syntax \"inner constructor TwoVarCompModelRotate(...) around /Users/janets/.julia/v0.6/VarianceComponentModels/src/VarianceComponentModels.jl:91\".\n",
      "Use \"TwoVarCompModelRotate{T,BT}(...) where {T,BT}\" instead.\n",
      "\n",
      "WARNING: deprecated syntax \"inner constructor VarianceComponentVariate(...) around /Users/janets/.julia/v0.6/VarianceComponentModels/src/VarianceComponentModels.jl:149\".\n",
      "Use \"VarianceComponentVariate{T,M,YT,XT,VT}(...) where {T,M,YT,XT,VT}\" instead.\n",
      "\n",
      "WARNING: deprecated syntax \"inner constructor TwoVarCompVariateRotate(...) around /Users/janets/.julia/v0.6/VarianceComponentModels/src/VarianceComponentModels.jl:204\".\n",
      "Use \"TwoVarCompVariateRotate{T,YT,XT}(...) where {T,YT,XT}\" instead.\n",
      "\u001b[1m\u001b[36mINFO: \u001b[39m\u001b[22m\u001b[36mPrecompiling module GLM.\n",
      "\u001b[39m"
     ]
    },
    {
     "data": {
      "text/plain": [
       "MendelianRandomizationVCM"
      ]
     },
     "execution_count": 1,
     "metadata": {},
     "output_type": "execute_result"
    }
   ],
   "source": [
    "module MendelianRandomizationVCM\n",
    "\n",
    "export MendelianRandomization\n",
    "using DataFrames\n",
    "using StatsBase\n",
    "using VarianceComponentModels\n",
    "using GLM\n",
    "using SnpArrays\n",
    "using Distributions\n",
    "\n",
    "#function MR(IV,Expose,Trait)\n",
    "function MendelianRandomization(Y::AbstractVecOrMat,\n",
    "    X::AbstractVecOrMat,\n",
    "    #IV::SnpArrays.SnpArray{2},\n",
    "    IV::AbstractVecOrMat,\n",
    "    exposure::AbstractVecOrMat,\n",
    "    GRM::AbstractMatrix,\n",
    "    algorithm::Symbol = :FS)\n",
    "\n",
    "    T = eltype(X)\n",
    "    n = length(IV)\n",
    "\n",
    "    ## fit null model without IV effects ##\n",
    "    nulldata    = VarianceComponentVariate([Y exposure], X, (2GRM, eye(n)))\n",
    "    nulldatarot = TwoVarCompVariateRotate(nulldata)\n",
    "    nullmodel   = VarianceComponentModel(nulldatarot)\n",
    "\n",
    "    traitdata_null = TwoVarCompVariateRotate(nulldatarot.Yrot[:, 1], nulldatarot.Xrot,\n",
    "      nulldatarot.eigval, nulldatarot.eigvec, nulldatarot.logdetV2)\n",
    "    traitmodel_null = VarianceComponentModel(traitdata_null)\n",
    "\n",
    "    if algorithm == :MM\n",
    "        logl, = mle_mm!(traitmodel_null, traitdata_null; verbose = false)\n",
    "    elseif algorithm == :FS\n",
    "        logl, = mle_fs!(traitmodel_null, traitdata_null; verbose = false)\n",
    "    end\n",
    "\n",
    "    ### regress IV with trait\n",
    "    traitdata = TwoVarCompVariateRotate(nulldatarot.Yrot[:, 1],\n",
    "      [nulldatarot.Xrot At_mul_B(nulldatarot.eigvec, IV)],\n",
    "      nulldatarot.eigval, nulldatarot.eigvec, nulldatarot.logdetV2)\n",
    "    traitmodel = VarianceComponentModel(traitdata)\n",
    "    #Set the starting values for the maximum likelihood estimation\n",
    "    #Use the null model estimates as start values for the alternative model.\n",
    "    fill!(traitmodel.B, zero(T))\n",
    "    copy!(traitmodel.B, traitmodel_null.B)\n",
    "    if algorithm == :MM\n",
    "        _, _, _, _, traitBseMat, _= mle_mm!(traitmodel, traitdata; verbose = false)\n",
    "    elseif algorithm == :FS\n",
    "        _, _, _, _, traitBseMat, _ = mle_fs!(traitmodel, traitdata; verbose = false)\n",
    "    end\n",
    "    traitB = traitmodel.B[end]\n",
    "    traitBse = traitBseMat[end]\n",
    "\n",
    "    ### regress IV with exposure\n",
    "    expdata = TwoVarCompVariateRotate(nulldatarot.Yrot[:, 2],\n",
    "      [nulldatarot.Xrot At_mul_B(nulldatarot.eigvec, IV)],\n",
    "      nulldatarot.eigval, nulldatarot.eigvec, nulldatarot.logdetV2)\n",
    "    expmodel =  VarianceComponentModel(expdata)\n",
    "\n",
    "    fill!(expmodel.B, zero(T))\n",
    "    copy!(expmodel.B, traitmodel_null.B)\n",
    "    if algorithm == :MM\n",
    "      _, _, _, _, expBseMat, _= mle_mm!(expmodel, expdata; verbose = false)\n",
    "    elseif algorithm == :FS\n",
    "      _, _, _, _, expBseMat, _= mle_fs!(expmodel, expdata; verbose = false)\n",
    "    end\n",
    "    expB = expmodel.B[end]\n",
    "    expBse = expBseMat[end]\n",
    "\n",
    "    directbeta = traitB / expB\n",
    "  \tSEbeta = sqrt(traitBse^2/expB^2+traitB^2*expBse^2/expB^4)\n",
    "    W = (directbeta/SEbeta)^2\n",
    "    #change the degrees of freedom if running a bivariate outcome\n",
    "    pvalue = ccdf(Chisq(1), W)\n",
    "    println(\"MR direct effects (SE): \", directbeta, \"(\", SEbeta, \"), Pvalue is \", pvalue,\"\\n\")\n",
    "    println(\"Exposure effect (SE) is: \",expB,\"(\", expBse, \")\",\"\\n\")\n",
    "    println(\"Trait effect (SE) is: \", traitB,\"(\",traitBse,\")\",\"\\n\")\n",
    "    return directbeta, SEbeta\n",
    "  end\n",
    "end # module"
   ]
  },
  {
   "cell_type": "code",
   "execution_count": 2,
   "metadata": {},
   "outputs": [],
   "source": [
    "using MendelianRandomizationVCM"
   ]
  },
  {
   "cell_type": "markdown",
   "metadata": {},
   "source": [
    "# Exposure Effect on Trait using Variance Component Models "
   ]
  },
  {
   "cell_type": "markdown",
   "metadata": {},
   "source": [
    "Next we use the ExposureEffectVCM function which calls the variance component models module along with the other modules needed to run variance component models. \n",
    " \n",
    " Because we have similated the trait, exposure and genotypes on the same family members, we can also estimate the beta coefficient for the regression of trait on exposure adjusting for the correlation in family members trait values. "
   ]
  },
  {
   "cell_type": "code",
   "execution_count": 3,
   "metadata": {},
   "outputs": [
    {
     "data": {
      "text/plain": [
       "ExposureEffectVCM (generic function with 1 method)"
      ]
     },
     "execution_count": 3,
     "metadata": {},
     "output_type": "execute_result"
    }
   ],
   "source": [
    "using DataFrames\n",
    "using StatsBase\n",
    "using VarianceComponentModels\n",
    "using GLM\n",
    "using SnpArrays\n",
    "using Distributions\n",
    "\n",
    "function ExposureEffectVCM(Y::AbstractVecOrMat,\n",
    "    X::AbstractVecOrMat,\n",
    "    exposure::AbstractVecOrMat,\n",
    "    GRM::AbstractMatrix)\n",
    "    \n",
    "    T = eltype(X)\n",
    "    n = length(exposure)\n",
    "\n",
    "nulldata = VarianceComponentVariate(outcome, X, (ΦGRM, eye(length(outcome))))\n",
    "    nulldatarot = TwoVarCompVariateRotate(nulldata)\n",
    "    nullmodel   = VarianceComponentModel(nulldatarot)\n",
    "\n",
    "#regress trait~null\n",
    "    traitdata_null = TwoVarCompVariateRotate(nulldatarot.Yrot[:, 1], nulldatarot.Xrot,\n",
    "      nulldatarot.eigval, nulldatarot.eigvec, nulldatarot.logdetV2)\n",
    "    traitmodel_null = VarianceComponentModel(traitdata_null)\n",
    "\n",
    "  #  if algorithm == :MM\n",
    "  #      logl, = mle_mm!(traitmodel_null, traitdata_null; verbose = false)\n",
    "  #  elseif algorithm == :FS\n",
    "        logl, = mle_fs!(traitmodel_null, traitdata_null; verbose = false)\n",
    "  #  end\n",
    "\n",
    "### regress trait~exposure lmm \n",
    "    traitdata = TwoVarCompVariateRotate(nulldatarot.Yrot[:, 1],\n",
    "      [nulldatarot.Xrot At_mul_B(nulldatarot.eigvec, exposure)],\n",
    "      nulldatarot.eigval, nulldatarot.eigvec, nulldatarot.logdetV2)\n",
    "    traitmodel = VarianceComponentModel(traitdata)\n",
    "\n",
    "#Set the starting values for the maximum likelihood estimation\n",
    "    #Use the null model estimates as start values for the alternative model.\n",
    "    fill!(traitmodel.B, zero(T))\n",
    "    copy!(traitmodel.B, traitmodel_null.B)\n",
    "   # if algorithm == :MM\n",
    "   #     _, _, _, _, traitBseMat, _= mle_mm!(traitmodel, traitdata; verbose = false)\n",
    "  #  elseif algorithm == :FS\n",
    "        _, _, _, _, traitBseMat, _ = mle_fs!(traitmodel, traitdata; verbose = false)\n",
    "  #  end\n",
    "    traitBexp = traitmodel.B[end]\n",
    "    traitBexpSE = traitBseMat[end]\n",
    "return traitBexp, traitBexpSE\n",
    "      end\n",
    "#pval = ccdf(Chisq(1), (model_mle.B[2] / Σse[2][1])^2) "
   ]
  },
  {
   "cell_type": "markdown",
   "metadata": {},
   "source": [
    "## Example 1: Fit MR-VCM with major locus, SNP rs11672206"
   ]
  },
  {
   "cell_type": "markdown",
   "metadata": {},
   "source": [
    "In this example we use the Ped28trait.out data file, simulated under the scenario where the genetic variant is a strong instrumental variable (IV) and there is a direct effect of the exposure on the trait."
   ]
  },
  {
   "cell_type": "markdown",
   "metadata": {},
   "source": [
    "### Data files\n",
    "\n",
    "We start from the following 3 files from [Mendel Option 28 (Trait Simulation) example](https://www.genetics.ucla.edu/software/Mendel_current_doc.pdf#page=279). Following shell commands assumes MacOS or Linux environment. Julia commands should run regardless of OS."
   ]
  },
  {
   "cell_type": "markdown",
   "metadata": {},
   "source": [
    "Take a look at the Pedigree file below. The columns are: :famid, :id, :moid, :faid, :sex, :twin, :exp1 :simtrait1 but in this file the labels are not present.  If the user has data with headers then they can change the command to \n",
    "Data= readcsv(\"filename.in\", Any; header = true)"
   ]
  },
  {
   "cell_type": "code",
   "execution_count": 4,
   "metadata": {},
   "outputs": [
    {
     "data": {
      "text/plain": [
       "212×9 Array{Any,2}:\n",
       "     1     16       \"          \"  …  \"          \"  38.8938   90.1804  \"\"\n",
       "     1   8228       \"          \"     \"          \"  47.0274  109.327   \"\"\n",
       "     1  17008       \"          \"     \"          \"  44.1152  114.15    \"\"\n",
       "     1   9218  17008                 \"          \"  43.0108  109.922   \"\"\n",
       "     1   3226   9218                 \"          \"  42.4626  100.127   \"\"\n",
       "     2     29       \"          \"  …  \"          \"  40.5792   95.7373  \"\"\n",
       "     2   2294       \"          \"     \"          \"  40.5459  108.733   \"\"\n",
       "     2   3416       \"          \"     \"          \"  46.5575  121.181   \"\"\n",
       "     2   3916   2294                 \"          \"  43.2133  101.566   \"\"\n",
       "     2   6790   2294                 \"          \"  45.1688  114.688   \"\"\n",
       "     2  14695   2294              …  \"          \"  39.986    96.3424  \"\"\n",
       "     2  17893   2294                 \"          \"  42.3638   99.7993  \"\"\n",
       "     2   6952   3416                 \"          \"  50.7288  129.112   \"\"\n",
       "     ⋮                            ⋱  ⋮                                  \n",
       "    31  24385  23058              …  \"          \"  44.803   116.241   \"\"\n",
       "    31  21403  27016                 \"          \"  38.4925   92.6177  \"\"\n",
       "    31   1365  23058                 \"          \"  38.9816   91.6206  \"\"\n",
       "    31  19392  26817                 \"          \"  36.289    89.2516  \"\"\n",
       " 10006     66       \"          \"     \"          \"  39.9046  110.54    \"\"\n",
       " 10008     92       \"          \"  …  \"          \"  42.3719  113.432   \"\"\n",
       " 10014    186       \"          \"     \"          \"  46.6342  115.746   \"\"\n",
       " 10027    374       \"          \"     \"          \"  41.7128  104.298   \"\"\n",
       " 10029    434       \"          \"     \"          \"  44.5177  116.291   \"\"\n",
       " 10033    333       \"          \"     \"          \"  47.2557  119.839   \"\"\n",
       " 10040    234       \"          \"  …  \"          \"  47.1437  114.207   \"\"\n",
       " 10045    789       \"          \"     \"          \"  45.9784  114.946   \"\""
      ]
     },
     "execution_count": 4,
     "metadata": {},
     "output_type": "execute_result"
    }
   ],
   "source": [
    "Ped28_1 = readcsv(\"Ped28trait1.out\", Any; header = false)"
   ]
  },
  {
   "cell_type": "markdown",
   "metadata": {},
   "source": [
    "We put the exposure data are placed in the array exp_1"
   ]
  },
  {
   "cell_type": "code",
   "execution_count": 6,
   "metadata": {},
   "outputs": [
    {
     "data": {
      "text/plain": [
       "212-element Array{Float64,1}:\n",
       " 38.8938\n",
       " 47.0274\n",
       " 44.1152\n",
       " 43.0108\n",
       " 42.4626\n",
       " 40.5792\n",
       " 40.5459\n",
       " 46.5575\n",
       " 43.2133\n",
       " 45.1688\n",
       " 39.986 \n",
       " 42.3638\n",
       " 50.7288\n",
       "  ⋮     \n",
       " 44.803 \n",
       " 38.4925\n",
       " 38.9816\n",
       " 36.289 \n",
       " 39.9046\n",
       " 42.3719\n",
       " 46.6342\n",
       " 41.7128\n",
       " 44.5177\n",
       " 47.2557\n",
       " 47.1437\n",
       " 45.9784"
      ]
     },
     "execution_count": 6,
     "metadata": {},
     "output_type": "execute_result"
    }
   ],
   "source": [
    "exp_1 = convert(Array{Float64,1}, Ped28_1[:,7])"
   ]
  },
  {
   "cell_type": "markdown",
   "metadata": {},
   "source": [
    "We don't need to retain the IDs so we retrieve the phenotype data and put them in an array Y_1."
   ]
  },
  {
   "cell_type": "code",
   "execution_count": 20,
   "metadata": {},
   "outputs": [
    {
     "data": {
      "text/plain": [
       "212-element Array{Float64,1}:\n",
       "  90.1804\n",
       " 109.327 \n",
       " 114.15  \n",
       " 109.922 \n",
       " 100.127 \n",
       "  95.7373\n",
       " 108.733 \n",
       " 121.181 \n",
       " 101.566 \n",
       " 114.688 \n",
       "  96.3424\n",
       "  99.7993\n",
       " 129.112 \n",
       "   ⋮     \n",
       " 116.241 \n",
       "  92.6177\n",
       "  91.6206\n",
       "  89.2516\n",
       " 110.54  \n",
       " 113.432 \n",
       " 115.746 \n",
       " 104.298 \n",
       " 116.291 \n",
       " 119.839 \n",
       " 114.207 \n",
       " 114.946 "
      ]
     },
     "execution_count": 20,
     "metadata": {},
     "output_type": "execute_result"
    }
   ],
   "source": [
    "Y_1 = convert(Array{Float64,1}, Ped28_1[:,8])"
   ]
  },
  {
   "cell_type": "markdown",
   "metadata": {},
   "source": [
    "Retrieve sex data coded as 0 (male) or 1 (female) so male is the reference group."
   ]
  },
  {
   "cell_type": "code",
   "execution_count": 7,
   "metadata": {},
   "outputs": [
    {
     "data": {
      "text/plain": [
       "212-element Array{Float64,1}:\n",
       " 1.0\n",
       " 1.0\n",
       " 0.0\n",
       " 0.0\n",
       " 1.0\n",
       " 1.0\n",
       " 0.0\n",
       " 0.0\n",
       " 1.0\n",
       " 0.0\n",
       " 1.0\n",
       " 1.0\n",
       " 0.0\n",
       " ⋮  \n",
       " 0.0\n",
       " 1.0\n",
       " 1.0\n",
       " 1.0\n",
       " 0.0\n",
       " 0.0\n",
       " 0.0\n",
       " 0.0\n",
       " 0.0\n",
       " 0.0\n",
       " 0.0\n",
       " 0.0"
      ]
     },
     "execution_count": 7,
     "metadata": {},
     "output_type": "execute_result"
    }
   ],
   "source": [
    "sex_1 = map(x -> strip(x) == \"F\"? 1.0 : 0.0, Ped28_1[:, 5])"
   ]
  },
  {
   "cell_type": "markdown",
   "metadata": {},
   "source": [
    "Take a look at the first 10 lines of the SNP definition file. Notice the first two lines are included by default for formatting, and should be excluded from the analysis. "
   ]
  },
  {
   "cell_type": "code",
   "execution_count": 8,
   "metadata": {},
   "outputs": [
    {
     "name": "stdout",
     "output_type": "stream",
     "text": [
      "    3.00  = FILE FORMAT VERSION NUMBER.\n",
      " \n",
      "rs3020701       ,19,           90974,   1,   2\n",
      "rs56343121      ,19,           91106,   1,   2\n",
      "rs143501051     ,19,           93542,   1,   2\n",
      "rs56182540      ,19,           95981,   1,   2\n",
      "rs7260412       ,19,          105021,   1,   2\n",
      "rs11669393      ,19,          107866,   1,   2\n",
      "rs181646587     ,19,          107894,   1,   2\n",
      "rs8106297       ,19,          107958,   1,   2\n"
     ]
    }
   ],
   "source": [
    ";head SNP_def28trait1.out"
   ]
  },
  {
   "cell_type": "code",
   "execution_count": 10,
   "metadata": {},
   "outputs": [
    {
     "data": {
      "text/plain": [
       "253141×6 Array{Any,2}:\n",
       " \"rs3020701       \"  19     90974  1  2  \"\"\n",
       " \"rs56343121      \"  19     91106  1  2  \"\"\n",
       " \"rs143501051     \"  19     93542  1  2  \"\"\n",
       " \"rs56182540      \"  19     95981  1  2  \"\"\n",
       " \"rs7260412       \"  19    105021  1  2  \"\"\n",
       " \"rs11669393      \"  19    107866  1  2  \"\"\n",
       " \"rs181646587     \"  19    107894  1  2  \"\"\n",
       " \"rs8106297       \"  19    107958  1  2  \"\"\n",
       " \"rs8106302       \"  19    107962  1  2  \"\"\n",
       " \"rs183568620     \"  19    107987  1  2  \"\"\n",
       " \"rs186451972     \"  19    108003  1  2  \"\"\n",
       " \"rs189699222     \"  19    108032  1  2  \"\"\n",
       " \"rs182902214     \"  19    108090  1  2  \"\"\n",
       " ⋮                                       ⋮ \n",
       " \"rs188169422     \"  19  59116080  1  2  \"\"\n",
       " \"rs144587467     \"  19  59117729  1  2  \"\"\n",
       " \"rs139879509     \"  19  59117949  1  2  \"\"\n",
       " \"rs143250448     \"  19  59117982  1  2  \"\"\n",
       " \"rs145384750     \"  19  59118028  1  2  \"\"\n",
       " \"rs149215836     \"  19  59118040  1  2  \"\"\n",
       " \"rs139221927     \"  19  59118044  1  2  \"\"\n",
       " \"rs181848453     \"  19  59118114  1  2  \"\"\n",
       " \"rs138318162     \"  19  59118148  1  2  \"\"\n",
       " \"rs186913222     \"  19  59118616  1  2  \"\"\n",
       " \"rs141816674     \"  19  59118779  1  2  \"\"\n",
       " \"rs150801216     \"  19  59118783  1  2  \"\""
      ]
     },
     "execution_count": 10,
     "metadata": {},
     "output_type": "execute_result"
    }
   ],
   "source": [
    "snpdef28_1 = readcsv(\"SNP_def28trait1.out\", Any; skipstart = 2, header = false)"
   ]
  },
  {
   "cell_type": "markdown",
   "metadata": {},
   "source": [
    "In this example we will analyze a single SNP, rs10412915, so we don't need the position of the snps just the SNP IDs so we just retrieve SNP ID not the bps."
   ]
  },
  {
   "cell_type": "code",
   "execution_count": 11,
   "metadata": {},
   "outputs": [
    {
     "data": {
      "text/plain": [
       "253141-element Array{AbstractString,1}:\n",
       " \"rs3020701\"  \n",
       " \"rs56343121\" \n",
       " \"rs143501051\"\n",
       " \"rs56182540\" \n",
       " \"rs7260412\"  \n",
       " \"rs11669393\" \n",
       " \"rs181646587\"\n",
       " \"rs8106297\"  \n",
       " \"rs8106302\"  \n",
       " \"rs183568620\"\n",
       " \"rs186451972\"\n",
       " \"rs189699222\"\n",
       " \"rs182902214\"\n",
       " ⋮            \n",
       " \"rs188169422\"\n",
       " \"rs144587467\"\n",
       " \"rs139879509\"\n",
       " \"rs143250448\"\n",
       " \"rs145384750\"\n",
       " \"rs149215836\"\n",
       " \"rs139221927\"\n",
       " \"rs181848453\"\n",
       " \"rs138318162\"\n",
       " \"rs186913222\"\n",
       " \"rs141816674\"\n",
       " \"rs150801216\""
      ]
     },
     "execution_count": 11,
     "metadata": {},
     "output_type": "execute_result"
    }
   ],
   "source": [
    "snpid = map(x -> strip(string(x)), snpdef28_1[:, 1])"
   ]
  },
  {
   "cell_type": "markdown",
   "metadata": {},
   "source": [
    "Read in the SNP binary file using the SnpArray.jl package."
   ]
  },
  {
   "cell_type": "markdown",
   "metadata": {},
   "source": [
    "Because SnpArray function requires input file name ending in .bed rather than .bin, we create a symbolic link SNP_data29a.bed to SNP_data29a.bin.  (If you have trouble with getting this command to work on your computer you can copy the file outside of julia).\n",
    "## NOTE:\n",
    "It is VERY important that the SNP data have columns that are in the same order as in the snp definition file and that the rows are in the same order as in the pedigree file.  If they are not you will get wrong answers but will not get an error message!"
   ]
  },
  {
   "cell_type": "code",
   "execution_count": 12,
   "metadata": {},
   "outputs": [
    {
     "name": "stderr",
     "output_type": "stream",
     "text": [
      "ln: ./SNP_data28d_trait1.bed: File exists\n"
     ]
    }
   ],
   "source": [
    ";ln -s ./SNP_data28d_trait1.bin ./SNP_data28d_trait1.bed"
   ]
  },
  {
   "cell_type": "code",
   "execution_count": 13,
   "metadata": {},
   "outputs": [
    {
     "name": "stdout",
     "output_type": "stream",
     "text": [
      "Control28bivariate.in\n",
      "Control_exposure1.in\n",
      "Control_exposure3.in\n",
      "Control_trait1.in\n",
      "Control_trait3.in\n",
      "Def28e2.in\n",
      "Def28exp1.out\n",
      "Def28exp3.out\n",
      "Def28exposure.in\n",
      "Def28exptrait.out\n",
      "Def28exptrait2.out\n",
      "Def28trait.out\n",
      "Def28trait1.out\n",
      "Def28trait3.out\n",
      "Mendel28exposure1.out\n",
      "Mendel28exposure3.out\n",
      "Mendel28exptrait2.out\n",
      "Mendel28trait1.out\n",
      "Mendel28trait3.out\n",
      "MendelianRandomization_LMM.ipynb\n",
      "MendelianRandomization_VCM_JanetSarah3152018.ipynb\n",
      "MendelianRandomization_VCM_JanetSarahMarch6.ipynb\n",
      "Ped28d.in\n",
      "Ped28d2.in\n",
      "Ped28exp1.out\n",
      "Ped28exp3.out\n",
      "Ped28exptrait.out\n",
      "Ped28exptrait2.out\n",
      "Ped28trait1.out\n",
      "Ped28trait3.out\n",
      "SNP_data28d.bin\n",
      "SNP_data28d2.bin\n",
      "SNP_data28d_exp1.bin\n",
      "SNP_data28d_exp3.bin\n",
      "SNP_data28d_trait1.bed\n",
      "SNP_data28d_trait1.bin\n",
      "SNP_data28d_trait3.bed\n",
      "SNP_data28d_trait3.bin\n",
      "SNP_data28exptrait.bin\n",
      "SNP_data28exptrait2.bed\n",
      "SNP_data28exptrait2.bin\n",
      "SNP_def28d.in\n",
      "SNP_def28d2.in\n",
      "SNP_def28exp1.out\n",
      "SNP_def28exp3.out\n",
      "SNP_def28exptrait.out\n",
      "SNP_def28exptrait2.out\n",
      "SNP_def28trait1.out\n",
      "SNP_def28trait3.out\n",
      "Simulation28exp.in\n",
      "Simulation28exp3.in\n",
      "Simulation28test2.in\n",
      "Simulation28trait.in\n",
      "Simulation28traitexamp1.in\n",
      "Simulation28traitexamp3.in\n",
      "Summary28exposure1.out\n",
      "Summary28exposure3.out\n",
      "Summary28exptrait2.out\n",
      "Summary28trait1.out\n",
      "Summary28trait3.out\n",
      "~$ntrol_trait3.in.txt\n"
     ]
    }
   ],
   "source": [
    ";ls"
   ]
  },
  {
   "cell_type": "code",
   "execution_count": 14,
   "metadata": {},
   "outputs": [
    {
     "name": "stderr",
     "output_type": "stream",
     "text": [
      "\u001b[1m\u001b[36mINFO: \u001b[39m\u001b[22m\u001b[36mv1.0 BED file detected\n",
      "\u001b[39m"
     ]
    },
    {
     "data": {
      "text/plain": [
       "212×253141 SnpArrays.SnpArray{2}:\n",
       " (true, true)  (true, true)   …  (true, true)    (false, false)\n",
       " (true, true)  (true, true)      (true, true)    (false, false)\n",
       " (true, true)  (true, true)      (true, true)    (false, false)\n",
       " (true, true)  (true, true)      (true, true)    (false, false)\n",
       " (true, true)  (true, true)      (true, true)    (false, false)\n",
       " (true, true)  (true, true)   …  (false, false)  (true, true)  \n",
       " (true, true)  (false, true)     (false, false)  (true, true)  \n",
       " (true, true)  (true, true)      (false, false)  (true, true)  \n",
       " (true, true)  (false, true)     (false, false)  (true, true)  \n",
       " (true, true)  (true, true)      (false, false)  (true, true)  \n",
       " (true, true)  (false, true)  …  (false, false)  (true, true)  \n",
       " (true, true)  (false, true)     (false, false)  (true, true)  \n",
       " (true, true)  (false, true)     (false, false)  (true, true)  \n",
       " ⋮                            ⋱                  ⋮             \n",
       " (true, true)  (false, true)  …  (true, true)    (false, false)\n",
       " (true, true)  (true, true)      (false, true)   (false, true) \n",
       " (true, true)  (true, true)      (true, true)    (false, false)\n",
       " (true, true)  (true, true)      (true, true)    (false, false)\n",
       " (true, true)  (true, true)      (true, true)    (false, false)\n",
       " (true, true)  (true, true)   …  (false, true)   (false, false)\n",
       " (true, true)  (true, true)      (false, true)   (false, true) \n",
       " (true, true)  (true, true)      (true, true)    (false, false)\n",
       " (true, true)  (false, true)     (false, true)   (false, true) \n",
       " (true, true)  (true, true)      (true, true)    (false, false)\n",
       " (true, true)  (true, true)   …  (true, true)    (false, false)\n",
       " (true, true)  (true, true)      (false, true)   (false, true) "
      ]
     },
     "execution_count": 14,
     "metadata": {},
     "output_type": "execute_result"
    }
   ],
   "source": [
    "using SnpArrays\n",
    "snpbin28_1 = SnpArray(\"SNP_data28d_trait1\"; people = size(Ped28_1, 1), snps = size(snpdef28_1, 1))"
   ]
  },
  {
   "cell_type": "markdown",
   "metadata": {},
   "source": [
    "## Kinship via Genetic Relationship Matrix (GRM)\n",
    "\n",
    "Recall that in using variance components (linear mixed models) we need a measure of the relatedness among individuals. Under the GRM formulation, the estimate of the global kinship coefficient of individuals $i$ and $j$ is\n",
    "$$ \\widehat\\Phi_{GRMij}^  = \\frac{1}{2S} \\sum_{k=1}^S \\frac{(x_{ik} -2p_k)(x_{jk} - 2p_k)}{2 p_k (1-p_k)}$$,\n",
    "where $k$ ranges over the selected $S$ SNPs, $p_k$ is the minor allele frequency of SNP $k$, and $x_{ik}$ is the number of minor alleles in individual $i$s genotype at SNP $k$."
   ]
  },
  {
   "cell_type": "markdown",
   "metadata": {},
   "source": [
    "## Calculate the GRM matrix\n",
    "\n",
    "By default, `grm` excludes SNPs with maf < 0.01."
   ]
  },
  {
   "cell_type": "code",
   "execution_count": 15,
   "metadata": {
    "scrolled": true
   },
   "outputs": [
    {
     "data": {
      "text/plain": [
       "212×212 Array{Float64,2}:\n",
       "  0.488859      0.00422798    0.00978752   …   0.0187809     0.000152741\n",
       "  0.00422798    0.515141     -0.0190676       -0.0220944    -0.0162381  \n",
       "  0.00978752   -0.0190676     0.489156        -0.0143552    -0.00392193 \n",
       "  0.241927     -0.00231651    0.266756         0.00264766   -0.00334162 \n",
       "  0.124909      0.265109      0.12103         -0.0118053    -0.00641433 \n",
       " -0.0121766    -0.000271784  -0.00316506   …  -0.000629837   0.0103776  \n",
       " -0.011988      0.00845464   -0.00950518      -0.0105435     0.000340285\n",
       " -0.0134368    -0.00713175   -0.0101011       -0.0115942    -0.00288935 \n",
       " -0.0234305    -0.00241126   -0.010413         0.000129339   0.0166282  \n",
       " -0.0121471     0.00305141   -0.00754556      -0.0104162     0.00554306 \n",
       " -0.0128464     0.010258      0.00110475   …  -0.00424998    0.0124296  \n",
       " -0.0111854     0.00423488   -0.0117065       -0.0244977    -0.00698659 \n",
       " -0.0124607    -0.00575043   -0.0124951       -0.00573017   -0.0103429  \n",
       "  ⋮                                        ⋱   ⋮                        \n",
       " -0.0170331    -0.0136246    -0.00834008   …  -0.00761561   -0.012038   \n",
       " -0.0100435    -0.00757905   -0.00879137       0.0151941     0.00464083 \n",
       " -0.0119478    -0.011707     -0.0119966       -0.00531199   -0.0233153  \n",
       " -0.00406636    0.00823632    0.00260479       0.00329892    0.00873774 \n",
       " -0.00215359    0.0120041    -0.002889        -0.00294264   -0.00290955 \n",
       "  0.00353341   -0.00200184   -0.00346206   …   0.0240445     0.0224584  \n",
       " -0.0132247    -0.00736188    0.000399022     -0.0115962     0.00801023 \n",
       "  0.0136135     0.014919      0.0146852        0.00611176    0.00984425 \n",
       " -0.00763248   -0.00216137    0.0227918        0.00711085   -0.0159608  \n",
       "  0.000154845  -0.0142528     0.0109832        0.00490078    0.00924588 \n",
       "  0.0187809    -0.0220944    -0.0143552    …   0.556933      0.0380902  \n",
       "  0.000152741  -0.0162381    -0.00392193       0.0380902     0.502935   "
      ]
     },
     "execution_count": 15,
     "metadata": {},
     "output_type": "execute_result"
    }
   ],
   "source": [
    "Î¦grm_snp28_1 = grm(snpbin28_1)"
   ]
  },
  {
   "cell_type": "markdown",
   "metadata": {},
   "source": [
    "We need to locate SNP rs11672206 and find that it is the 236079th SNP in the file. "
   ]
  },
  {
   "cell_type": "code",
   "execution_count": 17,
   "metadata": {},
   "outputs": [
    {
     "data": {
      "text/plain": [
       "236079"
      ]
     },
     "execution_count": 17,
     "metadata": {},
     "output_type": "execute_result"
    }
   ],
   "source": [
    "ind_rs11672206 = find(x -> x == \"rs11672206\", snpid)[1]"
   ]
  },
  {
   "cell_type": "code",
   "execution_count": 18,
   "metadata": {},
   "outputs": [
    {
     "data": {
      "text/plain": [
       "212-element Array{Float64,1}:\n",
       " 0.0\n",
       " 2.0\n",
       " 0.0\n",
       " 0.0\n",
       " 1.0\n",
       " 1.0\n",
       " 0.0\n",
       " 0.0\n",
       " 1.0\n",
       " 1.0\n",
       " 1.0\n",
       " 1.0\n",
       " 1.0\n",
       " ⋮  \n",
       " 1.0\n",
       " 1.0\n",
       " 1.0\n",
       " 1.0\n",
       " 0.0\n",
       " 1.0\n",
       " 1.0\n",
       " 1.0\n",
       " 0.0\n",
       " 1.0\n",
       " 0.0\n",
       " 1.0"
      ]
     },
     "execution_count": 18,
     "metadata": {},
     "output_type": "execute_result"
    }
   ],
   "source": [
    "snp_rs11672206 = convert(Array{Float64,1}, snpbin28_1[:, ind_rs11672206])"
   ]
  },
  {
   "cell_type": "markdown",
   "metadata": {},
   "source": [
    "## Example 1 MR when there is a direct effect of exposure on trait. "
   ]
  },
  {
   "cell_type": "code",
   "execution_count": 21,
   "metadata": {
    "scrolled": true
   },
   "outputs": [
    {
     "name": "stdout",
     "output_type": "stream",
     "text": [
      "\n",
      "******************************************************************************\n",
      "This program contains Ipopt, a library for large-scale nonlinear optimization.\n",
      " Ipopt is released as open source code under the Eclipse Public License (EPL).\n",
      "         For more information visit http://projects.coin-or.org/Ipopt\n",
      "******************************************************************************\n",
      "\n",
      "MR direct effects (SE): 1.9758033020896233(0.4044635920194066), Pvalue is 1.0343059935417672e-6\n",
      "\n",
      "Exposure effect (SE) is: 2.5214901400747523(0.3269495431167835)\n",
      "\n",
      "Trait effect (SE) is: 4.981968544946122(0.7891739351684997)\n",
      "\n"
     ]
    },
    {
     "data": {
      "text/plain": [
       "(1.9758033020896233, 0.4044635920194066)"
      ]
     },
     "execution_count": 21,
     "metadata": {},
     "output_type": "execute_result"
    }
   ],
   "source": [
    "###### First Example MR####\n",
    "MendelianRandomization(Y_1, [ones(length(Y_1), 1) sex_1], snp_rs11672206, exp_1, Î¦grm_snp28_1)"
   ]
  },
  {
   "cell_type": "markdown",
   "metadata": {},
   "source": [
    "In this example, The mean exposure level is 40, males have mean value of 43 and females have a mean value of 37, the effect of the IV on the exposure was simulated increase the exposure level 2.5 units per 2 allele and the heritability of the exposure is 67%.  The exposure level is estimated to be 2.52 sd = 0.79, which is very close to this value. "
   ]
  },
  {
   "cell_type": "markdown",
   "metadata": {},
   "source": [
    "We also simulated a direct effect of the exposure on the trait of 2 units per unit of exposure.  The MR direct effect is very close to this value (1.96 sd = 0.40) and leads to inference of a direct effect of exposure on the trait. In this case we conduct the regression of trait on exposure we get a very similar result mean = 1.95. We can see however that the MR estimate has a bigger sd - this is due to estimating the value as a two step procedure and so one might think the regression of trait on exposure is preferable. Although it is in this case, it is not when there is confounding (example 2)."
   ]
  },
  {
   "cell_type": "code",
   "execution_count": 22,
   "metadata": {},
   "outputs": [
    {
     "data": {
      "text/plain": [
       "(1.9471633422983434, 0.059848806495791294)"
      ]
     },
     "execution_count": 22,
     "metadata": {},
     "output_type": "execute_result"
    }
   ],
   "source": [
    "###### First Example Exposure Effect on Trait using VCM ####\n",
    "X = [ones(length(Y_1), 1) sex_1]\n",
    "exposure = exp_1\n",
    "outcome = Y_1\n",
    "ΦGRM = Î¦grm_snp28_1\n",
    "ExposureEffectVCM(outcome, X, exposure, ΦGRM)"
   ]
  },
  {
   "cell_type": "markdown",
   "metadata": {},
   "source": [
    "# Example 2:  Confounding - No Direct Effect of Exposure on Trait."
   ]
  },
  {
   "cell_type": "markdown",
   "metadata": {},
   "source": [
    "In this example we use the Ped28exptrait2.out data file, simulated under the scenario where there is still a strong IV but any association between the trait and the environmental predictor is due to confounding. "
   ]
  },
  {
   "cell_type": "markdown",
   "metadata": {},
   "source": [
    "## Mendel Option 28 data\n",
    "\n",
    "Take a look at the pedigree file.\n",
    "columns are: :famid, :id, :moid, :faid, :sex, :twin, :exp2, :simtrait2"
   ]
  },
  {
   "cell_type": "markdown",
   "metadata": {},
   "source": [
    "Read in the pedigree file. This file is in the classic Mendel format, Family Id, Person ID, Father ID, Mother Id, sex as F (female) or M (male), monozygotic twin indicator, exposure 2 and simtrait 2. "
   ]
  },
  {
   "cell_type": "code",
   "execution_count": 23,
   "metadata": {},
   "outputs": [
    {
     "data": {
      "text/plain": [
       "212×9 Array{Any,2}:\n",
       "     1     16       \"          \"  …  \"          \"  32.1022  14.7783  \"\"\n",
       "     1   8228       \"          \"     \"          \"  32.0522  16.6838  \"\"\n",
       "     1  17008       \"          \"     \"          \"  45.3005  21.6456  \"\"\n",
       "     1   9218  17008                 \"          \"  43.4727  24.2119  \"\"\n",
       "     1   3226   9218                 \"          \"  37.7578  20.511   \"\"\n",
       "     2     29       \"          \"  …  \"          \"  36.9209  17.0922  \"\"\n",
       "     2   2294       \"          \"     \"          \"  43.3864  20.414   \"\"\n",
       "     2   3416       \"          \"     \"          \"  45.7102  23.3037  \"\"\n",
       "     2  17893   2294                 \"          \"  33.4674  15.3641  \"\"\n",
       "     2   6952   3416                 \"          \"  39.5669  21.3321  \"\"\n",
       "     2  14695   2294              …  \"          \"  30.7948  16.3268  \"\"\n",
       "     2   6790   2294                 \"          \"  38.5657  22.479   \"\"\n",
       "     2   3916   2294                 \"          \"  34.3997  17.2739  \"\"\n",
       "     ⋮                            ⋱  ⋮                                 \n",
       "    31   9277   4257              …  \"          \"  43.8188  20.6551  \"\"\n",
       "    31  16139   4257                 \"          \"  38.916   17.9165  \"\"\n",
       "    31  10439   4257                 \"          \"  40.7922  23.3292  \"\"\n",
       "    31     63  17673                 \"          \"  34.847   13.2469  \"\"\n",
       " 10006     66       \"          \"     \"          \"  41.9567  23.4621  \"\"\n",
       " 10008     92       \"          \"  …  \"          \"  39.7982  20.5745  \"\"\n",
       " 10014    186       \"          \"     \"          \"  39.3295  20.8389  \"\"\n",
       " 10027    374       \"          \"     \"          \"  38.8928  16.6698  \"\"\n",
       " 10029    434       \"          \"     \"          \"  46.2767  26.1484  \"\"\n",
       " 10033    333       \"          \"     \"          \"  42.8913  23.4916  \"\"\n",
       " 10040    234       \"          \"  …  \"          \"  44.5806  23.3856  \"\"\n",
       " 10045    789       \"          \"     \"          \"  38.9998  22.224   \"\""
      ]
     },
     "execution_count": 23,
     "metadata": {},
     "output_type": "execute_result"
    }
   ],
   "source": [
    "# columns are: :famid, :id, :moid, :faid, :sex, :twin, :simtrait1, :simtrait2\n",
    "ped28_2 = readcsv(\"Ped28exptrait2.out\", Any; header = false)"
   ]
  },
  {
   "cell_type": "markdown",
   "metadata": {},
   "source": [
    "We don't need to retain the ids so we retrieve the phenotype data and put them in Y_2 and exp_2, to be used as the respective outcome and exposure in example 2."
   ]
  },
  {
   "cell_type": "code",
   "execution_count": 24,
   "metadata": {},
   "outputs": [
    {
     "data": {
      "text/plain": [
       "212×2 Array{Float64,2}:\n",
       " 32.1022  14.7783\n",
       " 32.0522  16.6838\n",
       " 45.3005  21.6456\n",
       " 43.4727  24.2119\n",
       " 37.7578  20.511 \n",
       " 36.9209  17.0922\n",
       " 43.3864  20.414 \n",
       " 45.7102  23.3037\n",
       " 33.4674  15.3641\n",
       " 39.5669  21.3321\n",
       " 30.7948  16.3268\n",
       " 38.5657  22.479 \n",
       " 34.3997  17.2739\n",
       "  ⋮              \n",
       " 43.8188  20.6551\n",
       " 38.916   17.9165\n",
       " 40.7922  23.3292\n",
       " 34.847   13.2469\n",
       " 41.9567  23.4621\n",
       " 39.7982  20.5745\n",
       " 39.3295  20.8389\n",
       " 38.8928  16.6698\n",
       " 46.2767  26.1484\n",
       " 42.8913  23.4916\n",
       " 44.5806  23.3856\n",
       " 38.9998  22.224 "
      ]
     },
     "execution_count": 24,
     "metadata": {},
     "output_type": "execute_result"
    }
   ],
   "source": [
    "exp_2 = convert(Vector{Float64}, ped28_2[:, 7])\n",
    "Y_2 = convert(Vector{Float64}, ped28_2[:, 8])\n",
    "Exposure_Trait2 = [exp_2 Y_2]"
   ]
  },
  {
   "cell_type": "markdown",
   "metadata": {},
   "source": [
    "Retrieve sex data coded as 0 (male) or 1 (female) so male is the reference group."
   ]
  },
  {
   "cell_type": "code",
   "execution_count": 25,
   "metadata": {},
   "outputs": [
    {
     "data": {
      "text/plain": [
       "212-element Array{Float64,1}:\n",
       " 1.0\n",
       " 1.0\n",
       " 0.0\n",
       " 0.0\n",
       " 1.0\n",
       " 1.0\n",
       " 0.0\n",
       " 0.0\n",
       " 1.0\n",
       " 0.0\n",
       " 1.0\n",
       " 0.0\n",
       " 1.0\n",
       " ⋮  \n",
       " 0.0\n",
       " 0.0\n",
       " 0.0\n",
       " 1.0\n",
       " 0.0\n",
       " 0.0\n",
       " 0.0\n",
       " 0.0\n",
       " 0.0\n",
       " 0.0\n",
       " 0.0\n",
       " 0.0"
      ]
     },
     "execution_count": 25,
     "metadata": {},
     "output_type": "execute_result"
    }
   ],
   "source": [
    "sex_2 = map(x -> strip(x) == \"F\"? 1.0 : 0.0, ped28_2[:, 5])"
   ]
  },
  {
   "cell_type": "markdown",
   "metadata": {},
   "source": [
    "Read in the SNP definition file, skipping the first 2 lines."
   ]
  },
  {
   "cell_type": "code",
   "execution_count": 26,
   "metadata": {},
   "outputs": [
    {
     "data": {
      "text/plain": [
       "253141×6 Array{Any,2}:\n",
       " \"rs3020701       \"  19     90974  1  2  \"\"\n",
       " \"rs56343121      \"  19     91106  1  2  \"\"\n",
       " \"rs143501051     \"  19     93542  1  2  \"\"\n",
       " \"rs56182540      \"  19     95981  1  2  \"\"\n",
       " \"rs7260412       \"  19    105021  1  2  \"\"\n",
       " \"rs11669393      \"  19    107866  1  2  \"\"\n",
       " \"rs181646587     \"  19    107894  1  2  \"\"\n",
       " \"rs8106297       \"  19    107958  1  2  \"\"\n",
       " \"rs8106302       \"  19    107962  1  2  \"\"\n",
       " \"rs183568620     \"  19    107987  1  2  \"\"\n",
       " \"rs186451972     \"  19    108003  1  2  \"\"\n",
       " \"rs189699222     \"  19    108032  1  2  \"\"\n",
       " \"rs182902214     \"  19    108090  1  2  \"\"\n",
       " ⋮                                       ⋮ \n",
       " \"rs188169422     \"  19  59116080  1  2  \"\"\n",
       " \"rs144587467     \"  19  59117729  1  2  \"\"\n",
       " \"rs139879509     \"  19  59117949  1  2  \"\"\n",
       " \"rs143250448     \"  19  59117982  1  2  \"\"\n",
       " \"rs145384750     \"  19  59118028  1  2  \"\"\n",
       " \"rs149215836     \"  19  59118040  1  2  \"\"\n",
       " \"rs139221927     \"  19  59118044  1  2  \"\"\n",
       " \"rs181848453     \"  19  59118114  1  2  \"\"\n",
       " \"rs138318162     \"  19  59118148  1  2  \"\"\n",
       " \"rs186913222     \"  19  59118616  1  2  \"\"\n",
       " \"rs141816674     \"  19  59118779  1  2  \"\"\n",
       " \"rs150801216     \"  19  59118783  1  2  \"\""
      ]
     },
     "execution_count": 26,
     "metadata": {},
     "output_type": "execute_result"
    }
   ],
   "source": [
    "# columns are: :snpid, :chrom, :pos, :allele1, :allele2, :groupname\n",
    "snpdef28_2 = readcsv(\"SNP_def28exptrait2.out\", Any; skipstart = 2, header = false)"
   ]
  },
  {
   "cell_type": "markdown",
   "metadata": {},
   "source": [
    "We will be analyzing a single SNP (rather than taking into account LD) so we don't need the position of the snps just the SNP IDs so we retrieve SNP IDs."
   ]
  },
  {
   "cell_type": "code",
   "execution_count": 27,
   "metadata": {},
   "outputs": [
    {
     "data": {
      "text/plain": [
       "253141-element Array{AbstractString,1}:\n",
       " \"rs3020701\"  \n",
       " \"rs56343121\" \n",
       " \"rs143501051\"\n",
       " \"rs56182540\" \n",
       " \"rs7260412\"  \n",
       " \"rs11669393\" \n",
       " \"rs181646587\"\n",
       " \"rs8106297\"  \n",
       " \"rs8106302\"  \n",
       " \"rs183568620\"\n",
       " \"rs186451972\"\n",
       " \"rs189699222\"\n",
       " \"rs182902214\"\n",
       " ⋮            \n",
       " \"rs188169422\"\n",
       " \"rs144587467\"\n",
       " \"rs139879509\"\n",
       " \"rs143250448\"\n",
       " \"rs145384750\"\n",
       " \"rs149215836\"\n",
       " \"rs139221927\"\n",
       " \"rs181848453\"\n",
       " \"rs138318162\"\n",
       " \"rs186913222\"\n",
       " \"rs141816674\"\n",
       " \"rs150801216\""
      ]
     },
     "execution_count": 27,
     "metadata": {},
     "output_type": "execute_result"
    }
   ],
   "source": [
    "snpid_2 = map(x -> strip(string(x)), snpdef28_2[:, 1])"
   ]
  },
  {
   "cell_type": "markdown",
   "metadata": {},
   "source": [
    "Read in the SNP binary file using the SnpArray.jl package. \n",
    "#### Again it is very important to use the bed file that corresponds to the fam and snp definition file. "
   ]
  },
  {
   "cell_type": "code",
   "execution_count": 28,
   "metadata": {},
   "outputs": [
    {
     "name": "stderr",
     "output_type": "stream",
     "text": [
      "ln: ./SNP_data28exptrait2.bed: File exists\n"
     ]
    }
   ],
   "source": [
    ";ln -s ./SNP_data28exptrait2.bin ./SNP_data28exptrait2.bed"
   ]
  },
  {
   "cell_type": "code",
   "execution_count": 29,
   "metadata": {},
   "outputs": [
    {
     "name": "stderr",
     "output_type": "stream",
     "text": [
      "\u001b[1m\u001b[36mINFO: \u001b[39m\u001b[22m\u001b[36mv1.0 BED file detected\n",
      "\u001b[39m"
     ]
    },
    {
     "data": {
      "text/plain": [
       "212×253141 SnpArrays.SnpArray{2}:\n",
       " (true, true)  (true, true)   …  (true, true)    (false, false)\n",
       " (true, true)  (true, true)      (true, true)    (false, false)\n",
       " (true, true)  (true, true)      (true, true)    (false, false)\n",
       " (true, true)  (true, true)      (true, true)    (false, false)\n",
       " (true, true)  (true, true)      (true, true)    (false, false)\n",
       " (true, true)  (true, true)   …  (false, false)  (true, true)  \n",
       " (true, true)  (false, true)     (false, false)  (true, true)  \n",
       " (true, true)  (true, true)      (false, false)  (true, true)  \n",
       " (true, true)  (false, true)     (false, false)  (true, true)  \n",
       " (true, true)  (false, true)     (false, false)  (true, true)  \n",
       " (true, true)  (false, true)  …  (false, false)  (true, true)  \n",
       " (true, true)  (true, true)      (false, false)  (true, true)  \n",
       " (true, true)  (false, true)     (false, false)  (true, true)  \n",
       " ⋮                            ⋱                  ⋮             \n",
       " (true, true)  (true, true)   …  (true, true)    (false, false)\n",
       " (true, true)  (true, true)      (false, true)   (false, true) \n",
       " (true, true)  (true, true)      (true, true)    (false, false)\n",
       " (true, true)  (false, true)     (false, false)  (true, true)  \n",
       " (true, true)  (true, true)      (true, true)    (false, false)\n",
       " (true, true)  (true, true)   …  (false, true)   (false, false)\n",
       " (true, true)  (true, true)      (false, true)   (false, true) \n",
       " (true, true)  (true, true)      (true, true)    (false, false)\n",
       " (true, true)  (false, true)     (false, true)   (false, true) \n",
       " (true, true)  (true, true)      (true, true)    (false, false)\n",
       " (true, true)  (true, true)   …  (true, true)    (false, false)\n",
       " (true, true)  (true, true)      (false, true)   (false, true) "
      ]
     },
     "execution_count": 29,
     "metadata": {},
     "output_type": "execute_result"
    }
   ],
   "source": [
    "snpbin28_2 = SnpArray(\"SNP_data28exptrait2.bed\"; people = size(ped28_2, 1), snps = size(snpdef28_2, 1))"
   ]
  },
  {
   "cell_type": "code",
   "execution_count": 30,
   "metadata": {},
   "outputs": [
    {
     "data": {
      "text/plain": [
       "212×212 Array{Float64,2}:\n",
       "  0.488859      0.00422798    0.00978752   …   0.0187809     0.000152741\n",
       "  0.00422798    0.515141     -0.0190676       -0.0220944    -0.0162381  \n",
       "  0.00978752   -0.0190676     0.489156        -0.0143552    -0.00392193 \n",
       "  0.241927     -0.00231651    0.266756         0.00264766   -0.00334162 \n",
       "  0.124909      0.265109      0.12103         -0.0118053    -0.00641433 \n",
       " -0.0121766    -0.000271784  -0.00316506   …  -0.000629837   0.0103776  \n",
       " -0.011988      0.00845464   -0.00950518      -0.0105435     0.000340285\n",
       " -0.0134368    -0.00713175   -0.0101011       -0.0115942    -0.00288935 \n",
       " -0.0111854     0.00423488   -0.0117065       -0.0244977    -0.00698659 \n",
       " -0.0124607    -0.00575043   -0.0124951       -0.00573017   -0.0103429  \n",
       " -0.0128464     0.010258      0.00110475   …  -0.00424998    0.0124296  \n",
       " -0.0121471     0.00305141   -0.00754556      -0.0104162     0.00554306 \n",
       " -0.0234305    -0.00241126   -0.010413         0.000129339   0.0166282  \n",
       "  ⋮                                        ⋱   ⋮                        \n",
       "  0.000390703  -0.00829937   -0.0134343    …   0.00203895   -0.0193534  \n",
       "  0.00338078    0.00116913   -0.0137822       -0.000709205   0.00437081 \n",
       " -0.0131106    -0.0246602    -0.00377814      -0.0167851    -0.0115794  \n",
       " -0.016104     -0.014253     -0.0132132       -0.023015      0.000196427\n",
       " -0.00215359    0.0120041    -0.002889        -0.00294264   -0.00290955 \n",
       "  0.00353341   -0.00200184   -0.00346206   …   0.0240445     0.0224584  \n",
       " -0.0132247    -0.00736188    0.000399022     -0.0115962     0.00801023 \n",
       "  0.0136135     0.014919      0.0146852        0.00611176    0.00984425 \n",
       " -0.00763248   -0.00216137    0.0227918        0.00711085   -0.0159608  \n",
       "  0.000154845  -0.0142528     0.0109832        0.00490078    0.00924588 \n",
       "  0.0187809    -0.0220944    -0.0143552    …   0.556933      0.0380902  \n",
       "  0.000152741  -0.0162381    -0.00392193       0.0380902     0.502935   "
      ]
     },
     "execution_count": 30,
     "metadata": {},
     "output_type": "execute_result"
    }
   ],
   "source": [
    "Î¦grm_snp28_2 = grm(snpbin28_2)"
   ]
  },
  {
   "cell_type": "code",
   "execution_count": 32,
   "metadata": {},
   "outputs": [
    {
     "data": {
      "text/plain": [
       "236079"
      ]
     },
     "execution_count": 32,
     "metadata": {},
     "output_type": "execute_result"
    }
   ],
   "source": [
    "ind_rs11672206_2 = find(x -> x == \"rs11672206\", snpid_2)[1]"
   ]
  },
  {
   "cell_type": "code",
   "execution_count": 33,
   "metadata": {},
   "outputs": [
    {
     "data": {
      "text/plain": [
       "212-element Array{Float64,1}:\n",
       " 0.0\n",
       " 2.0\n",
       " 0.0\n",
       " 0.0\n",
       " 1.0\n",
       " 1.0\n",
       " 0.0\n",
       " 0.0\n",
       " 1.0\n",
       " 1.0\n",
       " 1.0\n",
       " 1.0\n",
       " 1.0\n",
       " ⋮  \n",
       " 0.0\n",
       " 1.0\n",
       " 0.0\n",
       " 1.0\n",
       " 0.0\n",
       " 1.0\n",
       " 1.0\n",
       " 1.0\n",
       " 0.0\n",
       " 1.0\n",
       " 0.0\n",
       " 1.0"
      ]
     },
     "execution_count": 33,
     "metadata": {},
     "output_type": "execute_result"
    }
   ],
   "source": [
    "snp_rs11672206_2 = convert(Array{Float64,1}, snpbin28_2[:, ind_rs11672206_2])"
   ]
  },
  {
   "cell_type": "markdown",
   "metadata": {},
   "source": [
    "## Example 2 Mendelian Randomization VCM:"
   ]
  },
  {
   "cell_type": "code",
   "execution_count": 34,
   "metadata": {},
   "outputs": [
    {
     "name": "stdout",
     "output_type": "stream",
     "text": [
      "MR direct effects (SE): 0.24374813445595547(0.1523385536136043), Pvalue is 0.10958919289246363\n",
      "\n",
      "Exposure effect (SE) is: -1.8980279594308567(0.25670960108586244)\n",
      "\n",
      "Trait effect (SE) is: -0.46264077425651523(0.2822910952147574)\n",
      "\n"
     ]
    },
    {
     "data": {
      "text/plain": [
       "(0.24374813445595547, 0.1523385536136043)"
      ]
     },
     "execution_count": 34,
     "metadata": {},
     "output_type": "execute_result"
    }
   ],
   "source": [
    "#Example 2\n",
    "MendelianRandomization(Y_2, [ones(length(Y_2), 1) sex_2], snp_rs11672206_2, exp_2, Î¦grm_snp28_2)"
   ]
  },
  {
   "cell_type": "markdown",
   "metadata": {},
   "source": [
    "Again we simulated the effect of the IV on exposure to be strong. In this case, \n",
    "each 2 allele of the SNP reduces the exposure by -1.5 units. We simulated the trait and exposure so that they are correlated but due to unmeasured confounders not due to a direct effect. \n"
   ]
  },
  {
   "cell_type": "code",
   "execution_count": 35,
   "metadata": {},
   "outputs": [
    {
     "data": {
      "text/plain": [
       "(0.4994751780732781, 0.05399663242249682)"
      ]
     },
     "execution_count": 35,
     "metadata": {},
     "output_type": "execute_result"
    }
   ],
   "source": [
    "###### Second Example Exposure Effect on Trait using VCM ####\n",
    "X = [ones(length(Y_2), 1) sex_2]\n",
    "exposure = exp_2\n",
    "outcome = Y_2\n",
    "ΦGRM = Î¦grm_snp28_2\n",
    "ExposureEffectVCM(outcome, X, exposure, ΦGRM)"
   ]
  },
  {
   "cell_type": "markdown",
   "metadata": {},
   "source": [
    "Regressing trait on exposure in this case, would lead a research to think that the exposure effects the trait but in fact, from the MR analysis we can see there is little evidence of a direct effect."
   ]
  },
  {
   "cell_type": "markdown",
   "metadata": {},
   "source": [
    "# 3rd Example: Direct effect of exposure on trait exists but the IV is weak. "
   ]
  },
  {
   "cell_type": "markdown",
   "metadata": {},
   "source": [
    "In this example we use the Ped28trait3.out data file, simulated under the scenario where the genetic marker is a weak IV to demonstrate the problem of violating one of the essential assumptions of MR."
   ]
  },
  {
   "cell_type": "code",
   "execution_count": 45,
   "metadata": {},
   "outputs": [
    {
     "data": {
      "text/plain": [
       "212×9 Array{Any,2}:\n",
       "     1     16       \"          \"  …  \"          \"  40.1878  214.434  \"\"\n",
       "     1   8228       \"          \"     \"          \"  47.0623  250.469  \"\"\n",
       "     1  17008       \"          \"     \"          \"  44.8772  249.917  \"\"\n",
       "     1   9218  17008                 \"          \"  41.4107  231.419  \"\"\n",
       "     1   3226   9218                 \"          \"  40.3835  217.034  \"\"\n",
       "     2     29       \"          \"  …  \"          \"  39.6165  212.84   \"\"\n",
       "     2   2294       \"          \"     \"          \"  38.8691  220.87   \"\"\n",
       "     2   3416       \"          \"     \"          \"  48.9882  271.711  \"\"\n",
       "     2   3916   2294                 \"          \"  45.129   240.725  \"\"\n",
       "     2   6790   2294                 \"          \"  43.2185  240.717  \"\"\n",
       "     2  14695   2294              …  \"          \"  38.846   210.021  \"\"\n",
       "     2  17893   2294                 \"          \"  43.9826  234.954  \"\"\n",
       "     2   6952   3416                 \"          \"  50.7849  280.457  \"\"\n",
       "     ⋮                            ⋱  ⋮                                 \n",
       "    31  24385  23058              …  \"          \"  41.1275  231.582  \"\"\n",
       "    31  21403  27016                 \"          \"  38.5637  208.184  \"\"\n",
       "    31   1365  23058                 \"          \"  35.6761  192.605  \"\"\n",
       "    31  19392  26817                 \"          \"  32.7235  179.584  \"\"\n",
       " 10006     66       \"          \"     \"          \"  37.7896  217.257  \"\"\n",
       " 10008     92       \"          \"  …  \"          \"  38.5346  219.802  \"\"\n",
       " 10014    186       \"          \"     \"          \"  45.7092  252.089  \"\"\n",
       " 10027    374       \"          \"     \"          \"  37.4253  209.743  \"\"\n",
       " 10029    434       \"          \"     \"          \"  45.5548  254.076  \"\"\n",
       " 10033    333       \"          \"     \"          \"  46.7553  258.965  \"\"\n",
       " 10040    234       \"          \"  …  \"          \"  49.9749  271.941  \"\"\n",
       " 10045    789       \"          \"     \"          \"  44.6052  246.865  \"\""
      ]
     },
     "execution_count": 45,
     "metadata": {},
     "output_type": "execute_result"
    }
   ],
   "source": [
    "ped28_3 = readcsv(\"Ped28trait3.out\", Any; header = false)"
   ]
  },
  {
   "cell_type": "code",
   "execution_count": 46,
   "metadata": {},
   "outputs": [
    {
     "data": {
      "text/plain": [
       "212-element Array{Float64,1}:\n",
       " 40.1878\n",
       " 47.0623\n",
       " 44.8772\n",
       " 41.4107\n",
       " 40.3835\n",
       " 39.6165\n",
       " 38.8691\n",
       " 48.9882\n",
       " 45.129 \n",
       " 43.2185\n",
       " 38.846 \n",
       " 43.9826\n",
       " 50.7849\n",
       "  ⋮     \n",
       " 41.1275\n",
       " 38.5637\n",
       " 35.6761\n",
       " 32.7235\n",
       " 37.7896\n",
       " 38.5346\n",
       " 45.7092\n",
       " 37.4253\n",
       " 45.5548\n",
       " 46.7553\n",
       " 49.9749\n",
       " 44.6052"
      ]
     },
     "execution_count": 46,
     "metadata": {},
     "output_type": "execute_result"
    }
   ],
   "source": [
    "exp_3 = convert(Array{Float64,1}, ped28_3[:, 7])"
   ]
  },
  {
   "cell_type": "code",
   "execution_count": 47,
   "metadata": {},
   "outputs": [
    {
     "data": {
      "text/plain": [
       "212-element Array{Float64,1}:\n",
       " 214.434\n",
       " 250.469\n",
       " 249.917\n",
       " 231.419\n",
       " 217.034\n",
       " 212.84 \n",
       " 220.87 \n",
       " 271.711\n",
       " 240.725\n",
       " 240.717\n",
       " 210.021\n",
       " 234.954\n",
       " 280.457\n",
       "   ⋮    \n",
       " 231.582\n",
       " 208.184\n",
       " 192.605\n",
       " 179.584\n",
       " 217.257\n",
       " 219.802\n",
       " 252.089\n",
       " 209.743\n",
       " 254.076\n",
       " 258.965\n",
       " 271.941\n",
       " 246.865"
      ]
     },
     "execution_count": 47,
     "metadata": {},
     "output_type": "execute_result"
    }
   ],
   "source": [
    "Y_3 = convert(Array{Float64,1}, ped28_3[:, 8])"
   ]
  },
  {
   "cell_type": "code",
   "execution_count": 48,
   "metadata": {},
   "outputs": [
    {
     "data": {
      "text/plain": [
       "212-element Array{Float64,1}:\n",
       " 1.0\n",
       " 1.0\n",
       " 0.0\n",
       " 0.0\n",
       " 1.0\n",
       " 1.0\n",
       " 0.0\n",
       " 0.0\n",
       " 1.0\n",
       " 0.0\n",
       " 1.0\n",
       " 1.0\n",
       " 0.0\n",
       " ⋮  \n",
       " 0.0\n",
       " 1.0\n",
       " 1.0\n",
       " 1.0\n",
       " 0.0\n",
       " 0.0\n",
       " 0.0\n",
       " 0.0\n",
       " 0.0\n",
       " 0.0\n",
       " 0.0\n",
       " 0.0"
      ]
     },
     "execution_count": 48,
     "metadata": {},
     "output_type": "execute_result"
    }
   ],
   "source": [
    "sex_3 = map(x -> strip(x) == \"F\"? 1.0 : 0.0, ped28_3[:, 5])"
   ]
  },
  {
   "cell_type": "code",
   "execution_count": 49,
   "metadata": {},
   "outputs": [
    {
     "data": {
      "text/plain": [
       "253141×6 Array{Any,2}:\n",
       " \"rs3020701       \"  19     90974  1  2  \"\"\n",
       " \"rs56343121      \"  19     91106  1  2  \"\"\n",
       " \"rs143501051     \"  19     93542  1  2  \"\"\n",
       " \"rs56182540      \"  19     95981  1  2  \"\"\n",
       " \"rs7260412       \"  19    105021  1  2  \"\"\n",
       " \"rs11669393      \"  19    107866  1  2  \"\"\n",
       " \"rs181646587     \"  19    107894  1  2  \"\"\n",
       " \"rs8106297       \"  19    107958  1  2  \"\"\n",
       " \"rs8106302       \"  19    107962  1  2  \"\"\n",
       " \"rs183568620     \"  19    107987  1  2  \"\"\n",
       " \"rs186451972     \"  19    108003  1  2  \"\"\n",
       " \"rs189699222     \"  19    108032  1  2  \"\"\n",
       " \"rs182902214     \"  19    108090  1  2  \"\"\n",
       " ⋮                                       ⋮ \n",
       " \"rs188169422     \"  19  59116080  1  2  \"\"\n",
       " \"rs144587467     \"  19  59117729  1  2  \"\"\n",
       " \"rs139879509     \"  19  59117949  1  2  \"\"\n",
       " \"rs143250448     \"  19  59117982  1  2  \"\"\n",
       " \"rs145384750     \"  19  59118028  1  2  \"\"\n",
       " \"rs149215836     \"  19  59118040  1  2  \"\"\n",
       " \"rs139221927     \"  19  59118044  1  2  \"\"\n",
       " \"rs181848453     \"  19  59118114  1  2  \"\"\n",
       " \"rs138318162     \"  19  59118148  1  2  \"\"\n",
       " \"rs186913222     \"  19  59118616  1  2  \"\"\n",
       " \"rs141816674     \"  19  59118779  1  2  \"\"\n",
       " \"rs150801216     \"  19  59118783  1  2  \"\""
      ]
     },
     "execution_count": 49,
     "metadata": {},
     "output_type": "execute_result"
    }
   ],
   "source": [
    "snpdef28_3 = readcsv(\"SNP_def28trait3.out\", Any; skipstart = 2, header = false)"
   ]
  },
  {
   "cell_type": "code",
   "execution_count": 50,
   "metadata": {},
   "outputs": [
    {
     "data": {
      "text/plain": [
       "253141-element Array{AbstractString,1}:\n",
       " \"rs3020701\"  \n",
       " \"rs56343121\" \n",
       " \"rs143501051\"\n",
       " \"rs56182540\" \n",
       " \"rs7260412\"  \n",
       " \"rs11669393\" \n",
       " \"rs181646587\"\n",
       " \"rs8106297\"  \n",
       " \"rs8106302\"  \n",
       " \"rs183568620\"\n",
       " \"rs186451972\"\n",
       " \"rs189699222\"\n",
       " \"rs182902214\"\n",
       " ⋮            \n",
       " \"rs188169422\"\n",
       " \"rs144587467\"\n",
       " \"rs139879509\"\n",
       " \"rs143250448\"\n",
       " \"rs145384750\"\n",
       " \"rs149215836\"\n",
       " \"rs139221927\"\n",
       " \"rs181848453\"\n",
       " \"rs138318162\"\n",
       " \"rs186913222\"\n",
       " \"rs141816674\"\n",
       " \"rs150801216\""
      ]
     },
     "execution_count": 50,
     "metadata": {},
     "output_type": "execute_result"
    }
   ],
   "source": [
    "snpid = map(x -> strip(string(x)), snpdef28_3[:, 1])"
   ]
  },
  {
   "cell_type": "code",
   "execution_count": 51,
   "metadata": {},
   "outputs": [
    {
     "name": "stderr",
     "output_type": "stream",
     "text": [
      "ln: ./SNP_data28d_trait3.bed: File exists\n"
     ]
    }
   ],
   "source": [
    ";ln -s ./SNP_data28d_trait3.bin ./SNP_data28d_trait3.bed"
   ]
  },
  {
   "cell_type": "markdown",
   "metadata": {},
   "source": [
    "Again remember to use the SNP bed file that corresponds to the fam file and snp ids ordering or you can get incorrect results."
   ]
  },
  {
   "cell_type": "code",
   "execution_count": 52,
   "metadata": {},
   "outputs": [
    {
     "name": "stderr",
     "output_type": "stream",
     "text": [
      "\u001b[1m\u001b[36mINFO: \u001b[39m\u001b[22m\u001b[36mv1.0 BED file detected\n",
      "\u001b[39m"
     ]
    },
    {
     "data": {
      "text/plain": [
       "212×253141 SnpArrays.SnpArray{2}:\n",
       " (true, true)  (true, true)   …  (true, true)    (false, false)\n",
       " (true, true)  (true, true)      (true, true)    (false, false)\n",
       " (true, true)  (true, true)      (true, true)    (false, false)\n",
       " (true, true)  (true, true)      (true, true)    (false, false)\n",
       " (true, true)  (true, true)      (true, true)    (false, false)\n",
       " (true, true)  (true, true)   …  (false, false)  (true, true)  \n",
       " (true, true)  (false, true)     (false, false)  (true, true)  \n",
       " (true, true)  (true, true)      (false, false)  (true, true)  \n",
       " (true, true)  (false, true)     (false, false)  (true, true)  \n",
       " (true, true)  (true, true)      (false, false)  (true, true)  \n",
       " (true, true)  (false, true)  …  (false, false)  (true, true)  \n",
       " (true, true)  (false, true)     (false, false)  (true, true)  \n",
       " (true, true)  (false, true)     (false, false)  (true, true)  \n",
       " ⋮                            ⋱                  ⋮             \n",
       " (true, true)  (false, true)  …  (true, true)    (false, false)\n",
       " (true, true)  (true, true)      (false, true)   (false, true) \n",
       " (true, true)  (true, true)      (true, true)    (false, false)\n",
       " (true, true)  (true, true)      (true, true)    (false, false)\n",
       " (true, true)  (true, true)      (true, true)    (false, false)\n",
       " (true, true)  (true, true)   …  (false, true)   (false, false)\n",
       " (true, true)  (true, true)      (false, true)   (false, true) \n",
       " (true, true)  (true, true)      (true, true)    (false, false)\n",
       " (true, true)  (false, true)     (false, true)   (false, true) \n",
       " (true, true)  (true, true)      (true, true)    (false, false)\n",
       " (true, true)  (true, true)   …  (true, true)    (false, false)\n",
       " (true, true)  (true, true)      (false, true)   (false, true) "
      ]
     },
     "execution_count": 52,
     "metadata": {},
     "output_type": "execute_result"
    }
   ],
   "source": [
    "snpbin28_3 = SnpArray(\"SNP_data28d_trait3.bed\"; people = size(ped28_3, 1), snps = size(snpdef28_3, 1))"
   ]
  },
  {
   "cell_type": "code",
   "execution_count": 53,
   "metadata": {},
   "outputs": [
    {
     "data": {
      "text/plain": [
       "212×212 Array{Float64,2}:\n",
       "  0.488859      0.00422798    0.00978752   …   0.0187809     0.000152741\n",
       "  0.00422798    0.515141     -0.0190676       -0.0220944    -0.0162381  \n",
       "  0.00978752   -0.0190676     0.489156        -0.0143552    -0.00392193 \n",
       "  0.241927     -0.00231651    0.266756         0.00264766   -0.00334162 \n",
       "  0.124909      0.265109      0.12103         -0.0118053    -0.00641433 \n",
       " -0.0121766    -0.000271784  -0.00316506   …  -0.000629837   0.0103776  \n",
       " -0.011988      0.00845464   -0.00950518      -0.0105435     0.000340285\n",
       " -0.0134368    -0.00713175   -0.0101011       -0.0115942    -0.00288935 \n",
       " -0.0234305    -0.00241126   -0.010413         0.000129339   0.0166282  \n",
       " -0.0121471     0.00305141   -0.00754556      -0.0104162     0.00554306 \n",
       " -0.0128464     0.010258      0.00110475   …  -0.00424998    0.0124296  \n",
       " -0.0111854     0.00423488   -0.0117065       -0.0244977    -0.00698659 \n",
       " -0.0124607    -0.00575043   -0.0124951       -0.00573017   -0.0103429  \n",
       "  ⋮                                        ⋱   ⋮                        \n",
       " -0.0170331    -0.0136246    -0.00834008   …  -0.00761561   -0.012038   \n",
       " -0.0100435    -0.00757905   -0.00879137       0.0151941     0.00464083 \n",
       " -0.0119478    -0.011707     -0.0119966       -0.00531199   -0.0233153  \n",
       " -0.00406636    0.00823632    0.00260479       0.00329892    0.00873774 \n",
       " -0.00215359    0.0120041    -0.002889        -0.00294264   -0.00290955 \n",
       "  0.00353341   -0.00200184   -0.00346206   …   0.0240445     0.0224584  \n",
       " -0.0132247    -0.00736188    0.000399022     -0.0115962     0.00801023 \n",
       "  0.0136135     0.014919      0.0146852        0.00611176    0.00984425 \n",
       " -0.00763248   -0.00216137    0.0227918        0.00711085   -0.0159608  \n",
       "  0.000154845  -0.0142528     0.0109832        0.00490078    0.00924588 \n",
       "  0.0187809    -0.0220944    -0.0143552    …   0.556933      0.0380902  \n",
       "  0.000152741  -0.0162381    -0.00392193       0.0380902     0.502935   "
      ]
     },
     "execution_count": 53,
     "metadata": {},
     "output_type": "execute_result"
    }
   ],
   "source": [
    "Î¦grm_snp28_3 = grm(snpbin28_3)"
   ]
  },
  {
   "cell_type": "markdown",
   "metadata": {},
   "source": [
    "Now instead of using the actual IV we use a SNP that is in LD with the IV."
   ]
  },
  {
   "cell_type": "code",
   "execution_count": 61,
   "metadata": {},
   "outputs": [
    {
     "data": {
      "text/plain": [
       "236082"
      ]
     },
     "execution_count": 61,
     "metadata": {},
     "output_type": "execute_result"
    }
   ],
   "source": [
    "ind_rs7255584 = find(x -> x == \"rs7255584\", snpid)[1]"
   ]
  },
  {
   "cell_type": "code",
   "execution_count": 62,
   "metadata": {},
   "outputs": [
    {
     "data": {
      "text/plain": [
       "212-element Array{Float64,1}:\n",
       " 1.0\n",
       " 0.0\n",
       " 0.0\n",
       " 0.0\n",
       " 0.0\n",
       " 1.0\n",
       " 0.0\n",
       " 1.0\n",
       " 0.0\n",
       " 0.0\n",
       " 0.0\n",
       " 0.0\n",
       " 1.0\n",
       " ⋮  \n",
       " 0.0\n",
       " 0.0\n",
       " 0.0\n",
       " 0.0\n",
       " 1.0\n",
       " 0.0\n",
       " 0.0\n",
       " 1.0\n",
       " 0.0\n",
       " 0.0\n",
       " 0.0\n",
       " 0.0"
      ]
     },
     "execution_count": 62,
     "metadata": {},
     "output_type": "execute_result"
    }
   ],
   "source": [
    "snp_rs7255584_3 = convert(Array{Float64,1}, snpbin28_3[:, ind_rs7255584])"
   ]
  },
  {
   "cell_type": "markdown",
   "metadata": {},
   "source": [
    "## Example 3 Mendelian Randomization VCM:"
   ]
  },
  {
   "cell_type": "code",
   "execution_count": 63,
   "metadata": {},
   "outputs": [
    {
     "name": "stdout",
     "output_type": "stream",
     "text": [
      "MR direct effects (SE): 2.4467025863210314(40.916255981332085), Pvalue is 0.9523166681651045\n",
      "\n",
      "Exposure effect (SE) is: 0.13008389692292568(0.9573567708345674)\n",
      "\n",
      "Trait effect (SE) is: 0.31827660704004074(4.779415412555627)\n",
      "\n"
     ]
    },
    {
     "data": {
      "text/plain": [
       "(2.4467025863210314, 40.916255981332085)"
      ]
     },
     "execution_count": 63,
     "metadata": {},
     "output_type": "execute_result"
    }
   ],
   "source": [
    "MendelianRandomization(Y_3,[ones(length(Y_3),1) sex_3], snp_rs7255584_3, exp_3, Î¦grm_snp28_3)"
   ]
  },
  {
   "cell_type": "markdown",
   "metadata": {},
   "source": [
    "Note that the SNP effect on exposure (exposure effect) is weak. The SNP effect with the trait is also poorly estimated and so the estimate of the MR is underestimated. The true value is 5.0 units change in trait value for every 1.0 unit of exposure but the MR estimate is only half of that. "
   ]
  },
  {
   "cell_type": "markdown",
   "metadata": {},
   "source": [
    "## Example 3 Exposure Effect VCM:"
   ]
  },
  {
   "cell_type": "code",
   "execution_count": 64,
   "metadata": {},
   "outputs": [
    {
     "data": {
      "text/plain": [
       "(4.976393615287649, 0.021010620094895217)"
      ]
     },
     "execution_count": 64,
     "metadata": {},
     "output_type": "execute_result"
    }
   ],
   "source": [
    "###### Third Example Exposure Effect on Trait using VCM ####\n",
    "X = [ones(length(Y_3), 1) sex_3]\n",
    "exposure = exp_3\n",
    "outcome = Y_3\n",
    "ΦGRM = Î¦grm_snp28_3\n",
    "ExposureEffectVCM(outcome, X, exposure, ΦGRM)"
   ]
  }
 ],
 "metadata": {
  "kernelspec": {
   "display_name": "Julia 0.6.2",
   "language": "julia",
   "name": "julia-0.6"
  },
  "language_info": {
   "file_extension": ".jl",
   "mimetype": "application/julia",
   "name": "julia",
   "version": "0.6.2"
  },
  "toc": {
   "colors": {
    "hover_highlight": "#DAA520",
    "running_highlight": "#FF0000",
    "selected_highlight": "#FFD700"
   },
   "moveMenuLeft": true,
   "nav_menu": {
    "height": "30px",
    "width": "252px"
   },
   "navigate_menu": true,
   "number_sections": true,
   "sideBar": true,
   "threshold": 4,
   "toc_cell": false,
   "toc_section_display": "block",
   "toc_window_display": false,
   "widenNotebook": false
  }
 },
 "nbformat": 4,
 "nbformat_minor": 2
}
